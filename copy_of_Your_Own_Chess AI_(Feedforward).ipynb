{
  "nbformat": 4,
  "nbformat_minor": 0,
  "metadata": {
    "accelerator": "GPU",
    "colab": {
      "provenance": [],
      "collapsed_sections": [],
      "include_colab_link": true
    },
    "kernelspec": {
      "display_name": "Python 3",
      "name": "python3"
    },
    "language_info": {
      "name": "python"
    },
    "widgets": {
      "application/vnd.jupyter.widget-state+json": {
        "6af7a6cfe0ca4227a206c541547bb7cc": {
          "model_module": "@jupyter-widgets/controls",
          "model_name": "HBoxModel",
          "model_module_version": "1.5.0",
          "state": {
            "_dom_classes": [],
            "_model_module": "@jupyter-widgets/controls",
            "_model_module_version": "1.5.0",
            "_model_name": "HBoxModel",
            "_view_count": null,
            "_view_module": "@jupyter-widgets/controls",
            "_view_module_version": "1.5.0",
            "_view_name": "HBoxView",
            "box_style": "",
            "children": [
              "IPY_MODEL_690c8f8b27ea4dc89f8dcd7ffd7013ec",
              "IPY_MODEL_0932ea01365a4ae5920af7b37bd9d439",
              "IPY_MODEL_dc9ed1654875474d936f3e789d971c72"
            ],
            "layout": "IPY_MODEL_f94eb450269149bb89d7e2350409c304"
          }
        },
        "690c8f8b27ea4dc89f8dcd7ffd7013ec": {
          "model_module": "@jupyter-widgets/controls",
          "model_name": "HTMLModel",
          "model_module_version": "1.5.0",
          "state": {
            "_dom_classes": [],
            "_model_module": "@jupyter-widgets/controls",
            "_model_module_version": "1.5.0",
            "_model_name": "HTMLModel",
            "_view_count": null,
            "_view_module": "@jupyter-widgets/controls",
            "_view_module_version": "1.5.0",
            "_view_name": "HTMLView",
            "description": "",
            "description_tooltip": null,
            "layout": "IPY_MODEL_f5889f2c628a48a789178b2a58eb21e2",
            "placeholder": "​",
            "style": "IPY_MODEL_229639c71f0a4751b4ab4319870e50fd",
            "value": "Epoch 0:  14%"
          }
        },
        "0932ea01365a4ae5920af7b37bd9d439": {
          "model_module": "@jupyter-widgets/controls",
          "model_name": "FloatProgressModel",
          "model_module_version": "1.5.0",
          "state": {
            "_dom_classes": [],
            "_model_module": "@jupyter-widgets/controls",
            "_model_module_version": "1.5.0",
            "_model_name": "FloatProgressModel",
            "_view_count": null,
            "_view_module": "@jupyter-widgets/controls",
            "_view_module_version": "1.5.0",
            "_view_name": "ProgressView",
            "bar_style": "",
            "description": "",
            "description_tooltip": null,
            "layout": "IPY_MODEL_69cf63a48ef64b8cb39d19a3d436ac6c",
            "max": 977,
            "min": 0,
            "orientation": "horizontal",
            "style": "IPY_MODEL_2874eb3407d64c889a6c0364071e7501",
            "value": 134
          }
        },
        "dc9ed1654875474d936f3e789d971c72": {
          "model_module": "@jupyter-widgets/controls",
          "model_name": "HTMLModel",
          "model_module_version": "1.5.0",
          "state": {
            "_dom_classes": [],
            "_model_module": "@jupyter-widgets/controls",
            "_model_module_version": "1.5.0",
            "_model_name": "HTMLModel",
            "_view_count": null,
            "_view_module": "@jupyter-widgets/controls",
            "_view_module_version": "1.5.0",
            "_view_name": "HTMLView",
            "description": "",
            "description_tooltip": null,
            "layout": "IPY_MODEL_028053c4eb134179a8ec0f2d2474c3fe",
            "placeholder": "​",
            "style": "IPY_MODEL_cbcd37eda2a442d5bf7bd35450b70c48",
            "value": " 134/977 [1:11:28&lt;7:29:36, 32.00s/it, loss=2.99, v_num=nt-8]"
          }
        },
        "f94eb450269149bb89d7e2350409c304": {
          "model_module": "@jupyter-widgets/base",
          "model_name": "LayoutModel",
          "model_module_version": "1.2.0",
          "state": {
            "_model_module": "@jupyter-widgets/base",
            "_model_module_version": "1.2.0",
            "_model_name": "LayoutModel",
            "_view_count": null,
            "_view_module": "@jupyter-widgets/base",
            "_view_module_version": "1.2.0",
            "_view_name": "LayoutView",
            "align_content": null,
            "align_items": null,
            "align_self": null,
            "border": null,
            "bottom": null,
            "display": "inline-flex",
            "flex": null,
            "flex_flow": "row wrap",
            "grid_area": null,
            "grid_auto_columns": null,
            "grid_auto_flow": null,
            "grid_auto_rows": null,
            "grid_column": null,
            "grid_gap": null,
            "grid_row": null,
            "grid_template_areas": null,
            "grid_template_columns": null,
            "grid_template_rows": null,
            "height": null,
            "justify_content": null,
            "justify_items": null,
            "left": null,
            "margin": null,
            "max_height": null,
            "max_width": null,
            "min_height": null,
            "min_width": null,
            "object_fit": null,
            "object_position": null,
            "order": null,
            "overflow": null,
            "overflow_x": null,
            "overflow_y": null,
            "padding": null,
            "right": null,
            "top": null,
            "visibility": null,
            "width": "100%"
          }
        },
        "f5889f2c628a48a789178b2a58eb21e2": {
          "model_module": "@jupyter-widgets/base",
          "model_name": "LayoutModel",
          "model_module_version": "1.2.0",
          "state": {
            "_model_module": "@jupyter-widgets/base",
            "_model_module_version": "1.2.0",
            "_model_name": "LayoutModel",
            "_view_count": null,
            "_view_module": "@jupyter-widgets/base",
            "_view_module_version": "1.2.0",
            "_view_name": "LayoutView",
            "align_content": null,
            "align_items": null,
            "align_self": null,
            "border": null,
            "bottom": null,
            "display": null,
            "flex": null,
            "flex_flow": null,
            "grid_area": null,
            "grid_auto_columns": null,
            "grid_auto_flow": null,
            "grid_auto_rows": null,
            "grid_column": null,
            "grid_gap": null,
            "grid_row": null,
            "grid_template_areas": null,
            "grid_template_columns": null,
            "grid_template_rows": null,
            "height": null,
            "justify_content": null,
            "justify_items": null,
            "left": null,
            "margin": null,
            "max_height": null,
            "max_width": null,
            "min_height": null,
            "min_width": null,
            "object_fit": null,
            "object_position": null,
            "order": null,
            "overflow": null,
            "overflow_x": null,
            "overflow_y": null,
            "padding": null,
            "right": null,
            "top": null,
            "visibility": null,
            "width": null
          }
        },
        "229639c71f0a4751b4ab4319870e50fd": {
          "model_module": "@jupyter-widgets/controls",
          "model_name": "DescriptionStyleModel",
          "model_module_version": "1.5.0",
          "state": {
            "_model_module": "@jupyter-widgets/controls",
            "_model_module_version": "1.5.0",
            "_model_name": "DescriptionStyleModel",
            "_view_count": null,
            "_view_module": "@jupyter-widgets/base",
            "_view_module_version": "1.2.0",
            "_view_name": "StyleView",
            "description_width": ""
          }
        },
        "69cf63a48ef64b8cb39d19a3d436ac6c": {
          "model_module": "@jupyter-widgets/base",
          "model_name": "LayoutModel",
          "model_module_version": "1.2.0",
          "state": {
            "_model_module": "@jupyter-widgets/base",
            "_model_module_version": "1.2.0",
            "_model_name": "LayoutModel",
            "_view_count": null,
            "_view_module": "@jupyter-widgets/base",
            "_view_module_version": "1.2.0",
            "_view_name": "LayoutView",
            "align_content": null,
            "align_items": null,
            "align_self": null,
            "border": null,
            "bottom": null,
            "display": null,
            "flex": "2",
            "flex_flow": null,
            "grid_area": null,
            "grid_auto_columns": null,
            "grid_auto_flow": null,
            "grid_auto_rows": null,
            "grid_column": null,
            "grid_gap": null,
            "grid_row": null,
            "grid_template_areas": null,
            "grid_template_columns": null,
            "grid_template_rows": null,
            "height": null,
            "justify_content": null,
            "justify_items": null,
            "left": null,
            "margin": null,
            "max_height": null,
            "max_width": null,
            "min_height": null,
            "min_width": null,
            "object_fit": null,
            "object_position": null,
            "order": null,
            "overflow": null,
            "overflow_x": null,
            "overflow_y": null,
            "padding": null,
            "right": null,
            "top": null,
            "visibility": null,
            "width": null
          }
        },
        "2874eb3407d64c889a6c0364071e7501": {
          "model_module": "@jupyter-widgets/controls",
          "model_name": "ProgressStyleModel",
          "model_module_version": "1.5.0",
          "state": {
            "_model_module": "@jupyter-widgets/controls",
            "_model_module_version": "1.5.0",
            "_model_name": "ProgressStyleModel",
            "_view_count": null,
            "_view_module": "@jupyter-widgets/base",
            "_view_module_version": "1.2.0",
            "_view_name": "StyleView",
            "bar_color": null,
            "description_width": ""
          }
        },
        "028053c4eb134179a8ec0f2d2474c3fe": {
          "model_module": "@jupyter-widgets/base",
          "model_name": "LayoutModel",
          "model_module_version": "1.2.0",
          "state": {
            "_model_module": "@jupyter-widgets/base",
            "_model_module_version": "1.2.0",
            "_model_name": "LayoutModel",
            "_view_count": null,
            "_view_module": "@jupyter-widgets/base",
            "_view_module_version": "1.2.0",
            "_view_name": "LayoutView",
            "align_content": null,
            "align_items": null,
            "align_self": null,
            "border": null,
            "bottom": null,
            "display": null,
            "flex": null,
            "flex_flow": null,
            "grid_area": null,
            "grid_auto_columns": null,
            "grid_auto_flow": null,
            "grid_auto_rows": null,
            "grid_column": null,
            "grid_gap": null,
            "grid_row": null,
            "grid_template_areas": null,
            "grid_template_columns": null,
            "grid_template_rows": null,
            "height": null,
            "justify_content": null,
            "justify_items": null,
            "left": null,
            "margin": null,
            "max_height": null,
            "max_width": null,
            "min_height": null,
            "min_width": null,
            "object_fit": null,
            "object_position": null,
            "order": null,
            "overflow": null,
            "overflow_x": null,
            "overflow_y": null,
            "padding": null,
            "right": null,
            "top": null,
            "visibility": null,
            "width": null
          }
        },
        "cbcd37eda2a442d5bf7bd35450b70c48": {
          "model_module": "@jupyter-widgets/controls",
          "model_name": "DescriptionStyleModel",
          "model_module_version": "1.5.0",
          "state": {
            "_model_module": "@jupyter-widgets/controls",
            "_model_module_version": "1.5.0",
            "_model_name": "DescriptionStyleModel",
            "_view_count": null,
            "_view_module": "@jupyter-widgets/base",
            "_view_module_version": "1.2.0",
            "_view_name": "StyleView",
            "description_width": ""
          }
        }
      }
    }
  },
  "cells": [
    {
      "cell_type": "markdown",
      "metadata": {
        "id": "view-in-github",
        "colab_type": "text"
      },
      "source": [
        "<a href=\"https://colab.research.google.com/github/No-sign/Deep-pro/blob/main/copy_of_Your_Own_Chess%C2%A0AI_(Feedforward).ipynb\" target=\"_parent\"><img src=\"https://colab.research.google.com/assets/colab-badge.svg\" alt=\"Open In Colab\"/></a>"
      ]
    },
    {
      "cell_type": "code",
      "metadata": {
        "colab": {
          "base_uri": "https://localhost:8080/"
        },
        "id": "fj46oVzS9111",
        "outputId": "9ac8ee39-5d51-4fc2-91af-c41e0c3716b3"
      },
      "source": [
        "!pip install peewee pytorch-lightning\n",
        "!wget https://storage.googleapis.com/chesspic/datasets/2021-07-31-lichess-evaluations-37MM.db.gz\n",
        "!gzip -d \"2021-07-31-lichess-evaluations-37MM.db.gz\"\n",
        "!rm \"2021-07-31-lichess-evaluations-37MM.db.gz\""
      ],
      "execution_count": null,
      "outputs": [
        {
          "output_type": "stream",
          "name": "stdout",
          "text": [
            "Looking in indexes: https://pypi.org/simple, https://us-python.pkg.dev/colab-wheels/public/simple/\n",
            "Requirement already satisfied: peewee in /usr/local/lib/python3.7/dist-packages (3.15.4)\n",
            "Requirement already satisfied: pytorch-lightning in /usr/local/lib/python3.7/dist-packages (1.8.1)\n",
            "Requirement already satisfied: numpy>=1.17.2 in /usr/local/lib/python3.7/dist-packages (from pytorch-lightning) (1.21.6)\n",
            "Requirement already satisfied: torchmetrics>=0.7.0 in /usr/local/lib/python3.7/dist-packages (from pytorch-lightning) (0.10.2)\n",
            "Requirement already satisfied: typing-extensions>=4.0.0 in /usr/local/lib/python3.7/dist-packages (from pytorch-lightning) (4.1.1)\n",
            "Requirement already satisfied: PyYAML>=5.4 in /usr/local/lib/python3.7/dist-packages (from pytorch-lightning) (6.0)\n",
            "Requirement already satisfied: torch>=1.9.* in /usr/local/lib/python3.7/dist-packages (from pytorch-lightning) (1.12.1+cu113)\n",
            "Requirement already satisfied: packaging>=17.0 in /usr/local/lib/python3.7/dist-packages (from pytorch-lightning) (21.3)\n",
            "Requirement already satisfied: tqdm>=4.57.0 in /usr/local/lib/python3.7/dist-packages (from pytorch-lightning) (4.64.1)\n",
            "Requirement already satisfied: fsspec[http]>2021.06.0 in /usr/local/lib/python3.7/dist-packages (from pytorch-lightning) (2022.10.0)\n",
            "Requirement already satisfied: lightning-utilities==0.3.* in /usr/local/lib/python3.7/dist-packages (from pytorch-lightning) (0.3.0)\n",
            "Requirement already satisfied: tensorboard>=2.9.1 in /usr/local/lib/python3.7/dist-packages (from pytorch-lightning) (2.9.1)\n",
            "Requirement already satisfied: fire in /usr/local/lib/python3.7/dist-packages (from lightning-utilities==0.3.*->pytorch-lightning) (0.4.0)\n",
            "Requirement already satisfied: requests in /usr/local/lib/python3.7/dist-packages (from fsspec[http]>2021.06.0->pytorch-lightning) (2.23.0)\n",
            "Requirement already satisfied: aiohttp!=4.0.0a0,!=4.0.0a1 in /usr/local/lib/python3.7/dist-packages (from fsspec[http]>2021.06.0->pytorch-lightning) (3.8.3)\n",
            "Requirement already satisfied: yarl<2.0,>=1.0 in /usr/local/lib/python3.7/dist-packages (from aiohttp!=4.0.0a0,!=4.0.0a1->fsspec[http]>2021.06.0->pytorch-lightning) (1.8.1)\n",
            "Requirement already satisfied: multidict<7.0,>=4.5 in /usr/local/lib/python3.7/dist-packages (from aiohttp!=4.0.0a0,!=4.0.0a1->fsspec[http]>2021.06.0->pytorch-lightning) (6.0.2)\n",
            "Requirement already satisfied: aiosignal>=1.1.2 in /usr/local/lib/python3.7/dist-packages (from aiohttp!=4.0.0a0,!=4.0.0a1->fsspec[http]>2021.06.0->pytorch-lightning) (1.3.1)\n",
            "Requirement already satisfied: attrs>=17.3.0 in /usr/local/lib/python3.7/dist-packages (from aiohttp!=4.0.0a0,!=4.0.0a1->fsspec[http]>2021.06.0->pytorch-lightning) (22.1.0)\n",
            "Requirement already satisfied: charset-normalizer<3.0,>=2.0 in /usr/local/lib/python3.7/dist-packages (from aiohttp!=4.0.0a0,!=4.0.0a1->fsspec[http]>2021.06.0->pytorch-lightning) (2.1.1)\n",
            "Requirement already satisfied: frozenlist>=1.1.1 in /usr/local/lib/python3.7/dist-packages (from aiohttp!=4.0.0a0,!=4.0.0a1->fsspec[http]>2021.06.0->pytorch-lightning) (1.3.3)\n",
            "Requirement already satisfied: async-timeout<5.0,>=4.0.0a3 in /usr/local/lib/python3.7/dist-packages (from aiohttp!=4.0.0a0,!=4.0.0a1->fsspec[http]>2021.06.0->pytorch-lightning) (4.0.2)\n",
            "Requirement already satisfied: asynctest==0.13.0 in /usr/local/lib/python3.7/dist-packages (from aiohttp!=4.0.0a0,!=4.0.0a1->fsspec[http]>2021.06.0->pytorch-lightning) (0.13.0)\n",
            "Requirement already satisfied: pyparsing!=3.0.5,>=2.0.2 in /usr/local/lib/python3.7/dist-packages (from packaging>=17.0->pytorch-lightning) (3.0.9)\n",
            "Requirement already satisfied: google-auth-oauthlib<0.5,>=0.4.1 in /usr/local/lib/python3.7/dist-packages (from tensorboard>=2.9.1->pytorch-lightning) (0.4.6)\n",
            "Requirement already satisfied: wheel>=0.26 in /usr/local/lib/python3.7/dist-packages (from tensorboard>=2.9.1->pytorch-lightning) (0.38.3)\n",
            "Requirement already satisfied: google-auth<3,>=1.6.3 in /usr/local/lib/python3.7/dist-packages (from tensorboard>=2.9.1->pytorch-lightning) (2.14.1)\n",
            "Requirement already satisfied: werkzeug>=1.0.1 in /usr/local/lib/python3.7/dist-packages (from tensorboard>=2.9.1->pytorch-lightning) (1.0.1)\n",
            "Requirement already satisfied: markdown>=2.6.8 in /usr/local/lib/python3.7/dist-packages (from tensorboard>=2.9.1->pytorch-lightning) (3.4.1)\n",
            "Requirement already satisfied: tensorboard-data-server<0.7.0,>=0.6.0 in /usr/local/lib/python3.7/dist-packages (from tensorboard>=2.9.1->pytorch-lightning) (0.6.1)\n",
            "Requirement already satisfied: grpcio>=1.24.3 in /usr/local/lib/python3.7/dist-packages (from tensorboard>=2.9.1->pytorch-lightning) (1.50.0)\n",
            "Requirement already satisfied: absl-py>=0.4 in /usr/local/lib/python3.7/dist-packages (from tensorboard>=2.9.1->pytorch-lightning) (1.3.0)\n",
            "Requirement already satisfied: tensorboard-plugin-wit>=1.6.0 in /usr/local/lib/python3.7/dist-packages (from tensorboard>=2.9.1->pytorch-lightning) (1.8.1)\n",
            "Requirement already satisfied: protobuf<3.20,>=3.9.2 in /usr/local/lib/python3.7/dist-packages (from tensorboard>=2.9.1->pytorch-lightning) (3.19.6)\n",
            "Requirement already satisfied: setuptools>=41.0.0 in /usr/local/lib/python3.7/dist-packages (from tensorboard>=2.9.1->pytorch-lightning) (57.4.0)\n",
            "Requirement already satisfied: rsa<5,>=3.1.4 in /usr/local/lib/python3.7/dist-packages (from google-auth<3,>=1.6.3->tensorboard>=2.9.1->pytorch-lightning) (4.9)\n",
            "Requirement already satisfied: six>=1.9.0 in /usr/local/lib/python3.7/dist-packages (from google-auth<3,>=1.6.3->tensorboard>=2.9.1->pytorch-lightning) (1.15.0)\n",
            "Requirement already satisfied: pyasn1-modules>=0.2.1 in /usr/local/lib/python3.7/dist-packages (from google-auth<3,>=1.6.3->tensorboard>=2.9.1->pytorch-lightning) (0.2.8)\n",
            "Requirement already satisfied: cachetools<6.0,>=2.0.0 in /usr/local/lib/python3.7/dist-packages (from google-auth<3,>=1.6.3->tensorboard>=2.9.1->pytorch-lightning) (5.2.0)\n",
            "Requirement already satisfied: requests-oauthlib>=0.7.0 in /usr/local/lib/python3.7/dist-packages (from google-auth-oauthlib<0.5,>=0.4.1->tensorboard>=2.9.1->pytorch-lightning) (1.3.1)\n",
            "Requirement already satisfied: importlib-metadata>=4.4 in /usr/local/lib/python3.7/dist-packages (from markdown>=2.6.8->tensorboard>=2.9.1->pytorch-lightning) (4.13.0)\n",
            "Requirement already satisfied: zipp>=0.5 in /usr/local/lib/python3.7/dist-packages (from importlib-metadata>=4.4->markdown>=2.6.8->tensorboard>=2.9.1->pytorch-lightning) (3.10.0)\n",
            "Requirement already satisfied: pyasn1<0.5.0,>=0.4.6 in /usr/local/lib/python3.7/dist-packages (from pyasn1-modules>=0.2.1->google-auth<3,>=1.6.3->tensorboard>=2.9.1->pytorch-lightning) (0.4.8)\n",
            "Requirement already satisfied: chardet<4,>=3.0.2 in /usr/local/lib/python3.7/dist-packages (from requests->fsspec[http]>2021.06.0->pytorch-lightning) (3.0.4)\n",
            "Requirement already satisfied: certifi>=2017.4.17 in /usr/local/lib/python3.7/dist-packages (from requests->fsspec[http]>2021.06.0->pytorch-lightning) (2022.9.24)\n",
            "Requirement already satisfied: urllib3!=1.25.0,!=1.25.1,<1.26,>=1.21.1 in /usr/local/lib/python3.7/dist-packages (from requests->fsspec[http]>2021.06.0->pytorch-lightning) (1.24.3)\n",
            "Requirement already satisfied: idna<3,>=2.5 in /usr/local/lib/python3.7/dist-packages (from requests->fsspec[http]>2021.06.0->pytorch-lightning) (2.10)\n",
            "Requirement already satisfied: oauthlib>=3.0.0 in /usr/local/lib/python3.7/dist-packages (from requests-oauthlib>=0.7.0->google-auth-oauthlib<0.5,>=0.4.1->tensorboard>=2.9.1->pytorch-lightning) (3.2.2)\n",
            "Requirement already satisfied: termcolor in /usr/local/lib/python3.7/dist-packages (from fire->lightning-utilities==0.3.*->pytorch-lightning) (2.1.0)\n",
            "--2022-11-12 09:14:15--  https://storage.googleapis.com/chesspic/datasets/2021-07-31-lichess-evaluations-37MM.db.gz\n",
            "Resolving storage.googleapis.com (storage.googleapis.com)... 74.125.197.128, 74.125.142.128, 74.125.195.128, ...\n",
            "Connecting to storage.googleapis.com (storage.googleapis.com)|74.125.197.128|:443... connected.\n",
            "HTTP request sent, awaiting response... 200 OK\n",
            "Length: 1404305784 (1.3G) [application/x-gzip]\n",
            "Saving to: ‘2021-07-31-lichess-evaluations-37MM.db.gz’\n",
            "\n",
            "2021-07-31-lichess- 100%[===================>]   1.31G   221MB/s    in 6.4s    \n",
            "\n",
            "2022-11-12 09:14:22 (210 MB/s) - ‘2021-07-31-lichess-evaluations-37MM.db.gz’ saved [1404305784/1404305784]\n",
            "\n",
            "gzip: 2021-07-31-lichess-evaluations-37MM.db already exists; do you wish to overwrite (y or n)? n\n",
            "\tnot overwritten\n"
          ]
        }
      ]
    },
    {
      "cell_type": "code",
      "metadata": {
        "colab": {
          "base_uri": "https://localhost:8080/"
        },
        "id": "REACys1y6Y8s",
        "outputId": "4c1bd6bc-e855-4efb-f656-51fa188239a8"
      },
      "source": [
        "from peewee import *\n",
        "import base64\n",
        "\n",
        "db = SqliteDatabase('2021-07-31-lichess-evaluations-37MM.db')\n",
        "\n",
        "class Evaluations(Model):\n",
        "  id = IntegerField()\n",
        "  fen = TextField()\n",
        "  binary = BlobField()\n",
        "  eval = FloatField()\n",
        "\n",
        "  class Meta:\n",
        "    database = db\n",
        "\n",
        "  def binary_base64(self):\n",
        "    return base64.b64encode(self.binary)\n",
        "db.connect()\n",
        "LABEL_COUNT = 37000000\n",
        "print(LABEL_COUNT)\n",
        "eval = Evaluations.get(Evaluations.id == 1)\n",
        "print(eval.binary_base64())"
      ],
      "execution_count": null,
      "outputs": [
        {
          "output_type": "stream",
          "name": "stdout",
          "text": [
            "1000000\n",
            "b'CAAAAAAAAAAQAAAAAAAAAIEAAAAAAAAAJAAAAAAAAABCAAAAAAAAAADvABAAAAAAAAAAAAAAAAgAAAAAAAAAEAAAAAAAAACBAAAAAAAAACQAAAAAAAAAQgAAAAAAAP8AAAABEz8='\n"
          ]
        }
      ]
    },
    {
      "cell_type": "code",
      "metadata": {
        "id": "WnS-mVMM_ZfZ"
      },
      "source": [
        "import os\n",
        "import torch\n",
        "import numpy as np\n",
        "from torch import nn\n",
        "import torch.nn.functional as F\n",
        "from torch.utils.data import Dataset, DataLoader, IterableDataset, random_split\n",
        "import pytorch_lightning as pl\n",
        "from random import randrange\n",
        "\n",
        "class EvaluationDataset(IterableDataset):\n",
        "  def __init__(self, count):\n",
        "    self.count = count\n",
        "  def __iter__(self):\n",
        "    return self\n",
        "  def __next__(self):\n",
        "    idx = randrange(self.count)\n",
        "    return self[idx]\n",
        "  def __len__(self):\n",
        "    return self.count\n",
        "  def __getitem__(self, idx):\n",
        "    eval = Evaluations.get(Evaluations.id == idx+1)\n",
        "    bin = np.frombuffer(eval.binary, dtype=np.uint8)\n",
        "    bin = np.unpackbits(bin, axis=0).astype(np.single) \n",
        "    eval.eval = max(eval.eval, -15)\n",
        "    eval.eval = min(eval.eval, 15)\n",
        "    ev = np.array([eval.eval]).astype(np.single) \n",
        "    return {'binary':bin, 'eval':ev}    \n",
        "\n",
        "dataset = EvaluationDataset(count=LABEL_COUNT)"
      ],
      "execution_count": null,
      "outputs": []
    },
    {
      "cell_type": "code",
      "metadata": {
        "id": "mSfJx8hlLIiQ",
        "colab": {
          "base_uri": "https://localhost:8080/"
        },
        "outputId": "fc4e0785-d854-47d9-b855-56401d726640"
      },
      "source": [
        "# Start tensorboard.\n",
        "# %reload_ext tensorboard\n",
        "# %tensorboard --logdir lightning_logs/"
      ],
      "execution_count": null,
      "outputs": [
        {
          "output_type": "stream",
          "name": "stdout",
          "text": [
            "{'binary': array([0., 0., 0., 0., 1., 0., 0., 0., 0., 0., 0., 0., 0., 0., 0., 0., 0.,\n",
            "       0., 0., 0., 0., 0., 0., 0., 0., 0., 0., 0., 0., 0., 0., 0., 0., 0.,\n",
            "       0., 0., 0., 0., 0., 0., 0., 0., 0., 0., 0., 0., 0., 0., 0., 0., 0.,\n",
            "       0., 0., 0., 0., 0., 0., 0., 0., 0., 0., 0., 0., 0., 0., 0., 0., 1.,\n",
            "       0., 0., 0., 0., 0., 0., 0., 0., 0., 0., 0., 0., 0., 0., 0., 0., 0.,\n",
            "       0., 0., 0., 0., 0., 0., 0., 0., 0., 0., 0., 0., 0., 0., 0., 0., 0.,\n",
            "       0., 0., 0., 0., 0., 0., 0., 0., 0., 0., 0., 0., 0., 0., 0., 0., 0.,\n",
            "       0., 0., 0., 0., 0., 0., 0., 0., 0., 1., 0., 0., 0., 0., 0., 0., 1.,\n",
            "       0., 0., 0., 0., 0., 0., 0., 0., 0., 0., 0., 0., 0., 0., 0., 0., 0.,\n",
            "       0., 0., 0., 0., 0., 0., 0., 0., 0., 0., 0., 0., 0., 0., 0., 0., 0.,\n",
            "       0., 0., 0., 0., 0., 0., 0., 0., 0., 0., 0., 0., 0., 0., 0., 0., 0.,\n",
            "       0., 0., 0., 0., 0., 0., 0., 1., 0., 0., 1., 0., 0., 0., 0., 0., 0.,\n",
            "       0., 0., 0., 0., 0., 0., 0., 0., 0., 0., 0., 0., 0., 0., 0., 0., 0.,\n",
            "       0., 0., 0., 0., 0., 0., 0., 0., 0., 0., 0., 0., 0., 0., 0., 0., 0.,\n",
            "       0., 0., 0., 0., 0., 0., 0., 0., 0., 0., 0., 0., 0., 0., 0., 0., 0.,\n",
            "       0., 0., 1., 0., 0., 0., 0., 1., 0., 0., 0., 0., 0., 0., 0., 0., 0.,\n",
            "       0., 0., 0., 0., 0., 0., 0., 0., 0., 0., 0., 0., 0., 0., 0., 0., 0.,\n",
            "       0., 0., 0., 0., 0., 0., 0., 0., 0., 0., 0., 0., 0., 0., 0., 0., 0.,\n",
            "       0., 0., 0., 0., 0., 0., 0., 0., 0., 0., 0., 0., 0., 0., 0., 0., 0.,\n",
            "       0., 0., 0., 0., 0., 1., 1., 1., 0., 1., 1., 1., 1., 0., 0., 0., 0.,\n",
            "       0., 0., 0., 0., 0., 0., 0., 1., 0., 0., 0., 0., 0., 0., 0., 0., 0.,\n",
            "       0., 0., 0., 0., 0., 0., 0., 0., 0., 0., 0., 0., 0., 0., 0., 0., 0.,\n",
            "       0., 0., 0., 0., 0., 0., 0., 0., 0., 0., 0., 0., 0., 0., 0., 0., 0.,\n",
            "       0., 0., 0., 0., 0., 0., 0., 0., 0., 0., 0., 0., 0., 0., 0., 0., 0.,\n",
            "       0., 0., 0., 0., 0., 0., 0., 0., 0., 0., 0., 0., 0., 0., 0., 0., 0.,\n",
            "       0., 0., 0., 0., 0., 0., 0., 0., 0., 0., 0., 0., 0., 0., 0., 0., 0.,\n",
            "       0., 0., 1., 0., 0., 0., 0., 0., 0., 0., 0., 0., 0., 0., 0., 0., 0.,\n",
            "       0., 0., 0., 0., 0., 0., 0., 0., 0., 0., 0., 0., 0., 0., 0., 0., 0.,\n",
            "       0., 0., 0., 0., 0., 0., 0., 0., 0., 0., 0., 0., 0., 0., 0., 0., 0.,\n",
            "       0., 0., 0., 0., 0., 0., 0., 0., 0., 0., 0., 0., 0., 0., 1., 0., 0.,\n",
            "       0., 0., 0., 0., 0., 0., 0., 0., 0., 0., 0., 0., 0., 0., 0., 0., 0.,\n",
            "       0., 0., 0., 0., 0., 0., 0., 0., 0., 0., 0., 0., 0., 0., 0., 0., 0.,\n",
            "       0., 0., 0., 0., 0., 0., 0., 0., 0., 0., 0., 0., 0., 0., 0., 0., 0.,\n",
            "       0., 0., 0., 0., 0., 0., 0., 1., 0., 0., 0., 0., 0., 0., 1., 0., 0.,\n",
            "       0., 0., 0., 0., 0., 0., 0., 0., 0., 0., 0., 0., 0., 0., 0., 0., 0.,\n",
            "       0., 0., 0., 0., 0., 0., 0., 0., 0., 0., 0., 0., 0., 0., 0., 0., 0.,\n",
            "       0., 0., 0., 0., 0., 0., 0., 0., 0., 0., 0., 0., 0., 0., 0., 0., 0.,\n",
            "       0., 0., 0., 0., 0., 1., 0., 0., 1., 0., 0., 0., 0., 0., 0., 0., 0.,\n",
            "       0., 0., 0., 0., 0., 0., 0., 0., 0., 0., 0., 0., 0., 0., 0., 0., 0.,\n",
            "       0., 0., 0., 0., 0., 0., 0., 0., 0., 0., 0., 0., 0., 0., 0., 0., 0.,\n",
            "       0., 0., 0., 0., 0., 0., 0., 0., 0., 0., 0., 0., 0., 0., 0., 0., 0.,\n",
            "       1., 0., 0., 0., 0., 1., 0., 0., 0., 0., 0., 0., 0., 0., 0., 0., 0.,\n",
            "       0., 0., 0., 0., 0., 0., 0., 0., 0., 0., 0., 0., 0., 0., 0., 0., 0.,\n",
            "       0., 0., 0., 0., 0., 0., 0., 0., 0., 0., 0., 0., 0., 0., 0., 0., 0.,\n",
            "       0., 0., 0., 0., 1., 1., 1., 1., 1., 1., 1., 1., 0., 0., 0., 0., 0.,\n",
            "       0., 0., 0., 0., 0., 0., 0., 0., 0., 0., 0., 0., 0., 0., 0., 0., 0.,\n",
            "       0., 0., 0., 0., 0., 0., 0., 0., 0., 1., 0., 0., 0., 1., 0., 0., 1.,\n",
            "       1., 0., 0., 1., 1., 1., 1., 1., 1.], dtype=float32), 'eval': array([0.], dtype=float32)}\n"
          ]
        }
      ]
    },
    {
      "cell_type": "code",
      "metadata": {
        "id": "ytOPoXcbDbMM",
        "colab": {
          "base_uri": "https://localhost:8080/",
          "height": 520,
          "referenced_widgets": [
            "6af7a6cfe0ca4227a206c541547bb7cc",
            "690c8f8b27ea4dc89f8dcd7ffd7013ec",
            "0932ea01365a4ae5920af7b37bd9d439",
            "dc9ed1654875474d936f3e789d971c72",
            "f94eb450269149bb89d7e2350409c304",
            "f5889f2c628a48a789178b2a58eb21e2",
            "229639c71f0a4751b4ab4319870e50fd",
            "69cf63a48ef64b8cb39d19a3d436ac6c",
            "2874eb3407d64c889a6c0364071e7501",
            "028053c4eb134179a8ec0f2d2474c3fe",
            "cbcd37eda2a442d5bf7bd35450b70c48"
          ]
        },
        "outputId": "8135d2b1-d371-4965-feff-b622cb017b4d"
      },
      "source": [
        "import time\n",
        "from collections import OrderedDict\n",
        "\n",
        "class EvaluationModel(pl.LightningModule):\n",
        "  def __init__(self,learning_rate=1e-3,batch_size=1024,layer_count=10):\n",
        "    super().__init__()\n",
        "    self.batch_size = batch_size\n",
        "    self.learning_rate = learning_rate\n",
        "    layers = []\n",
        "    for i in range(layer_count-1):\n",
        "      layers.append((f\"linear-{i}\", nn.Linear(808, 808)))\n",
        "      layers.append((f\"relu-{i}\", nn.ReLU()))\n",
        "    layers.append((f\"linear-{layer_count-1}\", nn.Linear(808, 1)))\n",
        "    self.seq = nn.Sequential(OrderedDict(layers))\n",
        "\n",
        "  def forward(self, x):\n",
        "    return self.seq(x)\n",
        "\n",
        "  def training_step(self, batch, batch_idx):\n",
        "    x, y = batch['binary'], batch['eval']\n",
        "    y_hat = self(x)\n",
        "    loss = F.l1_loss(y_hat, y)\n",
        "    self.log(\"train_loss\", loss)\n",
        "    return loss\n",
        "\n",
        "  def configure_optimizers(self):\n",
        "    return torch.optim.Adam(self.parameters(), lr=self.learning_rate)\n",
        "\n",
        "  def train_dataloader(self):\n",
        "    dataset = EvaluationDataset(count=LABEL_COUNT)\n",
        "    return DataLoader(dataset, batch_size=self.batch_size, num_workers=2, pin_memory=True)\n",
        "\n",
        "configs = [\n",
        "           # {\"layer_count\": 8, \"batch_size\": 1024},\n",
        "           # {\"layer_count\": 6, \"batch_size\": 1024},\n",
        "           # {\"layer_count\": 4, \"batch_size\": 1024},\n",
        "           # {\"layer_count\": 6, \"batch_size\": 512},\n",
        "           # {\"layer_count\": 8, \"batch_size\": 512},\n",
        "            {\"layer_count\": 4, \"batch_size\": 512},\n",
        "           ]\n",
        "for config in configs:\n",
        "  version_name = f'{int(time.time())}-batch_size-{config[\"batch_size\"]}-layer_count-{config[\"layer_count\"]}'\n",
        "  logger = pl.loggers.TensorBoardLogger(\"lightning_logs\", name=\"chessml\", version=version_name)\n",
        "  trainer = pl.Trainer(gpus=1,precision=16,max_epochs=1,auto_lr_find=True,logger=logger, accelerator='cpu')\n",
        "  model = EvaluationModel(layer_count=config[\"layer_count\"],batch_size=config[\"batch_size\"],learning_rate=1e-3)\n",
        "  # trainer.tune(model)\n",
        "  # lr_finder = trainer.tuner.lr_find(model, min_lr=1e-6, max_lr=1e-3, num_training=25)\n",
        "  # fig = lr_finder.plot(suggest=True)\n",
        "  # fig.show()\n",
        "  trainer.fit(model)\n",
        "  break"
      ],
      "execution_count": null,
      "outputs": [
        {
          "output_type": "stream",
          "name": "stderr",
          "text": [
            "/usr/local/lib/python3.7/dist-packages/pytorch_lightning/trainer/connectors/accelerator_connector.py:447: LightningDeprecationWarning: Setting `Trainer(gpus=1)` is deprecated in v1.7 and will be removed in v2.0. Please use `Trainer(accelerator='gpu', devices=1)` instead.\n",
            "  f\"Setting `Trainer(gpus={gpus!r})` is deprecated in v1.7 and will be removed\"\n",
            "/usr/local/lib/python3.7/dist-packages/pytorch_lightning/trainer/connectors/accelerator_connector.py:705: UserWarning: You passed `Trainer(accelerator='cpu', precision=16)` but native AMP is not supported on CPU. Using `precision='bf16'` instead.\n",
            "  \"You passed `Trainer(accelerator='cpu', precision=16)` but native AMP is not supported on CPU.\"\n",
            "INFO:pytorch_lightning.utilities.rank_zero:Using bfloat16 Automatic Mixed Precision (AMP)\n",
            "/usr/local/lib/python3.7/dist-packages/lightning_lite/accelerators/cuda.py:159: UserWarning: Can't initialize NVML\n",
            "  warnings.warn(\"Can't initialize NVML\")\n",
            "INFO:pytorch_lightning.utilities.rank_zero:GPU available: False, used: False\n",
            "INFO:pytorch_lightning.utilities.rank_zero:TPU available: False, using: 0 TPU cores\n",
            "INFO:pytorch_lightning.utilities.rank_zero:IPU available: False, using: 0 IPUs\n",
            "INFO:pytorch_lightning.utilities.rank_zero:HPU available: False, using: 0 HPUs\n",
            "INFO:pytorch_lightning.callbacks.model_summary:\n",
            "  | Name | Type       | Params\n",
            "------------------------------------\n",
            "0 | seq  | Sequential | 4.6 M \n",
            "------------------------------------\n",
            "4.6 M     Trainable params\n",
            "0         Non-trainable params\n",
            "4.6 M     Total params\n",
            "18.306    Total estimated model params size (MB)\n",
            "/usr/local/lib/python3.7/dist-packages/lightning_lite/utilities/data.py:64: UserWarning: Your `IterableDataset` has `__len__` defined. In combination with multi-process data loading (when num_workers > 1), `__len__` could be inaccurate if each worker is not configured independently to avoid having duplicate data.\n",
            "  \"Your `IterableDataset` has `__len__` defined.\"\n"
          ]
        },
        {
          "output_type": "display_data",
          "data": {
            "text/plain": [
              "Training: 0it [00:00, ?it/s]"
            ],
            "application/vnd.jupyter.widget-view+json": {
              "version_major": 2,
              "version_minor": 0,
              "model_id": "6af7a6cfe0ca4227a206c541547bb7cc"
            }
          },
          "metadata": {}
        },
        {
          "output_type": "stream",
          "name": "stderr",
          "text": [
            "/usr/local/lib/python3.7/dist-packages/lightning_lite/utilities/data.py:64: UserWarning: Your `IterableDataset` has `__len__` defined. In combination with multi-process data loading (when num_workers > 1), `__len__` could be inaccurate if each worker is not configured independently to avoid having duplicate data.\n",
            "  \"Your `IterableDataset` has `__len__` defined.\"\n",
            "/usr/local/lib/python3.7/dist-packages/pytorch_lightning/trainer/call.py:48: UserWarning: Detected KeyboardInterrupt, attempting graceful shutdown...\n",
            "  rank_zero_warn(\"Detected KeyboardInterrupt, attempting graceful shutdown...\")\n"
          ]
        }
      ]
    },
    {
      "cell_type": "code",
      "metadata": {
        "id": "5_JblxEKNe2t",
        "colab": {
          "base_uri": "https://localhost:8080/",
          "height": 1000
        },
        "outputId": "253f5222-7947-4012-faa0-4735c706cd1f"
      },
      "source": [
        "from IPython.display import display, SVG\n",
        "from random import randrange\n",
        "\n",
        "\n",
        "SVG_BASE_URL = \"https://us-central1-spearsx.cloudfunctions.net/chesspic-fen-image/\" \n",
        "\n",
        "def svg_url(fen):\n",
        "  fen_board = fen.split()[0]\n",
        "  return SVG_BASE_URL + fen_board\n",
        "\n",
        "def show_index(idx):\n",
        "  eval = Evaluations.select().where(Evaluations.id == idx+1).get()\n",
        "  batch = dataset[idx]\n",
        "  x, y = torch.tensor(batch['binary']), torch.tensor(batch['eval'])\n",
        "  y_hat = model(x)\n",
        "  loss = F.l1_loss(y_hat, y)\n",
        "  print(f'Idx {idx} Eval {y.data[0]:.2f} Prediction {y_hat.data[0]:.2f} Loss {loss:.2f}')\n",
        "  print(f'FEN {eval.fen}')\n",
        "  display(SVG(url=svg_url(eval.fen)))\n",
        "\n",
        "for i in range(5):\n",
        "  idx = randrange(LABEL_COUNT)\n",
        "  show_index(idx)\n",
        "\n",
        "# need to do better on \"tactics\" like 700756"
      ],
      "execution_count": null,
      "outputs": [
        {
          "output_type": "stream",
          "name": "stdout",
          "text": [
            "Idx 698266 Eval 4.04 Prediction 12.19 Loss 8.15\n",
            "FEN k1n2Q2/Pr6/1P6/8/2q2P2/6RK/8/6R1 b - - 3 60\n"
          ]
        },
        {
          "output_type": "display_data",
          "data": {
            "text/plain": [
              "<IPython.core.display.SVG object>"
            ]
          },
          "metadata": {}
        },
        {
          "output_type": "stream",
          "name": "stdout",
          "text": [
            "Idx 702320 Eval -0.06 Prediction -2.01 Loss 1.95\n",
            "FEN 2kr1b1r/pp3ppp/5n2/4Nb2/2P5/P1N5/1P1B1PPP/R2K3R b - - 1 12\n"
          ]
        },
        {
          "output_type": "display_data",
          "data": {
            "text/plain": [
              "<IPython.core.display.SVG object>"
            ],
            "image/svg+xml": "<svg height=\"360\" width=\"360\" xmlns=\"http://www.w3.org/2000/svg\" xmlns:xlink=\"http://www.w3.org/1999/xlink\">\n<rect height=\"360\" width=\"360\" x=\"0\" y=\"0\"/>\n<rect height=\"45\" style=\"fill: #a57551\" width=\"45\" x=\"0\" y=\"315\"/>\n<svg height=\"360\" version=\"1.1\" viewBox=\"0 -315 360 360\" width=\"360\" xmlns=\"http://www.w3.org/2000/svg\">\n  <g style=\"opacity:1; fill:#ffffff; fill-opacity:1; fill-rule:evenodd; stroke:#000000; stroke-width:1.5; stroke-linecap:round;stroke-linejoin:round;stroke-miterlimit:4; stroke-dasharray:none; stroke-opacity:1;\">\n    <path d=\"M 9,39 L 36,39 L 36,36 L 9,36 L 9,39 z \" style=\"stroke-linecap:butt;\"/>\n    <path d=\"M 12,36 L 12,32 L 33,32 L 33,36 L 12,36 z \" style=\"stroke-linecap:butt;\"/>\n    <path d=\"M 11,14 L 11,9 L 15,9 L 15,11 L 20,11 L 20,9 L 25,9 L 25,11 L 30,11 L 30,9 L 34,9 L 34,14\" style=\"stroke-linecap:butt;\"/>\n    <path d=\"M 34,14 L 31,17 L 14,17 L 11,14\"/>\n    <path d=\"M 31,17 L 31,29.5 L 14,29.5 L 14,17\" style=\"stroke-linecap:butt; stroke-linejoin:miter;\"/>\n    <path d=\"M 31,29.5 L 32.5,32 L 12.5,32 L 14,29.5\"/>\n    <path d=\"M 11,14 L 34,14\" style=\"fill:none; stroke:#000000; stroke-linejoin:miter;\"/>\n  </g>\n</svg>\n<text style=\"font-size:11px;fill: #ebd1a6\" x=\"2\" y=\"326\">1</text>\n<text style=\"text-anchor:end;font-size:11px;fill: #ebd1a6\" x=\"42\" y=\"357\">a</text>\n<rect height=\"45\" style=\"fill: #ebd1a6\" width=\"45\" x=\"45\" y=\"315\"/>\n<text style=\"text-anchor:end;font-size:11px;fill: #a57551\" x=\"87\" y=\"357\">b</text>\n<rect height=\"45\" style=\"fill: #a57551\" width=\"45\" x=\"90\" y=\"315\"/>\n<text style=\"text-anchor:end;font-size:11px;fill: #ebd1a6\" x=\"132\" y=\"357\">c</text>\n<rect height=\"45\" style=\"fill: #ebd1a6\" width=\"45\" x=\"135\" y=\"315\"/>\n<svg height=\"360\" version=\"1.1\" viewBox=\"-135 -315 360 360\" width=\"360\" xmlns=\"http://www.w3.org/2000/svg\">\n  <g style=\"fill:none; fill-opacity:1; fill-rule:evenodd; stroke:#000000; stroke-width:1.5; stroke-linecap:round;stroke-linejoin:round;stroke-miterlimit:4; stroke-dasharray:none; stroke-opacity:1;\">\n    <path d=\"M 22.5,11.63 L 22.5,6\" style=\"fill:none; stroke:#000000; stroke-linejoin:miter;\"/>\n    <path d=\"M 20,8 L 25,8\" style=\"fill:none; stroke:#000000; stroke-linejoin:miter;\"/>\n    <path d=\"M 22.5,25 C 22.5,25 27,17.5 25.5,14.5 C 25.5,14.5 24.5,12 22.5,12 C 20.5,12 19.5,14.5 19.5,14.5 C 18,17.5 22.5,25 22.5,25\" style=\"fill:#ffffff; stroke:#000000; stroke-linecap:butt; stroke-linejoin:miter;\"/>\n    <path d=\"M 11.5,37 C 17,40.5 27,40.5 32.5,37 L 32.5,30 C 32.5,30 41.5,25.5 38.5,19.5 C 34.5,13 25,16 22.5,23.5 L 22.5,27 L 22.5,23.5 C 19,16 9.5,13 6.5,19.5 C 3.5,25.5 11.5,29.5 11.5,29.5 L 11.5,37 z \" style=\"fill:#ffffff; stroke:#000000;\"/>\n    <path d=\"M 11.5,30 C 17,27 27,27 32.5,30\" style=\"fill:none; stroke:#000000;\"/>\n    <path d=\"M 11.5,33.5 C 17,30.5 27,30.5 32.5,33.5\" style=\"fill:none; stroke:#000000;\"/>\n    <path d=\"M 11.5,37 C 17,34 27,34 32.5,37\" style=\"fill:none; stroke:#000000;\"/>\n  </g>\n</svg>\n<text style=\"text-anchor:end;font-size:11px;fill: #a57551\" x=\"177\" y=\"357\">d</text>\n<rect height=\"45\" style=\"fill: #a57551\" width=\"45\" x=\"180\" y=\"315\"/>\n<text style=\"text-anchor:end;font-size:11px;fill: #ebd1a6\" x=\"222\" y=\"357\">e</text>\n<rect height=\"45\" style=\"fill: #ebd1a6\" width=\"45\" x=\"225\" y=\"315\"/>\n<text style=\"text-anchor:end;font-size:11px;fill: #a57551\" x=\"267\" y=\"357\">f</text>\n<rect height=\"45\" style=\"fill: #a57551\" width=\"45\" x=\"270\" y=\"315\"/>\n<text style=\"text-anchor:end;font-size:11px;fill: #ebd1a6\" x=\"312\" y=\"357\">g</text>\n<rect height=\"45\" style=\"fill: #ebd1a6\" width=\"45\" x=\"315\" y=\"315\"/>\n<svg height=\"360\" version=\"1.1\" viewBox=\"-315 -315 360 360\" width=\"360\" xmlns=\"http://www.w3.org/2000/svg\">\n  <g style=\"opacity:1; fill:#ffffff; fill-opacity:1; fill-rule:evenodd; stroke:#000000; stroke-width:1.5; stroke-linecap:round;stroke-linejoin:round;stroke-miterlimit:4; stroke-dasharray:none; stroke-opacity:1;\">\n    <path d=\"M 9,39 L 36,39 L 36,36 L 9,36 L 9,39 z \" style=\"stroke-linecap:butt;\"/>\n    <path d=\"M 12,36 L 12,32 L 33,32 L 33,36 L 12,36 z \" style=\"stroke-linecap:butt;\"/>\n    <path d=\"M 11,14 L 11,9 L 15,9 L 15,11 L 20,11 L 20,9 L 25,9 L 25,11 L 30,11 L 30,9 L 34,9 L 34,14\" style=\"stroke-linecap:butt;\"/>\n    <path d=\"M 34,14 L 31,17 L 14,17 L 11,14\"/>\n    <path d=\"M 31,17 L 31,29.5 L 14,29.5 L 14,17\" style=\"stroke-linecap:butt; stroke-linejoin:miter;\"/>\n    <path d=\"M 31,29.5 L 32.5,32 L 12.5,32 L 14,29.5\"/>\n    <path d=\"M 11,14 L 34,14\" style=\"fill:none; stroke:#000000; stroke-linejoin:miter;\"/>\n  </g>\n</svg>\n<text style=\"text-anchor:end;font-size:11px;fill: #a57551\" x=\"357\" y=\"357\">h</text>\n<rect height=\"45\" style=\"fill: #ebd1a6\" width=\"45\" x=\"0\" y=\"270\"/>\n<text style=\"font-size:11px;fill: #a57551\" x=\"2\" y=\"281\">2</text>\n<rect height=\"45\" style=\"fill: #a57551\" width=\"45\" x=\"45\" y=\"270\"/>\n<svg height=\"360\" version=\"1.1\" viewBox=\"-45 -270 360 360\" width=\"360\" xmlns=\"http://www.w3.org/2000/svg\">\n  <path d=\"M 22,9 C 19.79,9 18,10.79 18,13 C 18,13.89 18.29,14.71 18.78,15.38 C 16.83,16.5 15.5,18.59 15.5,21 C 15.5,23.03 16.44,24.84 17.91,26.03 C 14.91,27.09 10.5,31.58 10.5,39.5 L 33.5,39.5 C 33.5,31.58 29.09,27.09 26.09,26.03 C 27.56,24.84 28.5,23.03 28.5,21 C 28.5,18.59 27.17,16.5 25.22,15.38 C 25.71,14.71 26,13.89 26,13 C 26,10.79 24.21,9 22,9 z \" style=\"opacity:1; fill:#ffffff; fill-opacity:1; fill-rule:nonzero; stroke:#000000; stroke-width:1.5; stroke-linecap:round; stroke-linejoin:miter; stroke-miterlimit:4; stroke-dasharray:none; stroke-opacity:1;\"/>\n</svg>\n<rect height=\"45\" style=\"fill: #ebd1a6\" width=\"45\" x=\"90\" y=\"270\"/>\n<rect height=\"45\" style=\"fill: #a57551\" width=\"45\" x=\"135\" y=\"270\"/>\n<svg height=\"360\" version=\"1.1\" viewBox=\"-135 -270 360 360\" width=\"360\" xmlns=\"http://www.w3.org/2000/svg\">\n  <g style=\"opacity:1; fill:none; fill-rule:evenodd; fill-opacity:1; stroke:#000000; stroke-width:1.5; stroke-linecap:round; stroke-linejoin:round; stroke-miterlimit:4; stroke-dasharray:none; stroke-opacity:1;\">\n    <g style=\"fill:#ffffff; stroke:#000000; stroke-linecap:butt;\">\n      <path d=\"M 9,36 C 12.39,35.03 19.11,36.43 22.5,34 C 25.89,36.43 32.61,35.03 36,36 C 36,36 37.65,36.54 39,38 C 38.32,38.97 37.35,38.99 36,38.5 C 32.61,37.53 25.89,38.96 22.5,37.5 C 19.11,38.96 12.39,37.53 9,38.5 C 7.646,38.99 6.677,38.97 6,38 C 7.354,36.06 9,36 9,36 z\"/>\n      <path d=\"M 15,32 C 17.5,34.5 27.5,34.5 30,32 C 30.5,30.5 30,30 30,30 C 30,27.5 27.5,26 27.5,26 C 33,24.5 33.5,14.5 22.5,10.5 C 11.5,14.5 12,24.5 17.5,26 C 17.5,26 15,27.5 15,30 C 15,30 14.5,30.5 15,32 z\"/>\n      <path d=\"M 25 8 A 2.5 2.5 0 1 1  20,8 A 2.5 2.5 0 1 1  25 8 z\"/>\n    </g>\n    <path d=\"M 17.5,26 L 27.5,26 M 15,30 L 30,30 M 22.5,15.5 L 22.5,20.5 M 20,18 L 25,18\" style=\"fill:none; stroke:#000000; stroke-linejoin:miter;\"/>\n  </g>\n</svg>\n<rect height=\"45\" style=\"fill: #ebd1a6\" width=\"45\" x=\"180\" y=\"270\"/>\n<rect height=\"45\" style=\"fill: #a57551\" width=\"45\" x=\"225\" y=\"270\"/>\n<svg height=\"360\" version=\"1.1\" viewBox=\"-225 -270 360 360\" width=\"360\" xmlns=\"http://www.w3.org/2000/svg\">\n  <path d=\"M 22,9 C 19.79,9 18,10.79 18,13 C 18,13.89 18.29,14.71 18.78,15.38 C 16.83,16.5 15.5,18.59 15.5,21 C 15.5,23.03 16.44,24.84 17.91,26.03 C 14.91,27.09 10.5,31.58 10.5,39.5 L 33.5,39.5 C 33.5,31.58 29.09,27.09 26.09,26.03 C 27.56,24.84 28.5,23.03 28.5,21 C 28.5,18.59 27.17,16.5 25.22,15.38 C 25.71,14.71 26,13.89 26,13 C 26,10.79 24.21,9 22,9 z \" style=\"opacity:1; fill:#ffffff; fill-opacity:1; fill-rule:nonzero; stroke:#000000; stroke-width:1.5; stroke-linecap:round; stroke-linejoin:miter; stroke-miterlimit:4; stroke-dasharray:none; stroke-opacity:1;\"/>\n</svg>\n<rect height=\"45\" style=\"fill: #ebd1a6\" width=\"45\" x=\"270\" y=\"270\"/>\n<svg height=\"360\" version=\"1.1\" viewBox=\"-270 -270 360 360\" width=\"360\" xmlns=\"http://www.w3.org/2000/svg\">\n  <path d=\"M 22,9 C 19.79,9 18,10.79 18,13 C 18,13.89 18.29,14.71 18.78,15.38 C 16.83,16.5 15.5,18.59 15.5,21 C 15.5,23.03 16.44,24.84 17.91,26.03 C 14.91,27.09 10.5,31.58 10.5,39.5 L 33.5,39.5 C 33.5,31.58 29.09,27.09 26.09,26.03 C 27.56,24.84 28.5,23.03 28.5,21 C 28.5,18.59 27.17,16.5 25.22,15.38 C 25.71,14.71 26,13.89 26,13 C 26,10.79 24.21,9 22,9 z \" style=\"opacity:1; fill:#ffffff; fill-opacity:1; fill-rule:nonzero; stroke:#000000; stroke-width:1.5; stroke-linecap:round; stroke-linejoin:miter; stroke-miterlimit:4; stroke-dasharray:none; stroke-opacity:1;\"/>\n</svg>\n<rect height=\"45\" style=\"fill: #a57551\" width=\"45\" x=\"315\" y=\"270\"/>\n<svg height=\"360\" version=\"1.1\" viewBox=\"-315 -270 360 360\" width=\"360\" xmlns=\"http://www.w3.org/2000/svg\">\n  <path d=\"M 22,9 C 19.79,9 18,10.79 18,13 C 18,13.89 18.29,14.71 18.78,15.38 C 16.83,16.5 15.5,18.59 15.5,21 C 15.5,23.03 16.44,24.84 17.91,26.03 C 14.91,27.09 10.5,31.58 10.5,39.5 L 33.5,39.5 C 33.5,31.58 29.09,27.09 26.09,26.03 C 27.56,24.84 28.5,23.03 28.5,21 C 28.5,18.59 27.17,16.5 25.22,15.38 C 25.71,14.71 26,13.89 26,13 C 26,10.79 24.21,9 22,9 z \" style=\"opacity:1; fill:#ffffff; fill-opacity:1; fill-rule:nonzero; stroke:#000000; stroke-width:1.5; stroke-linecap:round; stroke-linejoin:miter; stroke-miterlimit:4; stroke-dasharray:none; stroke-opacity:1;\"/>\n</svg>\n<rect height=\"45\" style=\"fill: #a57551\" width=\"45\" x=\"0\" y=\"225\"/>\n<svg height=\"360\" version=\"1.1\" viewBox=\"0 -225 360 360\" width=\"360\" xmlns=\"http://www.w3.org/2000/svg\">\n  <path d=\"M 22,9 C 19.79,9 18,10.79 18,13 C 18,13.89 18.29,14.71 18.78,15.38 C 16.83,16.5 15.5,18.59 15.5,21 C 15.5,23.03 16.44,24.84 17.91,26.03 C 14.91,27.09 10.5,31.58 10.5,39.5 L 33.5,39.5 C 33.5,31.58 29.09,27.09 26.09,26.03 C 27.56,24.84 28.5,23.03 28.5,21 C 28.5,18.59 27.17,16.5 25.22,15.38 C 25.71,14.71 26,13.89 26,13 C 26,10.79 24.21,9 22,9 z \" style=\"opacity:1; fill:#ffffff; fill-opacity:1; fill-rule:nonzero; stroke:#000000; stroke-width:1.5; stroke-linecap:round; stroke-linejoin:miter; stroke-miterlimit:4; stroke-dasharray:none; stroke-opacity:1;\"/>\n</svg>\n<text style=\"font-size:11px;fill: #ebd1a6\" x=\"2\" y=\"236\">3</text>\n<rect height=\"45\" style=\"fill: #ebd1a6\" width=\"45\" x=\"45\" y=\"225\"/>\n<rect height=\"45\" style=\"fill: #a57551\" width=\"45\" x=\"90\" y=\"225\"/>\n<svg height=\"360\" version=\"1.1\" viewBox=\"-90 -225 360 360\" width=\"360\" xmlns=\"http://www.w3.org/2000/svg\">\n  <g style=\"opacity:1; fill:none; fill-opacity:1; fill-rule:evenodd; stroke:#000000; stroke-width:1.5; stroke-linecap:round;stroke-linejoin:round;stroke-miterlimit:4; stroke-dasharray:none; stroke-opacity:1;\">\n    <path d=\"M 22,10 C 32.5,11 38.5,18 38,39 L 15,39 C 15,30 25,32.5 23,18\" style=\"fill:#ffffff; stroke:#000000;\"/>\n    <path d=\"M 24,18 C 24.38,20.91 18.45,25.37 16,27 C 13,29 13.18,31.34 11,31 C 9.958,30.06 12.41,27.96 11,28 C 10,28 11.19,29.23 10,30 C 9,30 5.997,31 6,26 C 6,24 12,14 12,14 C 12,14 13.89,12.1 14,10.5 C 13.27,9.506 13.5,8.5 13.5,7.5 C 14.5,6.5 16.5,10 16.5,10 L 18.5,10 C 18.5,10 19.28,8.008 21,7 C 22,7 22,10 22,10\" style=\"fill:#ffffff; stroke:#000000;\"/>\n    <path d=\"M 9.5 25.5 A 0.5 0.5 0 1 1 8.5,25.5 A 0.5 0.5 0 1 1 9.5 25.5 z\" style=\"fill:#000000; stroke:#000000;\"/>\n    <path d=\"M 15 15.5 A 0.5 1.5 0 1 1  14,15.5 A 0.5 1.5 0 1 1  15 15.5 z\" style=\"fill:#000000; stroke:#000000;\" transform=\"matrix(0.866,0.5,-0.5,0.866,9.693,-5.173)\"/>\n  </g>\n</svg>\n<rect height=\"45\" style=\"fill: #ebd1a6\" width=\"45\" x=\"135\" y=\"225\"/>\n<rect height=\"45\" style=\"fill: #a57551\" width=\"45\" x=\"180\" y=\"225\"/>\n<rect height=\"45\" style=\"fill: #ebd1a6\" width=\"45\" x=\"225\" y=\"225\"/>\n<rect height=\"45\" style=\"fill: #a57551\" width=\"45\" x=\"270\" y=\"225\"/>\n<rect height=\"45\" style=\"fill: #ebd1a6\" width=\"45\" x=\"315\" y=\"225\"/>\n<rect height=\"45\" style=\"fill: #ebd1a6\" width=\"45\" x=\"0\" y=\"180\"/>\n<text style=\"font-size:11px;fill: #a57551\" x=\"2\" y=\"191\">4</text>\n<rect height=\"45\" style=\"fill: #a57551\" width=\"45\" x=\"45\" y=\"180\"/>\n<rect height=\"45\" style=\"fill: #ebd1a6\" width=\"45\" x=\"90\" y=\"180\"/>\n<svg height=\"360\" version=\"1.1\" viewBox=\"-90 -180 360 360\" width=\"360\" xmlns=\"http://www.w3.org/2000/svg\">\n  <path d=\"M 22,9 C 19.79,9 18,10.79 18,13 C 18,13.89 18.29,14.71 18.78,15.38 C 16.83,16.5 15.5,18.59 15.5,21 C 15.5,23.03 16.44,24.84 17.91,26.03 C 14.91,27.09 10.5,31.58 10.5,39.5 L 33.5,39.5 C 33.5,31.58 29.09,27.09 26.09,26.03 C 27.56,24.84 28.5,23.03 28.5,21 C 28.5,18.59 27.17,16.5 25.22,15.38 C 25.71,14.71 26,13.89 26,13 C 26,10.79 24.21,9 22,9 z \" style=\"opacity:1; fill:#ffffff; fill-opacity:1; fill-rule:nonzero; stroke:#000000; stroke-width:1.5; stroke-linecap:round; stroke-linejoin:miter; stroke-miterlimit:4; stroke-dasharray:none; stroke-opacity:1;\"/>\n</svg>\n<rect height=\"45\" style=\"fill: #a57551\" width=\"45\" x=\"135\" y=\"180\"/>\n<rect height=\"45\" style=\"fill: #ebd1a6\" width=\"45\" x=\"180\" y=\"180\"/>\n<rect height=\"45\" style=\"fill: #a57551\" width=\"45\" x=\"225\" y=\"180\"/>\n<rect height=\"45\" style=\"fill: #ebd1a6\" width=\"45\" x=\"270\" y=\"180\"/>\n<rect height=\"45\" style=\"fill: #a57551\" width=\"45\" x=\"315\" y=\"180\"/>\n<rect height=\"45\" style=\"fill: #a57551\" width=\"45\" x=\"0\" y=\"135\"/>\n<text style=\"font-size:11px;fill: #ebd1a6\" x=\"2\" y=\"146\">5</text>\n<rect height=\"45\" style=\"fill: #ebd1a6\" width=\"45\" x=\"45\" y=\"135\"/>\n<rect height=\"45\" style=\"fill: #a57551\" width=\"45\" x=\"90\" y=\"135\"/>\n<rect height=\"45\" style=\"fill: #ebd1a6\" width=\"45\" x=\"135\" y=\"135\"/>\n<rect height=\"45\" style=\"fill: #a57551\" width=\"45\" x=\"180\" y=\"135\"/>\n<svg height=\"360\" version=\"1.1\" viewBox=\"-180 -135 360 360\" width=\"360\" xmlns=\"http://www.w3.org/2000/svg\">\n  <g style=\"opacity:1; fill:none; fill-opacity:1; fill-rule:evenodd; stroke:#000000; stroke-width:1.5; stroke-linecap:round;stroke-linejoin:round;stroke-miterlimit:4; stroke-dasharray:none; stroke-opacity:1;\">\n    <path d=\"M 22,10 C 32.5,11 38.5,18 38,39 L 15,39 C 15,30 25,32.5 23,18\" style=\"fill:#ffffff; stroke:#000000;\"/>\n    <path d=\"M 24,18 C 24.38,20.91 18.45,25.37 16,27 C 13,29 13.18,31.34 11,31 C 9.958,30.06 12.41,27.96 11,28 C 10,28 11.19,29.23 10,30 C 9,30 5.997,31 6,26 C 6,24 12,14 12,14 C 12,14 13.89,12.1 14,10.5 C 13.27,9.506 13.5,8.5 13.5,7.5 C 14.5,6.5 16.5,10 16.5,10 L 18.5,10 C 18.5,10 19.28,8.008 21,7 C 22,7 22,10 22,10\" style=\"fill:#ffffff; stroke:#000000;\"/>\n    <path d=\"M 9.5 25.5 A 0.5 0.5 0 1 1 8.5,25.5 A 0.5 0.5 0 1 1 9.5 25.5 z\" style=\"fill:#000000; stroke:#000000;\"/>\n    <path d=\"M 15 15.5 A 0.5 1.5 0 1 1  14,15.5 A 0.5 1.5 0 1 1  15 15.5 z\" style=\"fill:#000000; stroke:#000000;\" transform=\"matrix(0.866,0.5,-0.5,0.866,9.693,-5.173)\"/>\n  </g>\n</svg>\n<rect height=\"45\" style=\"fill: #ebd1a6\" width=\"45\" x=\"225\" y=\"135\"/>\n<svg height=\"360\" version=\"1.1\" viewBox=\"-225 -135 360 360\" width=\"360\" xmlns=\"http://www.w3.org/2000/svg\">\n  <g style=\"opacity:1; fill:none; fill-rule:evenodd; fill-opacity:1; stroke:#000000; stroke-width:1.5; stroke-linecap:round; stroke-linejoin:round; stroke-miterlimit:4; stroke-dasharray:none; stroke-opacity:1;\">\n    <g style=\"fill:#000000; stroke:#000000; stroke-linecap:butt;\">\n      <path d=\"M 9,36 C 12.39,35.03 19.11,36.43 22.5,34 C 25.89,36.43 32.61,35.03 36,36 C 36,36 37.65,36.54 39,38 C 38.32,38.97 37.35,38.99 36,38.5 C 32.61,37.53 25.89,38.96 22.5,37.5 C 19.11,38.96 12.39,37.53 9,38.5 C 7.646,38.99 6.677,38.97 6,38 C 7.354,36.06 9,36 9,36 z\"/>\n      <path d=\"M 15,32 C 17.5,34.5 27.5,34.5 30,32 C 30.5,30.5 30,30 30,30 C 30,27.5 27.5,26 27.5,26 C 33,24.5 33.5,14.5 22.5,10.5 C 11.5,14.5 12,24.5 17.5,26 C 17.5,26 15,27.5 15,30 C 15,30 14.5,30.5 15,32 z\"/>\n      <path d=\"M 25 8 A 2.5 2.5 0 1 1  20,8 A 2.5 2.5 0 1 1  25 8 z\"/>\n    </g>\n    <path d=\"M 17.5,26 L 27.5,26 M 15,30 L 30,30 M 22.5,15.5 L 22.5,20.5 M 20,18 L 25,18\" style=\"fill:none; stroke:#ffffff; stroke-linejoin:miter;\"/>\n  </g>\n</svg>\n<rect height=\"45\" style=\"fill: #a57551\" width=\"45\" x=\"270\" y=\"135\"/>\n<rect height=\"45\" style=\"fill: #ebd1a6\" width=\"45\" x=\"315\" y=\"135\"/>\n<rect height=\"45\" style=\"fill: #ebd1a6\" width=\"45\" x=\"0\" y=\"90\"/>\n<text style=\"font-size:11px;fill: #a57551\" x=\"2\" y=\"101\">6</text>\n<rect height=\"45\" style=\"fill: #a57551\" width=\"45\" x=\"45\" y=\"90\"/>\n<rect height=\"45\" style=\"fill: #ebd1a6\" width=\"45\" x=\"90\" y=\"90\"/>\n<rect height=\"45\" style=\"fill: #a57551\" width=\"45\" x=\"135\" y=\"90\"/>\n<rect height=\"45\" style=\"fill: #ebd1a6\" width=\"45\" x=\"180\" y=\"90\"/>\n<rect height=\"45\" style=\"fill: #a57551\" width=\"45\" x=\"225\" y=\"90\"/>\n<svg height=\"360\" version=\"1.1\" viewBox=\"-225 -90 360 360\" width=\"360\" xmlns=\"http://www.w3.org/2000/svg\">\n  <g style=\"opacity:1; fill:none; fill-opacity:1; fill-rule:evenodd; stroke:#000000; stroke-width:1.5; stroke-linecap:round;stroke-linejoin:round;stroke-miterlimit:4; stroke-dasharray:none; stroke-opacity:1;\">\n    <path d=\"M 22,10 C 32.5,11 38.5,18 38,39 L 15,39 C 15,30 25,32.5 23,18\" style=\"fill:#000000; stroke:#000000;\"/>\n    <path d=\"M 24,18 C 24.38,20.91 18.45,25.37 16,27 C 13,29 13.18,31.34 11,31 C 9.958,30.06 12.41,27.96 11,28 C 10,28 11.19,29.23 10,30 C 9,30 5.997,31 6,26 C 6,24 12,14 12,14 C 12,14 13.89,12.1 14,10.5 C 13.27,9.506 13.5,8.5 13.5,7.5 C 14.5,6.5 16.5,10 16.5,10 L 18.5,10 C 18.5,10 19.28,8.008 21,7 C 22,7 22,10 22,10\" style=\"fill:#000000; stroke:#000000;\"/>\n    <path d=\"M 9.5 25.5 A 0.5 0.5 0 1 1 8.5,25.5 A 0.5 0.5 0 1 1 9.5 25.5 z\" style=\"fill:#ffffff; stroke:#ffffff;\"/>\n    <path d=\"M 15 15.5 A 0.5 1.5 0 1 1  14,15.5 A 0.5 1.5 0 1 1  15 15.5 z\" style=\"fill:#ffffff; stroke:#ffffff;\" transform=\"matrix(0.866,0.5,-0.5,0.866,9.693,-5.173)\"/>\n    <path d=\"M 24.55,10.4 L 24.1,11.85 L 24.6,12 C 27.75,13 30.25,14.49 32.5,18.75 C 34.75,23.01 35.75,29.06 35.25,39 L 35.2,39.5 L 37.45,39.5 L 37.5,39 C 38,28.94 36.62,22.15 34.25,17.66 C 31.88,13.17 28.46,11.02 25.06,10.5 L 24.55,10.4 z \" style=\"fill:#ffffff; stroke:none;\"/>\n  </g>\n</svg>\n<rect height=\"45\" style=\"fill: #ebd1a6\" width=\"45\" x=\"270\" y=\"90\"/>\n<rect height=\"45\" style=\"fill: #a57551\" width=\"45\" x=\"315\" y=\"90\"/>\n<rect height=\"45\" style=\"fill: #a57551\" width=\"45\" x=\"0\" y=\"45\"/>\n<svg height=\"360\" version=\"1.1\" viewBox=\"0 -45 360 360\" width=\"360\" xmlns=\"http://www.w3.org/2000/svg\">\n  <path d=\"M 22,9 C 19.79,9 18,10.79 18,13 C 18,13.89 18.29,14.71 18.78,15.38 C 16.83,16.5 15.5,18.59 15.5,21 C 15.5,23.03 16.44,24.84 17.91,26.03 C 14.91,27.09 10.5,31.58 10.5,39.5 L 33.5,39.5 C 33.5,31.58 29.09,27.09 26.09,26.03 C 27.56,24.84 28.5,23.03 28.5,21 C 28.5,18.59 27.17,16.5 25.22,15.38 C 25.71,14.71 26,13.89 26,13 C 26,10.79 24.21,9 22,9 z \" style=\"opacity:1; fill:#000000; fill-opacity:1; fill-rule:nonzero; stroke:#000000; stroke-width:1.5; stroke-linecap:round; stroke-linejoin:miter; stroke-miterlimit:4; stroke-dasharray:none; stroke-opacity:1;\"/>\n</svg>\n<text style=\"font-size:11px;fill: #ebd1a6\" x=\"2\" y=\"56\">7</text>\n<rect height=\"45\" style=\"fill: #ebd1a6\" width=\"45\" x=\"45\" y=\"45\"/>\n<svg height=\"360\" version=\"1.1\" viewBox=\"-45 -45 360 360\" width=\"360\" xmlns=\"http://www.w3.org/2000/svg\">\n  <path d=\"M 22,9 C 19.79,9 18,10.79 18,13 C 18,13.89 18.29,14.71 18.78,15.38 C 16.83,16.5 15.5,18.59 15.5,21 C 15.5,23.03 16.44,24.84 17.91,26.03 C 14.91,27.09 10.5,31.58 10.5,39.5 L 33.5,39.5 C 33.5,31.58 29.09,27.09 26.09,26.03 C 27.56,24.84 28.5,23.03 28.5,21 C 28.5,18.59 27.17,16.5 25.22,15.38 C 25.71,14.71 26,13.89 26,13 C 26,10.79 24.21,9 22,9 z \" style=\"opacity:1; fill:#000000; fill-opacity:1; fill-rule:nonzero; stroke:#000000; stroke-width:1.5; stroke-linecap:round; stroke-linejoin:miter; stroke-miterlimit:4; stroke-dasharray:none; stroke-opacity:1;\"/>\n</svg>\n<rect height=\"45\" style=\"fill: #a57551\" width=\"45\" x=\"90\" y=\"45\"/>\n<rect height=\"45\" style=\"fill: #ebd1a6\" width=\"45\" x=\"135\" y=\"45\"/>\n<rect height=\"45\" style=\"fill: #a57551\" width=\"45\" x=\"180\" y=\"45\"/>\n<rect height=\"45\" style=\"fill: #ebd1a6\" width=\"45\" x=\"225\" y=\"45\"/>\n<svg height=\"360\" version=\"1.1\" viewBox=\"-225 -45 360 360\" width=\"360\" xmlns=\"http://www.w3.org/2000/svg\">\n  <path d=\"M 22,9 C 19.79,9 18,10.79 18,13 C 18,13.89 18.29,14.71 18.78,15.38 C 16.83,16.5 15.5,18.59 15.5,21 C 15.5,23.03 16.44,24.84 17.91,26.03 C 14.91,27.09 10.5,31.58 10.5,39.5 L 33.5,39.5 C 33.5,31.58 29.09,27.09 26.09,26.03 C 27.56,24.84 28.5,23.03 28.5,21 C 28.5,18.59 27.17,16.5 25.22,15.38 C 25.71,14.71 26,13.89 26,13 C 26,10.79 24.21,9 22,9 z \" style=\"opacity:1; fill:#000000; fill-opacity:1; fill-rule:nonzero; stroke:#000000; stroke-width:1.5; stroke-linecap:round; stroke-linejoin:miter; stroke-miterlimit:4; stroke-dasharray:none; stroke-opacity:1;\"/>\n</svg>\n<rect height=\"45\" style=\"fill: #a57551\" width=\"45\" x=\"270\" y=\"45\"/>\n<svg height=\"360\" version=\"1.1\" viewBox=\"-270 -45 360 360\" width=\"360\" xmlns=\"http://www.w3.org/2000/svg\">\n  <path d=\"M 22,9 C 19.79,9 18,10.79 18,13 C 18,13.89 18.29,14.71 18.78,15.38 C 16.83,16.5 15.5,18.59 15.5,21 C 15.5,23.03 16.44,24.84 17.91,26.03 C 14.91,27.09 10.5,31.58 10.5,39.5 L 33.5,39.5 C 33.5,31.58 29.09,27.09 26.09,26.03 C 27.56,24.84 28.5,23.03 28.5,21 C 28.5,18.59 27.17,16.5 25.22,15.38 C 25.71,14.71 26,13.89 26,13 C 26,10.79 24.21,9 22,9 z \" style=\"opacity:1; fill:#000000; fill-opacity:1; fill-rule:nonzero; stroke:#000000; stroke-width:1.5; stroke-linecap:round; stroke-linejoin:miter; stroke-miterlimit:4; stroke-dasharray:none; stroke-opacity:1;\"/>\n</svg>\n<rect height=\"45\" style=\"fill: #ebd1a6\" width=\"45\" x=\"315\" y=\"45\"/>\n<svg height=\"360\" version=\"1.1\" viewBox=\"-315 -45 360 360\" width=\"360\" xmlns=\"http://www.w3.org/2000/svg\">\n  <path d=\"M 22,9 C 19.79,9 18,10.79 18,13 C 18,13.89 18.29,14.71 18.78,15.38 C 16.83,16.5 15.5,18.59 15.5,21 C 15.5,23.03 16.44,24.84 17.91,26.03 C 14.91,27.09 10.5,31.58 10.5,39.5 L 33.5,39.5 C 33.5,31.58 29.09,27.09 26.09,26.03 C 27.56,24.84 28.5,23.03 28.5,21 C 28.5,18.59 27.17,16.5 25.22,15.38 C 25.71,14.71 26,13.89 26,13 C 26,10.79 24.21,9 22,9 z \" style=\"opacity:1; fill:#000000; fill-opacity:1; fill-rule:nonzero; stroke:#000000; stroke-width:1.5; stroke-linecap:round; stroke-linejoin:miter; stroke-miterlimit:4; stroke-dasharray:none; stroke-opacity:1;\"/>\n</svg>\n<rect height=\"45\" style=\"fill: #ebd1a6\" width=\"45\" x=\"0\" y=\"0\"/>\n<text style=\"font-size:11px;fill: #a57551\" x=\"2\" y=\"11\">8</text>\n<rect height=\"45\" style=\"fill: #a57551\" width=\"45\" x=\"45\" y=\"0\"/>\n<rect height=\"45\" style=\"fill: #ebd1a6\" width=\"45\" x=\"90\" y=\"0\"/>\n<svg height=\"360\" version=\"1.1\" viewBox=\"-90 0 360 360\" width=\"360\" xmlns=\"http://www.w3.org/2000/svg\">\n  <g style=\"fill:none; fill-opacity:1; fill-rule:evenodd; stroke:#000000; stroke-width:1.5; stroke-linecap:round;stroke-linejoin:round;stroke-miterlimit:4; stroke-dasharray:none; stroke-opacity:1;\">\n    <path d=\"M 22.5,11.63 L 22.5,6\" id=\"path6570\" style=\"fill:none; stroke:#000000; stroke-linejoin:miter;\"/>\n    <path d=\"M 22.5,25 C 22.5,25 27,17.5 25.5,14.5 C 25.5,14.5 24.5,12 22.5,12 C 20.5,12 19.5,14.5 19.5,14.5 C 18,17.5 22.5,25 22.5,25\" style=\"fill:#000000;fill-opacity:1; stroke-linecap:butt; stroke-linejoin:miter;\"/>\n    <path d=\"M 11.5,37 C 17,40.5 27,40.5 32.5,37 L 32.5,30 C 32.5,30 41.5,25.5 38.5,19.5 C 34.5,13 25,16 22.5,23.5 L 22.5,27 L 22.5,23.5 C 19,16 9.5,13 6.5,19.5 C 3.5,25.5 11.5,29.5 11.5,29.5 L 11.5,37 z \" style=\"fill:#000000; stroke:#000000;\"/>\n    <path d=\"M 20,8 L 25,8\" style=\"fill:none; stroke:#000000; stroke-linejoin:miter;\"/>\n    <path d=\"M 32,29.5 C 32,29.5 40.5,25.5 38.03,19.85 C 34.15,14 25,18 22.5,24.5 L 22.51,26.6 L 22.5,24.5 C 20,18 9.906,14 6.997,19.85 C 4.5,25.5 11.85,28.85 11.85,28.85\" style=\"fill:none; stroke:#ffffff;\"/>\n    <path d=\"M 11.5,30 C 17,27 27,27 32.5,30 M 11.5,33.5 C 17,30.5 27,30.5 32.5,33.5 M 11.5,37 C 17,34 27,34 32.5,37\" style=\"fill:none; stroke:#ffffff;\"/>\n  </g>\n</svg>\n<rect height=\"45\" style=\"fill: #a57551\" width=\"45\" x=\"135\" y=\"0\"/>\n<svg height=\"360\" version=\"1.1\" viewBox=\"-135 0 360 360\" width=\"360\" xmlns=\"http://www.w3.org/2000/svg\">\n  <g style=\"opacity:1; fill:000000; fill-opacity:1; fill-rule:evenodd; stroke:#000000; stroke-width:1.5; stroke-linecap:round;stroke-linejoin:round;stroke-miterlimit:4; stroke-dasharray:none; stroke-opacity:1;\">\n    <path d=\"M 9,39 L 36,39 L 36,36 L 9,36 L 9,39 z \" style=\"stroke-linecap:butt;\"/>\n    <path d=\"M 12.5,32 L 14,29.5 L 31,29.5 L 32.5,32 L 12.5,32 z \" style=\"stroke-linecap:butt;\"/>\n    <path d=\"M 12,36 L 12,32 L 33,32 L 33,36 L 12,36 z \" style=\"stroke-linecap:butt;\"/>\n    <path d=\"M 14,29.5 L 14,16.5 L 31,16.5 L 31,29.5 L 14,29.5 z \" style=\"stroke-linecap:butt;stroke-linejoin:miter;\"/>\n    <path d=\"M 14,16.5 L 11,14 L 34,14 L 31,16.5 L 14,16.5 z \" style=\"stroke-linecap:butt;\"/>\n    <path d=\"M 11,14 L 11,9 L 15,9 L 15,11 L 20,11 L 20,9 L 25,9 L 25,11 L 30,11 L 30,9 L 34,9 L 34,14 L 11,14 z \" style=\"stroke-linecap:butt;\"/>\n    <path d=\"M 12,35.5 L 33,35.5 L 33,35.5\" style=\"fill:none; stroke:#ffffff; stroke-width:1; stroke-linejoin:miter;\"/>\n    <path d=\"M 13,31.5 L 32,31.5\" style=\"fill:none; stroke:#ffffff; stroke-width:1; stroke-linejoin:miter;\"/>\n    <path d=\"M 14,29.5 L 31,29.5\" style=\"fill:none; stroke:#ffffff; stroke-width:1; stroke-linejoin:miter;\"/>\n    <path d=\"M 14,16.5 L 31,16.5\" style=\"fill:none; stroke:#ffffff; stroke-width:1; stroke-linejoin:miter;\"/>\n    <path d=\"M 11,14 L 34,14\" style=\"fill:none; stroke:#ffffff; stroke-width:1; stroke-linejoin:miter;\"/>\n  </g>\n</svg>\n<rect height=\"45\" style=\"fill: #ebd1a6\" width=\"45\" x=\"180\" y=\"0\"/>\n<rect height=\"45\" style=\"fill: #a57551\" width=\"45\" x=\"225\" y=\"0\"/>\n<svg height=\"360\" version=\"1.1\" viewBox=\"-225 0 360 360\" width=\"360\" xmlns=\"http://www.w3.org/2000/svg\">\n  <g style=\"opacity:1; fill:none; fill-rule:evenodd; fill-opacity:1; stroke:#000000; stroke-width:1.5; stroke-linecap:round; stroke-linejoin:round; stroke-miterlimit:4; stroke-dasharray:none; stroke-opacity:1;\">\n    <g style=\"fill:#000000; stroke:#000000; stroke-linecap:butt;\">\n      <path d=\"M 9,36 C 12.39,35.03 19.11,36.43 22.5,34 C 25.89,36.43 32.61,35.03 36,36 C 36,36 37.65,36.54 39,38 C 38.32,38.97 37.35,38.99 36,38.5 C 32.61,37.53 25.89,38.96 22.5,37.5 C 19.11,38.96 12.39,37.53 9,38.5 C 7.646,38.99 6.677,38.97 6,38 C 7.354,36.06 9,36 9,36 z\"/>\n      <path d=\"M 15,32 C 17.5,34.5 27.5,34.5 30,32 C 30.5,30.5 30,30 30,30 C 30,27.5 27.5,26 27.5,26 C 33,24.5 33.5,14.5 22.5,10.5 C 11.5,14.5 12,24.5 17.5,26 C 17.5,26 15,27.5 15,30 C 15,30 14.5,30.5 15,32 z\"/>\n      <path d=\"M 25 8 A 2.5 2.5 0 1 1  20,8 A 2.5 2.5 0 1 1  25 8 z\"/>\n    </g>\n    <path d=\"M 17.5,26 L 27.5,26 M 15,30 L 30,30 M 22.5,15.5 L 22.5,20.5 M 20,18 L 25,18\" style=\"fill:none; stroke:#ffffff; stroke-linejoin:miter;\"/>\n  </g>\n</svg>\n<rect height=\"45\" style=\"fill: #ebd1a6\" width=\"45\" x=\"270\" y=\"0\"/>\n<rect height=\"45\" style=\"fill: #a57551\" width=\"45\" x=\"315\" y=\"0\"/>\n<svg height=\"360\" version=\"1.1\" viewBox=\"-315 0 360 360\" width=\"360\" xmlns=\"http://www.w3.org/2000/svg\">\n  <g style=\"opacity:1; fill:000000; fill-opacity:1; fill-rule:evenodd; stroke:#000000; stroke-width:1.5; stroke-linecap:round;stroke-linejoin:round;stroke-miterlimit:4; stroke-dasharray:none; stroke-opacity:1;\">\n    <path d=\"M 9,39 L 36,39 L 36,36 L 9,36 L 9,39 z \" style=\"stroke-linecap:butt;\"/>\n    <path d=\"M 12.5,32 L 14,29.5 L 31,29.5 L 32.5,32 L 12.5,32 z \" style=\"stroke-linecap:butt;\"/>\n    <path d=\"M 12,36 L 12,32 L 33,32 L 33,36 L 12,36 z \" style=\"stroke-linecap:butt;\"/>\n    <path d=\"M 14,29.5 L 14,16.5 L 31,16.5 L 31,29.5 L 14,29.5 z \" style=\"stroke-linecap:butt;stroke-linejoin:miter;\"/>\n    <path d=\"M 14,16.5 L 11,14 L 34,14 L 31,16.5 L 14,16.5 z \" style=\"stroke-linecap:butt;\"/>\n    <path d=\"M 11,14 L 11,9 L 15,9 L 15,11 L 20,11 L 20,9 L 25,9 L 25,11 L 30,11 L 30,9 L 34,9 L 34,14 L 11,14 z \" style=\"stroke-linecap:butt;\"/>\n    <path d=\"M 12,35.5 L 33,35.5 L 33,35.5\" style=\"fill:none; stroke:#ffffff; stroke-width:1; stroke-linejoin:miter;\"/>\n    <path d=\"M 13,31.5 L 32,31.5\" style=\"fill:none; stroke:#ffffff; stroke-width:1; stroke-linejoin:miter;\"/>\n    <path d=\"M 14,29.5 L 31,29.5\" style=\"fill:none; stroke:#ffffff; stroke-width:1; stroke-linejoin:miter;\"/>\n    <path d=\"M 14,16.5 L 31,16.5\" style=\"fill:none; stroke:#ffffff; stroke-width:1; stroke-linejoin:miter;\"/>\n    <path d=\"M 11,14 L 34,14\" style=\"fill:none; stroke:#ffffff; stroke-width:1; stroke-linejoin:miter;\"/>\n  </g>\n</svg>\n</svg>"
          },
          "metadata": {}
        },
        {
          "output_type": "stream",
          "name": "stdout",
          "text": [
            "Idx 789241 Eval -4.55 Prediction -2.65 Loss 1.90\n",
            "FEN r2r4/1p3pkp/p2n2pn/2P2b2/8/2N5/PP2BPPP/3R1RK1 b - - 0 20\n"
          ]
        },
        {
          "output_type": "display_data",
          "data": {
            "text/plain": [
              "<IPython.core.display.SVG object>"
            ],
            "image/svg+xml": "<svg height=\"360\" width=\"360\" xmlns=\"http://www.w3.org/2000/svg\" xmlns:xlink=\"http://www.w3.org/1999/xlink\">\n<rect height=\"360\" width=\"360\" x=\"0\" y=\"0\"/>\n<rect height=\"45\" style=\"fill: #a57551\" width=\"45\" x=\"0\" y=\"315\"/>\n<text style=\"font-size:11px;fill: #ebd1a6\" x=\"2\" y=\"326\">1</text>\n<text style=\"text-anchor:end;font-size:11px;fill: #ebd1a6\" x=\"42\" y=\"357\">a</text>\n<rect height=\"45\" style=\"fill: #ebd1a6\" width=\"45\" x=\"45\" y=\"315\"/>\n<text style=\"text-anchor:end;font-size:11px;fill: #a57551\" x=\"87\" y=\"357\">b</text>\n<rect height=\"45\" style=\"fill: #a57551\" width=\"45\" x=\"90\" y=\"315\"/>\n<text style=\"text-anchor:end;font-size:11px;fill: #ebd1a6\" x=\"132\" y=\"357\">c</text>\n<rect height=\"45\" style=\"fill: #ebd1a6\" width=\"45\" x=\"135\" y=\"315\"/>\n<svg height=\"360\" version=\"1.1\" viewBox=\"-135 -315 360 360\" width=\"360\" xmlns=\"http://www.w3.org/2000/svg\">\n  <g style=\"opacity:1; fill:#ffffff; fill-opacity:1; fill-rule:evenodd; stroke:#000000; stroke-width:1.5; stroke-linecap:round;stroke-linejoin:round;stroke-miterlimit:4; stroke-dasharray:none; stroke-opacity:1;\">\n    <path d=\"M 9,39 L 36,39 L 36,36 L 9,36 L 9,39 z \" style=\"stroke-linecap:butt;\"/>\n    <path d=\"M 12,36 L 12,32 L 33,32 L 33,36 L 12,36 z \" style=\"stroke-linecap:butt;\"/>\n    <path d=\"M 11,14 L 11,9 L 15,9 L 15,11 L 20,11 L 20,9 L 25,9 L 25,11 L 30,11 L 30,9 L 34,9 L 34,14\" style=\"stroke-linecap:butt;\"/>\n    <path d=\"M 34,14 L 31,17 L 14,17 L 11,14\"/>\n    <path d=\"M 31,17 L 31,29.5 L 14,29.5 L 14,17\" style=\"stroke-linecap:butt; stroke-linejoin:miter;\"/>\n    <path d=\"M 31,29.5 L 32.5,32 L 12.5,32 L 14,29.5\"/>\n    <path d=\"M 11,14 L 34,14\" style=\"fill:none; stroke:#000000; stroke-linejoin:miter;\"/>\n  </g>\n</svg>\n<text style=\"text-anchor:end;font-size:11px;fill: #a57551\" x=\"177\" y=\"357\">d</text>\n<rect height=\"45\" style=\"fill: #a57551\" width=\"45\" x=\"180\" y=\"315\"/>\n<text style=\"text-anchor:end;font-size:11px;fill: #ebd1a6\" x=\"222\" y=\"357\">e</text>\n<rect height=\"45\" style=\"fill: #ebd1a6\" width=\"45\" x=\"225\" y=\"315\"/>\n<svg height=\"360\" version=\"1.1\" viewBox=\"-225 -315 360 360\" width=\"360\" xmlns=\"http://www.w3.org/2000/svg\">\n  <g style=\"opacity:1; fill:#ffffff; fill-opacity:1; fill-rule:evenodd; stroke:#000000; stroke-width:1.5; stroke-linecap:round;stroke-linejoin:round;stroke-miterlimit:4; stroke-dasharray:none; stroke-opacity:1;\">\n    <path d=\"M 9,39 L 36,39 L 36,36 L 9,36 L 9,39 z \" style=\"stroke-linecap:butt;\"/>\n    <path d=\"M 12,36 L 12,32 L 33,32 L 33,36 L 12,36 z \" style=\"stroke-linecap:butt;\"/>\n    <path d=\"M 11,14 L 11,9 L 15,9 L 15,11 L 20,11 L 20,9 L 25,9 L 25,11 L 30,11 L 30,9 L 34,9 L 34,14\" style=\"stroke-linecap:butt;\"/>\n    <path d=\"M 34,14 L 31,17 L 14,17 L 11,14\"/>\n    <path d=\"M 31,17 L 31,29.5 L 14,29.5 L 14,17\" style=\"stroke-linecap:butt; stroke-linejoin:miter;\"/>\n    <path d=\"M 31,29.5 L 32.5,32 L 12.5,32 L 14,29.5\"/>\n    <path d=\"M 11,14 L 34,14\" style=\"fill:none; stroke:#000000; stroke-linejoin:miter;\"/>\n  </g>\n</svg>\n<text style=\"text-anchor:end;font-size:11px;fill: #a57551\" x=\"267\" y=\"357\">f</text>\n<rect height=\"45\" style=\"fill: #a57551\" width=\"45\" x=\"270\" y=\"315\"/>\n<svg height=\"360\" version=\"1.1\" viewBox=\"-270 -315 360 360\" width=\"360\" xmlns=\"http://www.w3.org/2000/svg\">\n  <g style=\"fill:none; fill-opacity:1; fill-rule:evenodd; stroke:#000000; stroke-width:1.5; stroke-linecap:round;stroke-linejoin:round;stroke-miterlimit:4; stroke-dasharray:none; stroke-opacity:1;\">\n    <path d=\"M 22.5,11.63 L 22.5,6\" style=\"fill:none; stroke:#000000; stroke-linejoin:miter;\"/>\n    <path d=\"M 20,8 L 25,8\" style=\"fill:none; stroke:#000000; stroke-linejoin:miter;\"/>\n    <path d=\"M 22.5,25 C 22.5,25 27,17.5 25.5,14.5 C 25.5,14.5 24.5,12 22.5,12 C 20.5,12 19.5,14.5 19.5,14.5 C 18,17.5 22.5,25 22.5,25\" style=\"fill:#ffffff; stroke:#000000; stroke-linecap:butt; stroke-linejoin:miter;\"/>\n    <path d=\"M 11.5,37 C 17,40.5 27,40.5 32.5,37 L 32.5,30 C 32.5,30 41.5,25.5 38.5,19.5 C 34.5,13 25,16 22.5,23.5 L 22.5,27 L 22.5,23.5 C 19,16 9.5,13 6.5,19.5 C 3.5,25.5 11.5,29.5 11.5,29.5 L 11.5,37 z \" style=\"fill:#ffffff; stroke:#000000;\"/>\n    <path d=\"M 11.5,30 C 17,27 27,27 32.5,30\" style=\"fill:none; stroke:#000000;\"/>\n    <path d=\"M 11.5,33.5 C 17,30.5 27,30.5 32.5,33.5\" style=\"fill:none; stroke:#000000;\"/>\n    <path d=\"M 11.5,37 C 17,34 27,34 32.5,37\" style=\"fill:none; stroke:#000000;\"/>\n  </g>\n</svg>\n<text style=\"text-anchor:end;font-size:11px;fill: #ebd1a6\" x=\"312\" y=\"357\">g</text>\n<rect height=\"45\" style=\"fill: #ebd1a6\" width=\"45\" x=\"315\" y=\"315\"/>\n<text style=\"text-anchor:end;font-size:11px;fill: #a57551\" x=\"357\" y=\"357\">h</text>\n<rect height=\"45\" style=\"fill: #ebd1a6\" width=\"45\" x=\"0\" y=\"270\"/>\n<svg height=\"360\" version=\"1.1\" viewBox=\"0 -270 360 360\" width=\"360\" xmlns=\"http://www.w3.org/2000/svg\">\n  <path d=\"M 22,9 C 19.79,9 18,10.79 18,13 C 18,13.89 18.29,14.71 18.78,15.38 C 16.83,16.5 15.5,18.59 15.5,21 C 15.5,23.03 16.44,24.84 17.91,26.03 C 14.91,27.09 10.5,31.58 10.5,39.5 L 33.5,39.5 C 33.5,31.58 29.09,27.09 26.09,26.03 C 27.56,24.84 28.5,23.03 28.5,21 C 28.5,18.59 27.17,16.5 25.22,15.38 C 25.71,14.71 26,13.89 26,13 C 26,10.79 24.21,9 22,9 z \" style=\"opacity:1; fill:#ffffff; fill-opacity:1; fill-rule:nonzero; stroke:#000000; stroke-width:1.5; stroke-linecap:round; stroke-linejoin:miter; stroke-miterlimit:4; stroke-dasharray:none; stroke-opacity:1;\"/>\n</svg>\n<text style=\"font-size:11px;fill: #a57551\" x=\"2\" y=\"281\">2</text>\n<rect height=\"45\" style=\"fill: #a57551\" width=\"45\" x=\"45\" y=\"270\"/>\n<svg height=\"360\" version=\"1.1\" viewBox=\"-45 -270 360 360\" width=\"360\" xmlns=\"http://www.w3.org/2000/svg\">\n  <path d=\"M 22,9 C 19.79,9 18,10.79 18,13 C 18,13.89 18.29,14.71 18.78,15.38 C 16.83,16.5 15.5,18.59 15.5,21 C 15.5,23.03 16.44,24.84 17.91,26.03 C 14.91,27.09 10.5,31.58 10.5,39.5 L 33.5,39.5 C 33.5,31.58 29.09,27.09 26.09,26.03 C 27.56,24.84 28.5,23.03 28.5,21 C 28.5,18.59 27.17,16.5 25.22,15.38 C 25.71,14.71 26,13.89 26,13 C 26,10.79 24.21,9 22,9 z \" style=\"opacity:1; fill:#ffffff; fill-opacity:1; fill-rule:nonzero; stroke:#000000; stroke-width:1.5; stroke-linecap:round; stroke-linejoin:miter; stroke-miterlimit:4; stroke-dasharray:none; stroke-opacity:1;\"/>\n</svg>\n<rect height=\"45\" style=\"fill: #ebd1a6\" width=\"45\" x=\"90\" y=\"270\"/>\n<rect height=\"45\" style=\"fill: #a57551\" width=\"45\" x=\"135\" y=\"270\"/>\n<rect height=\"45\" style=\"fill: #ebd1a6\" width=\"45\" x=\"180\" y=\"270\"/>\n<svg height=\"360\" version=\"1.1\" viewBox=\"-180 -270 360 360\" width=\"360\" xmlns=\"http://www.w3.org/2000/svg\">\n  <g style=\"opacity:1; fill:none; fill-rule:evenodd; fill-opacity:1; stroke:#000000; stroke-width:1.5; stroke-linecap:round; stroke-linejoin:round; stroke-miterlimit:4; stroke-dasharray:none; stroke-opacity:1;\">\n    <g style=\"fill:#ffffff; stroke:#000000; stroke-linecap:butt;\">\n      <path d=\"M 9,36 C 12.39,35.03 19.11,36.43 22.5,34 C 25.89,36.43 32.61,35.03 36,36 C 36,36 37.65,36.54 39,38 C 38.32,38.97 37.35,38.99 36,38.5 C 32.61,37.53 25.89,38.96 22.5,37.5 C 19.11,38.96 12.39,37.53 9,38.5 C 7.646,38.99 6.677,38.97 6,38 C 7.354,36.06 9,36 9,36 z\"/>\n      <path d=\"M 15,32 C 17.5,34.5 27.5,34.5 30,32 C 30.5,30.5 30,30 30,30 C 30,27.5 27.5,26 27.5,26 C 33,24.5 33.5,14.5 22.5,10.5 C 11.5,14.5 12,24.5 17.5,26 C 17.5,26 15,27.5 15,30 C 15,30 14.5,30.5 15,32 z\"/>\n      <path d=\"M 25 8 A 2.5 2.5 0 1 1  20,8 A 2.5 2.5 0 1 1  25 8 z\"/>\n    </g>\n    <path d=\"M 17.5,26 L 27.5,26 M 15,30 L 30,30 M 22.5,15.5 L 22.5,20.5 M 20,18 L 25,18\" style=\"fill:none; stroke:#000000; stroke-linejoin:miter;\"/>\n  </g>\n</svg>\n<rect height=\"45\" style=\"fill: #a57551\" width=\"45\" x=\"225\" y=\"270\"/>\n<svg height=\"360\" version=\"1.1\" viewBox=\"-225 -270 360 360\" width=\"360\" xmlns=\"http://www.w3.org/2000/svg\">\n  <path d=\"M 22,9 C 19.79,9 18,10.79 18,13 C 18,13.89 18.29,14.71 18.78,15.38 C 16.83,16.5 15.5,18.59 15.5,21 C 15.5,23.03 16.44,24.84 17.91,26.03 C 14.91,27.09 10.5,31.58 10.5,39.5 L 33.5,39.5 C 33.5,31.58 29.09,27.09 26.09,26.03 C 27.56,24.84 28.5,23.03 28.5,21 C 28.5,18.59 27.17,16.5 25.22,15.38 C 25.71,14.71 26,13.89 26,13 C 26,10.79 24.21,9 22,9 z \" style=\"opacity:1; fill:#ffffff; fill-opacity:1; fill-rule:nonzero; stroke:#000000; stroke-width:1.5; stroke-linecap:round; stroke-linejoin:miter; stroke-miterlimit:4; stroke-dasharray:none; stroke-opacity:1;\"/>\n</svg>\n<rect height=\"45\" style=\"fill: #ebd1a6\" width=\"45\" x=\"270\" y=\"270\"/>\n<svg height=\"360\" version=\"1.1\" viewBox=\"-270 -270 360 360\" width=\"360\" xmlns=\"http://www.w3.org/2000/svg\">\n  <path d=\"M 22,9 C 19.79,9 18,10.79 18,13 C 18,13.89 18.29,14.71 18.78,15.38 C 16.83,16.5 15.5,18.59 15.5,21 C 15.5,23.03 16.44,24.84 17.91,26.03 C 14.91,27.09 10.5,31.58 10.5,39.5 L 33.5,39.5 C 33.5,31.58 29.09,27.09 26.09,26.03 C 27.56,24.84 28.5,23.03 28.5,21 C 28.5,18.59 27.17,16.5 25.22,15.38 C 25.71,14.71 26,13.89 26,13 C 26,10.79 24.21,9 22,9 z \" style=\"opacity:1; fill:#ffffff; fill-opacity:1; fill-rule:nonzero; stroke:#000000; stroke-width:1.5; stroke-linecap:round; stroke-linejoin:miter; stroke-miterlimit:4; stroke-dasharray:none; stroke-opacity:1;\"/>\n</svg>\n<rect height=\"45\" style=\"fill: #a57551\" width=\"45\" x=\"315\" y=\"270\"/>\n<svg height=\"360\" version=\"1.1\" viewBox=\"-315 -270 360 360\" width=\"360\" xmlns=\"http://www.w3.org/2000/svg\">\n  <path d=\"M 22,9 C 19.79,9 18,10.79 18,13 C 18,13.89 18.29,14.71 18.78,15.38 C 16.83,16.5 15.5,18.59 15.5,21 C 15.5,23.03 16.44,24.84 17.91,26.03 C 14.91,27.09 10.5,31.58 10.5,39.5 L 33.5,39.5 C 33.5,31.58 29.09,27.09 26.09,26.03 C 27.56,24.84 28.5,23.03 28.5,21 C 28.5,18.59 27.17,16.5 25.22,15.38 C 25.71,14.71 26,13.89 26,13 C 26,10.79 24.21,9 22,9 z \" style=\"opacity:1; fill:#ffffff; fill-opacity:1; fill-rule:nonzero; stroke:#000000; stroke-width:1.5; stroke-linecap:round; stroke-linejoin:miter; stroke-miterlimit:4; stroke-dasharray:none; stroke-opacity:1;\"/>\n</svg>\n<rect height=\"45\" style=\"fill: #a57551\" width=\"45\" x=\"0\" y=\"225\"/>\n<text style=\"font-size:11px;fill: #ebd1a6\" x=\"2\" y=\"236\">3</text>\n<rect height=\"45\" style=\"fill: #ebd1a6\" width=\"45\" x=\"45\" y=\"225\"/>\n<rect height=\"45\" style=\"fill: #a57551\" width=\"45\" x=\"90\" y=\"225\"/>\n<svg height=\"360\" version=\"1.1\" viewBox=\"-90 -225 360 360\" width=\"360\" xmlns=\"http://www.w3.org/2000/svg\">\n  <g style=\"opacity:1; fill:none; fill-opacity:1; fill-rule:evenodd; stroke:#000000; stroke-width:1.5; stroke-linecap:round;stroke-linejoin:round;stroke-miterlimit:4; stroke-dasharray:none; stroke-opacity:1;\">\n    <path d=\"M 22,10 C 32.5,11 38.5,18 38,39 L 15,39 C 15,30 25,32.5 23,18\" style=\"fill:#ffffff; stroke:#000000;\"/>\n    <path d=\"M 24,18 C 24.38,20.91 18.45,25.37 16,27 C 13,29 13.18,31.34 11,31 C 9.958,30.06 12.41,27.96 11,28 C 10,28 11.19,29.23 10,30 C 9,30 5.997,31 6,26 C 6,24 12,14 12,14 C 12,14 13.89,12.1 14,10.5 C 13.27,9.506 13.5,8.5 13.5,7.5 C 14.5,6.5 16.5,10 16.5,10 L 18.5,10 C 18.5,10 19.28,8.008 21,7 C 22,7 22,10 22,10\" style=\"fill:#ffffff; stroke:#000000;\"/>\n    <path d=\"M 9.5 25.5 A 0.5 0.5 0 1 1 8.5,25.5 A 0.5 0.5 0 1 1 9.5 25.5 z\" style=\"fill:#000000; stroke:#000000;\"/>\n    <path d=\"M 15 15.5 A 0.5 1.5 0 1 1  14,15.5 A 0.5 1.5 0 1 1  15 15.5 z\" style=\"fill:#000000; stroke:#000000;\" transform=\"matrix(0.866,0.5,-0.5,0.866,9.693,-5.173)\"/>\n  </g>\n</svg>\n<rect height=\"45\" style=\"fill: #ebd1a6\" width=\"45\" x=\"135\" y=\"225\"/>\n<rect height=\"45\" style=\"fill: #a57551\" width=\"45\" x=\"180\" y=\"225\"/>\n<rect height=\"45\" style=\"fill: #ebd1a6\" width=\"45\" x=\"225\" y=\"225\"/>\n<rect height=\"45\" style=\"fill: #a57551\" width=\"45\" x=\"270\" y=\"225\"/>\n<rect height=\"45\" style=\"fill: #ebd1a6\" width=\"45\" x=\"315\" y=\"225\"/>\n<rect height=\"45\" style=\"fill: #ebd1a6\" width=\"45\" x=\"0\" y=\"180\"/>\n<text style=\"font-size:11px;fill: #a57551\" x=\"2\" y=\"191\">4</text>\n<rect height=\"45\" style=\"fill: #a57551\" width=\"45\" x=\"45\" y=\"180\"/>\n<rect height=\"45\" style=\"fill: #ebd1a6\" width=\"45\" x=\"90\" y=\"180\"/>\n<rect height=\"45\" style=\"fill: #a57551\" width=\"45\" x=\"135\" y=\"180\"/>\n<rect height=\"45\" style=\"fill: #ebd1a6\" width=\"45\" x=\"180\" y=\"180\"/>\n<rect height=\"45\" style=\"fill: #a57551\" width=\"45\" x=\"225\" y=\"180\"/>\n<rect height=\"45\" style=\"fill: #ebd1a6\" width=\"45\" x=\"270\" y=\"180\"/>\n<rect height=\"45\" style=\"fill: #a57551\" width=\"45\" x=\"315\" y=\"180\"/>\n<rect height=\"45\" style=\"fill: #a57551\" width=\"45\" x=\"0\" y=\"135\"/>\n<text style=\"font-size:11px;fill: #ebd1a6\" x=\"2\" y=\"146\">5</text>\n<rect height=\"45\" style=\"fill: #ebd1a6\" width=\"45\" x=\"45\" y=\"135\"/>\n<rect height=\"45\" style=\"fill: #a57551\" width=\"45\" x=\"90\" y=\"135\"/>\n<svg height=\"360\" version=\"1.1\" viewBox=\"-90 -135 360 360\" width=\"360\" xmlns=\"http://www.w3.org/2000/svg\">\n  <path d=\"M 22,9 C 19.79,9 18,10.79 18,13 C 18,13.89 18.29,14.71 18.78,15.38 C 16.83,16.5 15.5,18.59 15.5,21 C 15.5,23.03 16.44,24.84 17.91,26.03 C 14.91,27.09 10.5,31.58 10.5,39.5 L 33.5,39.5 C 33.5,31.58 29.09,27.09 26.09,26.03 C 27.56,24.84 28.5,23.03 28.5,21 C 28.5,18.59 27.17,16.5 25.22,15.38 C 25.71,14.71 26,13.89 26,13 C 26,10.79 24.21,9 22,9 z \" style=\"opacity:1; fill:#ffffff; fill-opacity:1; fill-rule:nonzero; stroke:#000000; stroke-width:1.5; stroke-linecap:round; stroke-linejoin:miter; stroke-miterlimit:4; stroke-dasharray:none; stroke-opacity:1;\"/>\n</svg>\n<rect height=\"45\" style=\"fill: #ebd1a6\" width=\"45\" x=\"135\" y=\"135\"/>\n<rect height=\"45\" style=\"fill: #a57551\" width=\"45\" x=\"180\" y=\"135\"/>\n<rect height=\"45\" style=\"fill: #ebd1a6\" width=\"45\" x=\"225\" y=\"135\"/>\n<svg height=\"360\" version=\"1.1\" viewBox=\"-225 -135 360 360\" width=\"360\" xmlns=\"http://www.w3.org/2000/svg\">\n  <g style=\"opacity:1; fill:none; fill-rule:evenodd; fill-opacity:1; stroke:#000000; stroke-width:1.5; stroke-linecap:round; stroke-linejoin:round; stroke-miterlimit:4; stroke-dasharray:none; stroke-opacity:1;\">\n    <g style=\"fill:#000000; stroke:#000000; stroke-linecap:butt;\">\n      <path d=\"M 9,36 C 12.39,35.03 19.11,36.43 22.5,34 C 25.89,36.43 32.61,35.03 36,36 C 36,36 37.65,36.54 39,38 C 38.32,38.97 37.35,38.99 36,38.5 C 32.61,37.53 25.89,38.96 22.5,37.5 C 19.11,38.96 12.39,37.53 9,38.5 C 7.646,38.99 6.677,38.97 6,38 C 7.354,36.06 9,36 9,36 z\"/>\n      <path d=\"M 15,32 C 17.5,34.5 27.5,34.5 30,32 C 30.5,30.5 30,30 30,30 C 30,27.5 27.5,26 27.5,26 C 33,24.5 33.5,14.5 22.5,10.5 C 11.5,14.5 12,24.5 17.5,26 C 17.5,26 15,27.5 15,30 C 15,30 14.5,30.5 15,32 z\"/>\n      <path d=\"M 25 8 A 2.5 2.5 0 1 1  20,8 A 2.5 2.5 0 1 1  25 8 z\"/>\n    </g>\n    <path d=\"M 17.5,26 L 27.5,26 M 15,30 L 30,30 M 22.5,15.5 L 22.5,20.5 M 20,18 L 25,18\" style=\"fill:none; stroke:#ffffff; stroke-linejoin:miter;\"/>\n  </g>\n</svg>\n<rect height=\"45\" style=\"fill: #a57551\" width=\"45\" x=\"270\" y=\"135\"/>\n<rect height=\"45\" style=\"fill: #ebd1a6\" width=\"45\" x=\"315\" y=\"135\"/>\n<rect height=\"45\" style=\"fill: #ebd1a6\" width=\"45\" x=\"0\" y=\"90\"/>\n<svg height=\"360\" version=\"1.1\" viewBox=\"0 -90 360 360\" width=\"360\" xmlns=\"http://www.w3.org/2000/svg\">\n  <path d=\"M 22,9 C 19.79,9 18,10.79 18,13 C 18,13.89 18.29,14.71 18.78,15.38 C 16.83,16.5 15.5,18.59 15.5,21 C 15.5,23.03 16.44,24.84 17.91,26.03 C 14.91,27.09 10.5,31.58 10.5,39.5 L 33.5,39.5 C 33.5,31.58 29.09,27.09 26.09,26.03 C 27.56,24.84 28.5,23.03 28.5,21 C 28.5,18.59 27.17,16.5 25.22,15.38 C 25.71,14.71 26,13.89 26,13 C 26,10.79 24.21,9 22,9 z \" style=\"opacity:1; fill:#000000; fill-opacity:1; fill-rule:nonzero; stroke:#000000; stroke-width:1.5; stroke-linecap:round; stroke-linejoin:miter; stroke-miterlimit:4; stroke-dasharray:none; stroke-opacity:1;\"/>\n</svg>\n<text style=\"font-size:11px;fill: #a57551\" x=\"2\" y=\"101\">6</text>\n<rect height=\"45\" style=\"fill: #a57551\" width=\"45\" x=\"45\" y=\"90\"/>\n<rect height=\"45\" style=\"fill: #ebd1a6\" width=\"45\" x=\"90\" y=\"90\"/>\n<rect height=\"45\" style=\"fill: #a57551\" width=\"45\" x=\"135\" y=\"90\"/>\n<svg height=\"360\" version=\"1.1\" viewBox=\"-135 -90 360 360\" width=\"360\" xmlns=\"http://www.w3.org/2000/svg\">\n  <g style=\"opacity:1; fill:none; fill-opacity:1; fill-rule:evenodd; stroke:#000000; stroke-width:1.5; stroke-linecap:round;stroke-linejoin:round;stroke-miterlimit:4; stroke-dasharray:none; stroke-opacity:1;\">\n    <path d=\"M 22,10 C 32.5,11 38.5,18 38,39 L 15,39 C 15,30 25,32.5 23,18\" style=\"fill:#000000; stroke:#000000;\"/>\n    <path d=\"M 24,18 C 24.38,20.91 18.45,25.37 16,27 C 13,29 13.18,31.34 11,31 C 9.958,30.06 12.41,27.96 11,28 C 10,28 11.19,29.23 10,30 C 9,30 5.997,31 6,26 C 6,24 12,14 12,14 C 12,14 13.89,12.1 14,10.5 C 13.27,9.506 13.5,8.5 13.5,7.5 C 14.5,6.5 16.5,10 16.5,10 L 18.5,10 C 18.5,10 19.28,8.008 21,7 C 22,7 22,10 22,10\" style=\"fill:#000000; stroke:#000000;\"/>\n    <path d=\"M 9.5 25.5 A 0.5 0.5 0 1 1 8.5,25.5 A 0.5 0.5 0 1 1 9.5 25.5 z\" style=\"fill:#ffffff; stroke:#ffffff;\"/>\n    <path d=\"M 15 15.5 A 0.5 1.5 0 1 1  14,15.5 A 0.5 1.5 0 1 1  15 15.5 z\" style=\"fill:#ffffff; stroke:#ffffff;\" transform=\"matrix(0.866,0.5,-0.5,0.866,9.693,-5.173)\"/>\n    <path d=\"M 24.55,10.4 L 24.1,11.85 L 24.6,12 C 27.75,13 30.25,14.49 32.5,18.75 C 34.75,23.01 35.75,29.06 35.25,39 L 35.2,39.5 L 37.45,39.5 L 37.5,39 C 38,28.94 36.62,22.15 34.25,17.66 C 31.88,13.17 28.46,11.02 25.06,10.5 L 24.55,10.4 z \" style=\"fill:#ffffff; stroke:none;\"/>\n  </g>\n</svg>\n<rect height=\"45\" style=\"fill: #ebd1a6\" width=\"45\" x=\"180\" y=\"90\"/>\n<rect height=\"45\" style=\"fill: #a57551\" width=\"45\" x=\"225\" y=\"90\"/>\n<rect height=\"45\" style=\"fill: #ebd1a6\" width=\"45\" x=\"270\" y=\"90\"/>\n<svg height=\"360\" version=\"1.1\" viewBox=\"-270 -90 360 360\" width=\"360\" xmlns=\"http://www.w3.org/2000/svg\">\n  <path d=\"M 22,9 C 19.79,9 18,10.79 18,13 C 18,13.89 18.29,14.71 18.78,15.38 C 16.83,16.5 15.5,18.59 15.5,21 C 15.5,23.03 16.44,24.84 17.91,26.03 C 14.91,27.09 10.5,31.58 10.5,39.5 L 33.5,39.5 C 33.5,31.58 29.09,27.09 26.09,26.03 C 27.56,24.84 28.5,23.03 28.5,21 C 28.5,18.59 27.17,16.5 25.22,15.38 C 25.71,14.71 26,13.89 26,13 C 26,10.79 24.21,9 22,9 z \" style=\"opacity:1; fill:#000000; fill-opacity:1; fill-rule:nonzero; stroke:#000000; stroke-width:1.5; stroke-linecap:round; stroke-linejoin:miter; stroke-miterlimit:4; stroke-dasharray:none; stroke-opacity:1;\"/>\n</svg>\n<rect height=\"45\" style=\"fill: #a57551\" width=\"45\" x=\"315\" y=\"90\"/>\n<svg height=\"360\" version=\"1.1\" viewBox=\"-315 -90 360 360\" width=\"360\" xmlns=\"http://www.w3.org/2000/svg\">\n  <g style=\"opacity:1; fill:none; fill-opacity:1; fill-rule:evenodd; stroke:#000000; stroke-width:1.5; stroke-linecap:round;stroke-linejoin:round;stroke-miterlimit:4; stroke-dasharray:none; stroke-opacity:1;\">\n    <path d=\"M 22,10 C 32.5,11 38.5,18 38,39 L 15,39 C 15,30 25,32.5 23,18\" style=\"fill:#000000; stroke:#000000;\"/>\n    <path d=\"M 24,18 C 24.38,20.91 18.45,25.37 16,27 C 13,29 13.18,31.34 11,31 C 9.958,30.06 12.41,27.96 11,28 C 10,28 11.19,29.23 10,30 C 9,30 5.997,31 6,26 C 6,24 12,14 12,14 C 12,14 13.89,12.1 14,10.5 C 13.27,9.506 13.5,8.5 13.5,7.5 C 14.5,6.5 16.5,10 16.5,10 L 18.5,10 C 18.5,10 19.28,8.008 21,7 C 22,7 22,10 22,10\" style=\"fill:#000000; stroke:#000000;\"/>\n    <path d=\"M 9.5 25.5 A 0.5 0.5 0 1 1 8.5,25.5 A 0.5 0.5 0 1 1 9.5 25.5 z\" style=\"fill:#ffffff; stroke:#ffffff;\"/>\n    <path d=\"M 15 15.5 A 0.5 1.5 0 1 1  14,15.5 A 0.5 1.5 0 1 1  15 15.5 z\" style=\"fill:#ffffff; stroke:#ffffff;\" transform=\"matrix(0.866,0.5,-0.5,0.866,9.693,-5.173)\"/>\n    <path d=\"M 24.55,10.4 L 24.1,11.85 L 24.6,12 C 27.75,13 30.25,14.49 32.5,18.75 C 34.75,23.01 35.75,29.06 35.25,39 L 35.2,39.5 L 37.45,39.5 L 37.5,39 C 38,28.94 36.62,22.15 34.25,17.66 C 31.88,13.17 28.46,11.02 25.06,10.5 L 24.55,10.4 z \" style=\"fill:#ffffff; stroke:none;\"/>\n  </g>\n</svg>\n<rect height=\"45\" style=\"fill: #a57551\" width=\"45\" x=\"0\" y=\"45\"/>\n<text style=\"font-size:11px;fill: #ebd1a6\" x=\"2\" y=\"56\">7</text>\n<rect height=\"45\" style=\"fill: #ebd1a6\" width=\"45\" x=\"45\" y=\"45\"/>\n<svg height=\"360\" version=\"1.1\" viewBox=\"-45 -45 360 360\" width=\"360\" xmlns=\"http://www.w3.org/2000/svg\">\n  <path d=\"M 22,9 C 19.79,9 18,10.79 18,13 C 18,13.89 18.29,14.71 18.78,15.38 C 16.83,16.5 15.5,18.59 15.5,21 C 15.5,23.03 16.44,24.84 17.91,26.03 C 14.91,27.09 10.5,31.58 10.5,39.5 L 33.5,39.5 C 33.5,31.58 29.09,27.09 26.09,26.03 C 27.56,24.84 28.5,23.03 28.5,21 C 28.5,18.59 27.17,16.5 25.22,15.38 C 25.71,14.71 26,13.89 26,13 C 26,10.79 24.21,9 22,9 z \" style=\"opacity:1; fill:#000000; fill-opacity:1; fill-rule:nonzero; stroke:#000000; stroke-width:1.5; stroke-linecap:round; stroke-linejoin:miter; stroke-miterlimit:4; stroke-dasharray:none; stroke-opacity:1;\"/>\n</svg>\n<rect height=\"45\" style=\"fill: #a57551\" width=\"45\" x=\"90\" y=\"45\"/>\n<rect height=\"45\" style=\"fill: #ebd1a6\" width=\"45\" x=\"135\" y=\"45\"/>\n<rect height=\"45\" style=\"fill: #a57551\" width=\"45\" x=\"180\" y=\"45\"/>\n<rect height=\"45\" style=\"fill: #ebd1a6\" width=\"45\" x=\"225\" y=\"45\"/>\n<svg height=\"360\" version=\"1.1\" viewBox=\"-225 -45 360 360\" width=\"360\" xmlns=\"http://www.w3.org/2000/svg\">\n  <path d=\"M 22,9 C 19.79,9 18,10.79 18,13 C 18,13.89 18.29,14.71 18.78,15.38 C 16.83,16.5 15.5,18.59 15.5,21 C 15.5,23.03 16.44,24.84 17.91,26.03 C 14.91,27.09 10.5,31.58 10.5,39.5 L 33.5,39.5 C 33.5,31.58 29.09,27.09 26.09,26.03 C 27.56,24.84 28.5,23.03 28.5,21 C 28.5,18.59 27.17,16.5 25.22,15.38 C 25.71,14.71 26,13.89 26,13 C 26,10.79 24.21,9 22,9 z \" style=\"opacity:1; fill:#000000; fill-opacity:1; fill-rule:nonzero; stroke:#000000; stroke-width:1.5; stroke-linecap:round; stroke-linejoin:miter; stroke-miterlimit:4; stroke-dasharray:none; stroke-opacity:1;\"/>\n</svg>\n<rect height=\"45\" style=\"fill: #a57551\" width=\"45\" x=\"270\" y=\"45\"/>\n<svg height=\"360\" version=\"1.1\" viewBox=\"-270 -45 360 360\" width=\"360\" xmlns=\"http://www.w3.org/2000/svg\">\n  <g style=\"fill:none; fill-opacity:1; fill-rule:evenodd; stroke:#000000; stroke-width:1.5; stroke-linecap:round;stroke-linejoin:round;stroke-miterlimit:4; stroke-dasharray:none; stroke-opacity:1;\">\n    <path d=\"M 22.5,11.63 L 22.5,6\" id=\"path6570\" style=\"fill:none; stroke:#000000; stroke-linejoin:miter;\"/>\n    <path d=\"M 22.5,25 C 22.5,25 27,17.5 25.5,14.5 C 25.5,14.5 24.5,12 22.5,12 C 20.5,12 19.5,14.5 19.5,14.5 C 18,17.5 22.5,25 22.5,25\" style=\"fill:#000000;fill-opacity:1; stroke-linecap:butt; stroke-linejoin:miter;\"/>\n    <path d=\"M 11.5,37 C 17,40.5 27,40.5 32.5,37 L 32.5,30 C 32.5,30 41.5,25.5 38.5,19.5 C 34.5,13 25,16 22.5,23.5 L 22.5,27 L 22.5,23.5 C 19,16 9.5,13 6.5,19.5 C 3.5,25.5 11.5,29.5 11.5,29.5 L 11.5,37 z \" style=\"fill:#000000; stroke:#000000;\"/>\n    <path d=\"M 20,8 L 25,8\" style=\"fill:none; stroke:#000000; stroke-linejoin:miter;\"/>\n    <path d=\"M 32,29.5 C 32,29.5 40.5,25.5 38.03,19.85 C 34.15,14 25,18 22.5,24.5 L 22.51,26.6 L 22.5,24.5 C 20,18 9.906,14 6.997,19.85 C 4.5,25.5 11.85,28.85 11.85,28.85\" style=\"fill:none; stroke:#ffffff;\"/>\n    <path d=\"M 11.5,30 C 17,27 27,27 32.5,30 M 11.5,33.5 C 17,30.5 27,30.5 32.5,33.5 M 11.5,37 C 17,34 27,34 32.5,37\" style=\"fill:none; stroke:#ffffff;\"/>\n  </g>\n</svg>\n<rect height=\"45\" style=\"fill: #ebd1a6\" width=\"45\" x=\"315\" y=\"45\"/>\n<svg height=\"360\" version=\"1.1\" viewBox=\"-315 -45 360 360\" width=\"360\" xmlns=\"http://www.w3.org/2000/svg\">\n  <path d=\"M 22,9 C 19.79,9 18,10.79 18,13 C 18,13.89 18.29,14.71 18.78,15.38 C 16.83,16.5 15.5,18.59 15.5,21 C 15.5,23.03 16.44,24.84 17.91,26.03 C 14.91,27.09 10.5,31.58 10.5,39.5 L 33.5,39.5 C 33.5,31.58 29.09,27.09 26.09,26.03 C 27.56,24.84 28.5,23.03 28.5,21 C 28.5,18.59 27.17,16.5 25.22,15.38 C 25.71,14.71 26,13.89 26,13 C 26,10.79 24.21,9 22,9 z \" style=\"opacity:1; fill:#000000; fill-opacity:1; fill-rule:nonzero; stroke:#000000; stroke-width:1.5; stroke-linecap:round; stroke-linejoin:miter; stroke-miterlimit:4; stroke-dasharray:none; stroke-opacity:1;\"/>\n</svg>\n<rect height=\"45\" style=\"fill: #ebd1a6\" width=\"45\" x=\"0\" y=\"0\"/>\n<svg height=\"360\" version=\"1.1\" viewBox=\"0 0 360 360\" width=\"360\" xmlns=\"http://www.w3.org/2000/svg\">\n  <g style=\"opacity:1; fill:000000; fill-opacity:1; fill-rule:evenodd; stroke:#000000; stroke-width:1.5; stroke-linecap:round;stroke-linejoin:round;stroke-miterlimit:4; stroke-dasharray:none; stroke-opacity:1;\">\n    <path d=\"M 9,39 L 36,39 L 36,36 L 9,36 L 9,39 z \" style=\"stroke-linecap:butt;\"/>\n    <path d=\"M 12.5,32 L 14,29.5 L 31,29.5 L 32.5,32 L 12.5,32 z \" style=\"stroke-linecap:butt;\"/>\n    <path d=\"M 12,36 L 12,32 L 33,32 L 33,36 L 12,36 z \" style=\"stroke-linecap:butt;\"/>\n    <path d=\"M 14,29.5 L 14,16.5 L 31,16.5 L 31,29.5 L 14,29.5 z \" style=\"stroke-linecap:butt;stroke-linejoin:miter;\"/>\n    <path d=\"M 14,16.5 L 11,14 L 34,14 L 31,16.5 L 14,16.5 z \" style=\"stroke-linecap:butt;\"/>\n    <path d=\"M 11,14 L 11,9 L 15,9 L 15,11 L 20,11 L 20,9 L 25,9 L 25,11 L 30,11 L 30,9 L 34,9 L 34,14 L 11,14 z \" style=\"stroke-linecap:butt;\"/>\n    <path d=\"M 12,35.5 L 33,35.5 L 33,35.5\" style=\"fill:none; stroke:#ffffff; stroke-width:1; stroke-linejoin:miter;\"/>\n    <path d=\"M 13,31.5 L 32,31.5\" style=\"fill:none; stroke:#ffffff; stroke-width:1; stroke-linejoin:miter;\"/>\n    <path d=\"M 14,29.5 L 31,29.5\" style=\"fill:none; stroke:#ffffff; stroke-width:1; stroke-linejoin:miter;\"/>\n    <path d=\"M 14,16.5 L 31,16.5\" style=\"fill:none; stroke:#ffffff; stroke-width:1; stroke-linejoin:miter;\"/>\n    <path d=\"M 11,14 L 34,14\" style=\"fill:none; stroke:#ffffff; stroke-width:1; stroke-linejoin:miter;\"/>\n  </g>\n</svg>\n<text style=\"font-size:11px;fill: #a57551\" x=\"2\" y=\"11\">8</text>\n<rect height=\"45\" style=\"fill: #a57551\" width=\"45\" x=\"45\" y=\"0\"/>\n<rect height=\"45\" style=\"fill: #ebd1a6\" width=\"45\" x=\"90\" y=\"0\"/>\n<rect height=\"45\" style=\"fill: #a57551\" width=\"45\" x=\"135\" y=\"0\"/>\n<svg height=\"360\" version=\"1.1\" viewBox=\"-135 0 360 360\" width=\"360\" xmlns=\"http://www.w3.org/2000/svg\">\n  <g style=\"opacity:1; fill:000000; fill-opacity:1; fill-rule:evenodd; stroke:#000000; stroke-width:1.5; stroke-linecap:round;stroke-linejoin:round;stroke-miterlimit:4; stroke-dasharray:none; stroke-opacity:1;\">\n    <path d=\"M 9,39 L 36,39 L 36,36 L 9,36 L 9,39 z \" style=\"stroke-linecap:butt;\"/>\n    <path d=\"M 12.5,32 L 14,29.5 L 31,29.5 L 32.5,32 L 12.5,32 z \" style=\"stroke-linecap:butt;\"/>\n    <path d=\"M 12,36 L 12,32 L 33,32 L 33,36 L 12,36 z \" style=\"stroke-linecap:butt;\"/>\n    <path d=\"M 14,29.5 L 14,16.5 L 31,16.5 L 31,29.5 L 14,29.5 z \" style=\"stroke-linecap:butt;stroke-linejoin:miter;\"/>\n    <path d=\"M 14,16.5 L 11,14 L 34,14 L 31,16.5 L 14,16.5 z \" style=\"stroke-linecap:butt;\"/>\n    <path d=\"M 11,14 L 11,9 L 15,9 L 15,11 L 20,11 L 20,9 L 25,9 L 25,11 L 30,11 L 30,9 L 34,9 L 34,14 L 11,14 z \" style=\"stroke-linecap:butt;\"/>\n    <path d=\"M 12,35.5 L 33,35.5 L 33,35.5\" style=\"fill:none; stroke:#ffffff; stroke-width:1; stroke-linejoin:miter;\"/>\n    <path d=\"M 13,31.5 L 32,31.5\" style=\"fill:none; stroke:#ffffff; stroke-width:1; stroke-linejoin:miter;\"/>\n    <path d=\"M 14,29.5 L 31,29.5\" style=\"fill:none; stroke:#ffffff; stroke-width:1; stroke-linejoin:miter;\"/>\n    <path d=\"M 14,16.5 L 31,16.5\" style=\"fill:none; stroke:#ffffff; stroke-width:1; stroke-linejoin:miter;\"/>\n    <path d=\"M 11,14 L 34,14\" style=\"fill:none; stroke:#ffffff; stroke-width:1; stroke-linejoin:miter;\"/>\n  </g>\n</svg>\n<rect height=\"45\" style=\"fill: #ebd1a6\" width=\"45\" x=\"180\" y=\"0\"/>\n<rect height=\"45\" style=\"fill: #a57551\" width=\"45\" x=\"225\" y=\"0\"/>\n<rect height=\"45\" style=\"fill: #ebd1a6\" width=\"45\" x=\"270\" y=\"0\"/>\n<rect height=\"45\" style=\"fill: #a57551\" width=\"45\" x=\"315\" y=\"0\"/>\n</svg>"
          },
          "metadata": {}
        },
        {
          "output_type": "stream",
          "name": "stdout",
          "text": [
            "Idx 198245 Eval -0.53 Prediction 0.45 Loss 0.98\n",
            "FEN 1k3r2/1pp5/p5p1/2q3pp/4p3/2P3QP/PP3PP1/3R2K1 w - - 0 27\n"
          ]
        },
        {
          "output_type": "display_data",
          "data": {
            "text/plain": [
              "<IPython.core.display.SVG object>"
            ],
            "image/svg+xml": "<svg height=\"360\" width=\"360\" xmlns=\"http://www.w3.org/2000/svg\" xmlns:xlink=\"http://www.w3.org/1999/xlink\">\n<rect height=\"360\" width=\"360\" x=\"0\" y=\"0\"/>\n<rect height=\"45\" style=\"fill: #a57551\" width=\"45\" x=\"0\" y=\"315\"/>\n<text style=\"font-size:11px;fill: #ebd1a6\" x=\"2\" y=\"326\">1</text>\n<text style=\"text-anchor:end;font-size:11px;fill: #ebd1a6\" x=\"42\" y=\"357\">a</text>\n<rect height=\"45\" style=\"fill: #ebd1a6\" width=\"45\" x=\"45\" y=\"315\"/>\n<text style=\"text-anchor:end;font-size:11px;fill: #a57551\" x=\"87\" y=\"357\">b</text>\n<rect height=\"45\" style=\"fill: #a57551\" width=\"45\" x=\"90\" y=\"315\"/>\n<text style=\"text-anchor:end;font-size:11px;fill: #ebd1a6\" x=\"132\" y=\"357\">c</text>\n<rect height=\"45\" style=\"fill: #ebd1a6\" width=\"45\" x=\"135\" y=\"315\"/>\n<svg height=\"360\" version=\"1.1\" viewBox=\"-135 -315 360 360\" width=\"360\" xmlns=\"http://www.w3.org/2000/svg\">\n  <g style=\"opacity:1; fill:#ffffff; fill-opacity:1; fill-rule:evenodd; stroke:#000000; stroke-width:1.5; stroke-linecap:round;stroke-linejoin:round;stroke-miterlimit:4; stroke-dasharray:none; stroke-opacity:1;\">\n    <path d=\"M 9,39 L 36,39 L 36,36 L 9,36 L 9,39 z \" style=\"stroke-linecap:butt;\"/>\n    <path d=\"M 12,36 L 12,32 L 33,32 L 33,36 L 12,36 z \" style=\"stroke-linecap:butt;\"/>\n    <path d=\"M 11,14 L 11,9 L 15,9 L 15,11 L 20,11 L 20,9 L 25,9 L 25,11 L 30,11 L 30,9 L 34,9 L 34,14\" style=\"stroke-linecap:butt;\"/>\n    <path d=\"M 34,14 L 31,17 L 14,17 L 11,14\"/>\n    <path d=\"M 31,17 L 31,29.5 L 14,29.5 L 14,17\" style=\"stroke-linecap:butt; stroke-linejoin:miter;\"/>\n    <path d=\"M 31,29.5 L 32.5,32 L 12.5,32 L 14,29.5\"/>\n    <path d=\"M 11,14 L 34,14\" style=\"fill:none; stroke:#000000; stroke-linejoin:miter;\"/>\n  </g>\n</svg>\n<text style=\"text-anchor:end;font-size:11px;fill: #a57551\" x=\"177\" y=\"357\">d</text>\n<rect height=\"45\" style=\"fill: #a57551\" width=\"45\" x=\"180\" y=\"315\"/>\n<text style=\"text-anchor:end;font-size:11px;fill: #ebd1a6\" x=\"222\" y=\"357\">e</text>\n<rect height=\"45\" style=\"fill: #ebd1a6\" width=\"45\" x=\"225\" y=\"315\"/>\n<text style=\"text-anchor:end;font-size:11px;fill: #a57551\" x=\"267\" y=\"357\">f</text>\n<rect height=\"45\" style=\"fill: #a57551\" width=\"45\" x=\"270\" y=\"315\"/>\n<svg height=\"360\" version=\"1.1\" viewBox=\"-270 -315 360 360\" width=\"360\" xmlns=\"http://www.w3.org/2000/svg\">\n  <g style=\"fill:none; fill-opacity:1; fill-rule:evenodd; stroke:#000000; stroke-width:1.5; stroke-linecap:round;stroke-linejoin:round;stroke-miterlimit:4; stroke-dasharray:none; stroke-opacity:1;\">\n    <path d=\"M 22.5,11.63 L 22.5,6\" style=\"fill:none; stroke:#000000; stroke-linejoin:miter;\"/>\n    <path d=\"M 20,8 L 25,8\" style=\"fill:none; stroke:#000000; stroke-linejoin:miter;\"/>\n    <path d=\"M 22.5,25 C 22.5,25 27,17.5 25.5,14.5 C 25.5,14.5 24.5,12 22.5,12 C 20.5,12 19.5,14.5 19.5,14.5 C 18,17.5 22.5,25 22.5,25\" style=\"fill:#ffffff; stroke:#000000; stroke-linecap:butt; stroke-linejoin:miter;\"/>\n    <path d=\"M 11.5,37 C 17,40.5 27,40.5 32.5,37 L 32.5,30 C 32.5,30 41.5,25.5 38.5,19.5 C 34.5,13 25,16 22.5,23.5 L 22.5,27 L 22.5,23.5 C 19,16 9.5,13 6.5,19.5 C 3.5,25.5 11.5,29.5 11.5,29.5 L 11.5,37 z \" style=\"fill:#ffffff; stroke:#000000;\"/>\n    <path d=\"M 11.5,30 C 17,27 27,27 32.5,30\" style=\"fill:none; stroke:#000000;\"/>\n    <path d=\"M 11.5,33.5 C 17,30.5 27,30.5 32.5,33.5\" style=\"fill:none; stroke:#000000;\"/>\n    <path d=\"M 11.5,37 C 17,34 27,34 32.5,37\" style=\"fill:none; stroke:#000000;\"/>\n  </g>\n</svg>\n<text style=\"text-anchor:end;font-size:11px;fill: #ebd1a6\" x=\"312\" y=\"357\">g</text>\n<rect height=\"45\" style=\"fill: #ebd1a6\" width=\"45\" x=\"315\" y=\"315\"/>\n<text style=\"text-anchor:end;font-size:11px;fill: #a57551\" x=\"357\" y=\"357\">h</text>\n<rect height=\"45\" style=\"fill: #ebd1a6\" width=\"45\" x=\"0\" y=\"270\"/>\n<svg height=\"360\" version=\"1.1\" viewBox=\"0 -270 360 360\" width=\"360\" xmlns=\"http://www.w3.org/2000/svg\">\n  <path d=\"M 22,9 C 19.79,9 18,10.79 18,13 C 18,13.89 18.29,14.71 18.78,15.38 C 16.83,16.5 15.5,18.59 15.5,21 C 15.5,23.03 16.44,24.84 17.91,26.03 C 14.91,27.09 10.5,31.58 10.5,39.5 L 33.5,39.5 C 33.5,31.58 29.09,27.09 26.09,26.03 C 27.56,24.84 28.5,23.03 28.5,21 C 28.5,18.59 27.17,16.5 25.22,15.38 C 25.71,14.71 26,13.89 26,13 C 26,10.79 24.21,9 22,9 z \" style=\"opacity:1; fill:#ffffff; fill-opacity:1; fill-rule:nonzero; stroke:#000000; stroke-width:1.5; stroke-linecap:round; stroke-linejoin:miter; stroke-miterlimit:4; stroke-dasharray:none; stroke-opacity:1;\"/>\n</svg>\n<text style=\"font-size:11px;fill: #a57551\" x=\"2\" y=\"281\">2</text>\n<rect height=\"45\" style=\"fill: #a57551\" width=\"45\" x=\"45\" y=\"270\"/>\n<svg height=\"360\" version=\"1.1\" viewBox=\"-45 -270 360 360\" width=\"360\" xmlns=\"http://www.w3.org/2000/svg\">\n  <path d=\"M 22,9 C 19.79,9 18,10.79 18,13 C 18,13.89 18.29,14.71 18.78,15.38 C 16.83,16.5 15.5,18.59 15.5,21 C 15.5,23.03 16.44,24.84 17.91,26.03 C 14.91,27.09 10.5,31.58 10.5,39.5 L 33.5,39.5 C 33.5,31.58 29.09,27.09 26.09,26.03 C 27.56,24.84 28.5,23.03 28.5,21 C 28.5,18.59 27.17,16.5 25.22,15.38 C 25.71,14.71 26,13.89 26,13 C 26,10.79 24.21,9 22,9 z \" style=\"opacity:1; fill:#ffffff; fill-opacity:1; fill-rule:nonzero; stroke:#000000; stroke-width:1.5; stroke-linecap:round; stroke-linejoin:miter; stroke-miterlimit:4; stroke-dasharray:none; stroke-opacity:1;\"/>\n</svg>\n<rect height=\"45\" style=\"fill: #ebd1a6\" width=\"45\" x=\"90\" y=\"270\"/>\n<rect height=\"45\" style=\"fill: #a57551\" width=\"45\" x=\"135\" y=\"270\"/>\n<rect height=\"45\" style=\"fill: #ebd1a6\" width=\"45\" x=\"180\" y=\"270\"/>\n<rect height=\"45\" style=\"fill: #a57551\" width=\"45\" x=\"225\" y=\"270\"/>\n<svg height=\"360\" version=\"1.1\" viewBox=\"-225 -270 360 360\" width=\"360\" xmlns=\"http://www.w3.org/2000/svg\">\n  <path d=\"M 22,9 C 19.79,9 18,10.79 18,13 C 18,13.89 18.29,14.71 18.78,15.38 C 16.83,16.5 15.5,18.59 15.5,21 C 15.5,23.03 16.44,24.84 17.91,26.03 C 14.91,27.09 10.5,31.58 10.5,39.5 L 33.5,39.5 C 33.5,31.58 29.09,27.09 26.09,26.03 C 27.56,24.84 28.5,23.03 28.5,21 C 28.5,18.59 27.17,16.5 25.22,15.38 C 25.71,14.71 26,13.89 26,13 C 26,10.79 24.21,9 22,9 z \" style=\"opacity:1; fill:#ffffff; fill-opacity:1; fill-rule:nonzero; stroke:#000000; stroke-width:1.5; stroke-linecap:round; stroke-linejoin:miter; stroke-miterlimit:4; stroke-dasharray:none; stroke-opacity:1;\"/>\n</svg>\n<rect height=\"45\" style=\"fill: #ebd1a6\" width=\"45\" x=\"270\" y=\"270\"/>\n<svg height=\"360\" version=\"1.1\" viewBox=\"-270 -270 360 360\" width=\"360\" xmlns=\"http://www.w3.org/2000/svg\">\n  <path d=\"M 22,9 C 19.79,9 18,10.79 18,13 C 18,13.89 18.29,14.71 18.78,15.38 C 16.83,16.5 15.5,18.59 15.5,21 C 15.5,23.03 16.44,24.84 17.91,26.03 C 14.91,27.09 10.5,31.58 10.5,39.5 L 33.5,39.5 C 33.5,31.58 29.09,27.09 26.09,26.03 C 27.56,24.84 28.5,23.03 28.5,21 C 28.5,18.59 27.17,16.5 25.22,15.38 C 25.71,14.71 26,13.89 26,13 C 26,10.79 24.21,9 22,9 z \" style=\"opacity:1; fill:#ffffff; fill-opacity:1; fill-rule:nonzero; stroke:#000000; stroke-width:1.5; stroke-linecap:round; stroke-linejoin:miter; stroke-miterlimit:4; stroke-dasharray:none; stroke-opacity:1;\"/>\n</svg>\n<rect height=\"45\" style=\"fill: #a57551\" width=\"45\" x=\"315\" y=\"270\"/>\n<rect height=\"45\" style=\"fill: #a57551\" width=\"45\" x=\"0\" y=\"225\"/>\n<text style=\"font-size:11px;fill: #ebd1a6\" x=\"2\" y=\"236\">3</text>\n<rect height=\"45\" style=\"fill: #ebd1a6\" width=\"45\" x=\"45\" y=\"225\"/>\n<rect height=\"45\" style=\"fill: #a57551\" width=\"45\" x=\"90\" y=\"225\"/>\n<svg height=\"360\" version=\"1.1\" viewBox=\"-90 -225 360 360\" width=\"360\" xmlns=\"http://www.w3.org/2000/svg\">\n  <path d=\"M 22,9 C 19.79,9 18,10.79 18,13 C 18,13.89 18.29,14.71 18.78,15.38 C 16.83,16.5 15.5,18.59 15.5,21 C 15.5,23.03 16.44,24.84 17.91,26.03 C 14.91,27.09 10.5,31.58 10.5,39.5 L 33.5,39.5 C 33.5,31.58 29.09,27.09 26.09,26.03 C 27.56,24.84 28.5,23.03 28.5,21 C 28.5,18.59 27.17,16.5 25.22,15.38 C 25.71,14.71 26,13.89 26,13 C 26,10.79 24.21,9 22,9 z \" style=\"opacity:1; fill:#ffffff; fill-opacity:1; fill-rule:nonzero; stroke:#000000; stroke-width:1.5; stroke-linecap:round; stroke-linejoin:miter; stroke-miterlimit:4; stroke-dasharray:none; stroke-opacity:1;\"/>\n</svg>\n<rect height=\"45\" style=\"fill: #ebd1a6\" width=\"45\" x=\"135\" y=\"225\"/>\n<rect height=\"45\" style=\"fill: #a57551\" width=\"45\" x=\"180\" y=\"225\"/>\n<rect height=\"45\" style=\"fill: #ebd1a6\" width=\"45\" x=\"225\" y=\"225\"/>\n<rect height=\"45\" style=\"fill: #a57551\" width=\"45\" x=\"270\" y=\"225\"/>\n<svg height=\"360\" version=\"1.1\" viewBox=\"-270 -225 360 360\" width=\"360\" xmlns=\"http://www.w3.org/2000/svg\">\n  <g style=\"opacity:1; fill:#ffffff; fill-opacity:1; fill-rule:evenodd; stroke:#000000; stroke-width:1.5; stroke-linecap:round;stroke-linejoin:round;stroke-miterlimit:4; stroke-dasharray:none; stroke-opacity:1;\">\n    <path d=\"M 9 13 A 2 2 0 1 1  5,13 A 2 2 0 1 1  9 13 z\" transform=\"translate(-1,-1)\"/>\n    <path d=\"M 9 13 A 2 2 0 1 1  5,13 A 2 2 0 1 1  9 13 z\" transform=\"translate(15.5,-5.5)\"/>\n    <path d=\"M 9 13 A 2 2 0 1 1  5,13 A 2 2 0 1 1  9 13 z\" transform=\"translate(32,-1)\"/>\n    <path d=\"M 9 13 A 2 2 0 1 1  5,13 A 2 2 0 1 1  9 13 z\" transform=\"translate(7,-4.5)\"/>\n    <path d=\"M 9 13 A 2 2 0 1 1  5,13 A 2 2 0 1 1  9 13 z\" transform=\"translate(24,-4)\"/>\n    <path d=\"M 9,26 C 17.5,24.5 30,24.5 36,26 L 38,14 L 31,25 L 31,11 L 25.5,24.5 L 22.5,9.5 L 19.5,24.5 L 14,10.5 L 14,25 L 7,14 L 9,26 z \" style=\"stroke-linecap:butt;\"/>\n    <path d=\"M 9,26 C 9,28 10.5,28 11.5,30 C 12.5,31.5 12.5,31 12,33.5 C 10.5,34.5 10.5,36 10.5,36 C 9,37.5 11,38.5 11,38.5 C 17.5,39.5 27.5,39.5 34,38.5 C 34,38.5 35.5,37.5 34,36 C 34,36 34.5,34.5 33,33.5 C 32.5,31 32.5,31.5 33.5,30 C 34.5,28 36,28 36,26 C 27.5,24.5 17.5,24.5 9,26 z \" style=\"stroke-linecap:butt;\"/>\n    <path d=\"M 11.5,30 C 15,29 30,29 33.5,30\" style=\"fill:none;\"/>\n    <path d=\"M 12,33.5 C 18,32.5 27,32.5 33,33.5\" style=\"fill:none;\"/>\n  </g>\n</svg>\n<rect height=\"45\" style=\"fill: #ebd1a6\" width=\"45\" x=\"315\" y=\"225\"/>\n<svg height=\"360\" version=\"1.1\" viewBox=\"-315 -225 360 360\" width=\"360\" xmlns=\"http://www.w3.org/2000/svg\">\n  <path d=\"M 22,9 C 19.79,9 18,10.79 18,13 C 18,13.89 18.29,14.71 18.78,15.38 C 16.83,16.5 15.5,18.59 15.5,21 C 15.5,23.03 16.44,24.84 17.91,26.03 C 14.91,27.09 10.5,31.58 10.5,39.5 L 33.5,39.5 C 33.5,31.58 29.09,27.09 26.09,26.03 C 27.56,24.84 28.5,23.03 28.5,21 C 28.5,18.59 27.17,16.5 25.22,15.38 C 25.71,14.71 26,13.89 26,13 C 26,10.79 24.21,9 22,9 z \" style=\"opacity:1; fill:#ffffff; fill-opacity:1; fill-rule:nonzero; stroke:#000000; stroke-width:1.5; stroke-linecap:round; stroke-linejoin:miter; stroke-miterlimit:4; stroke-dasharray:none; stroke-opacity:1;\"/>\n</svg>\n<rect height=\"45\" style=\"fill: #ebd1a6\" width=\"45\" x=\"0\" y=\"180\"/>\n<text style=\"font-size:11px;fill: #a57551\" x=\"2\" y=\"191\">4</text>\n<rect height=\"45\" style=\"fill: #a57551\" width=\"45\" x=\"45\" y=\"180\"/>\n<rect height=\"45\" style=\"fill: #ebd1a6\" width=\"45\" x=\"90\" y=\"180\"/>\n<rect height=\"45\" style=\"fill: #a57551\" width=\"45\" x=\"135\" y=\"180\"/>\n<rect height=\"45\" style=\"fill: #ebd1a6\" width=\"45\" x=\"180\" y=\"180\"/>\n<svg height=\"360\" version=\"1.1\" viewBox=\"-180 -180 360 360\" width=\"360\" xmlns=\"http://www.w3.org/2000/svg\">\n  <path d=\"M 22,9 C 19.79,9 18,10.79 18,13 C 18,13.89 18.29,14.71 18.78,15.38 C 16.83,16.5 15.5,18.59 15.5,21 C 15.5,23.03 16.44,24.84 17.91,26.03 C 14.91,27.09 10.5,31.58 10.5,39.5 L 33.5,39.5 C 33.5,31.58 29.09,27.09 26.09,26.03 C 27.56,24.84 28.5,23.03 28.5,21 C 28.5,18.59 27.17,16.5 25.22,15.38 C 25.71,14.71 26,13.89 26,13 C 26,10.79 24.21,9 22,9 z \" style=\"opacity:1; fill:#000000; fill-opacity:1; fill-rule:nonzero; stroke:#000000; stroke-width:1.5; stroke-linecap:round; stroke-linejoin:miter; stroke-miterlimit:4; stroke-dasharray:none; stroke-opacity:1;\"/>\n</svg>\n<rect height=\"45\" style=\"fill: #a57551\" width=\"45\" x=\"225\" y=\"180\"/>\n<rect height=\"45\" style=\"fill: #ebd1a6\" width=\"45\" x=\"270\" y=\"180\"/>\n<rect height=\"45\" style=\"fill: #a57551\" width=\"45\" x=\"315\" y=\"180\"/>\n<rect height=\"45\" style=\"fill: #a57551\" width=\"45\" x=\"0\" y=\"135\"/>\n<text style=\"font-size:11px;fill: #ebd1a6\" x=\"2\" y=\"146\">5</text>\n<rect height=\"45\" style=\"fill: #ebd1a6\" width=\"45\" x=\"45\" y=\"135\"/>\n<rect height=\"45\" style=\"fill: #a57551\" width=\"45\" x=\"90\" y=\"135\"/>\n<svg height=\"360\" version=\"1.1\" viewBox=\"-90 -135 360 360\" width=\"360\" xmlns=\"http://www.w3.org/2000/svg\">\n  <g style=\"opacity:1; fill:000000; fill-opacity:1; fill-rule:evenodd; stroke:#000000; stroke-width:1.5; stroke-linecap:round;stroke-linejoin:round;stroke-miterlimit:4; stroke-dasharray:none; stroke-opacity:1;\">\n    <g style=\"fill:#000000; stroke:none;\">\n      <circle cx=\"6\" cy=\"12\" r=\"2.75\"/>\n      <circle cx=\"14\" cy=\"9\" r=\"2.75\"/>\n      <circle cx=\"22.5\" cy=\"8\" r=\"2.75\"/>\n      <circle cx=\"31\" cy=\"9\" r=\"2.75\"/>\n      <circle cx=\"39\" cy=\"12\" r=\"2.75\"/>\n    </g>\n    <path d=\"M 9,26 C 17.5,24.5 30,24.5 36,26 L 38.5,13.5 L 31,25 L 30.7,10.9 L 25.5,24.5 L 22.5,10 L 19.5,24.5 L 14.3,10.9 L 14,25 L 6.5,13.5 L 9,26 z\" style=\"stroke-linecap:butt; stroke:#000000;\"/>\n    <path d=\"M 9,26 C 9,28 10.5,28 11.5,30 C 12.5,31.5 12.5,31 12,33.5 C 10.5,34.5 10.5,36 10.5,36 C 9,37.5 11,38.5 11,38.5 C 17.5,39.5 27.5,39.5 34,38.5 C 34,38.5 35.5,37.5 34,36 C 34,36 34.5,34.5 33,33.5 C 32.5,31 32.5,31.5 33.5,30 C 34.5,28 36,28 36,26 C 27.5,24.5 17.5,24.5 9,26 z\" style=\"stroke-linecap:butt;\"/>\n    <path d=\"M 11,38.5 A 35,35 1 0 0 34,38.5\" style=\"fill:none; stroke:#000000; stroke-linecap:butt;\"/>\n    <path d=\"M 11,29 A 35,35 1 0 1 34,29\" style=\"fill:none; stroke:#ffffff;\"/>\n    <path d=\"M 12.5,31.5 L 32.5,31.5\" style=\"fill:none; stroke:#ffffff;\"/>\n    <path d=\"M 11.5,34.5 A 35,35 1 0 0 33.5,34.5\" style=\"fill:none; stroke:#ffffff;\"/>\n    <path d=\"M 10.5,37.5 A 35,35 1 0 0 34.5,37.5\" style=\"fill:none; stroke:#ffffff;\"/>\n  </g>\n</svg>\n<rect height=\"45\" style=\"fill: #ebd1a6\" width=\"45\" x=\"135\" y=\"135\"/>\n<rect height=\"45\" style=\"fill: #a57551\" width=\"45\" x=\"180\" y=\"135\"/>\n<rect height=\"45\" style=\"fill: #ebd1a6\" width=\"45\" x=\"225\" y=\"135\"/>\n<rect height=\"45\" style=\"fill: #a57551\" width=\"45\" x=\"270\" y=\"135\"/>\n<svg height=\"360\" version=\"1.1\" viewBox=\"-270 -135 360 360\" width=\"360\" xmlns=\"http://www.w3.org/2000/svg\">\n  <path d=\"M 22,9 C 19.79,9 18,10.79 18,13 C 18,13.89 18.29,14.71 18.78,15.38 C 16.83,16.5 15.5,18.59 15.5,21 C 15.5,23.03 16.44,24.84 17.91,26.03 C 14.91,27.09 10.5,31.58 10.5,39.5 L 33.5,39.5 C 33.5,31.58 29.09,27.09 26.09,26.03 C 27.56,24.84 28.5,23.03 28.5,21 C 28.5,18.59 27.17,16.5 25.22,15.38 C 25.71,14.71 26,13.89 26,13 C 26,10.79 24.21,9 22,9 z \" style=\"opacity:1; fill:#000000; fill-opacity:1; fill-rule:nonzero; stroke:#000000; stroke-width:1.5; stroke-linecap:round; stroke-linejoin:miter; stroke-miterlimit:4; stroke-dasharray:none; stroke-opacity:1;\"/>\n</svg>\n<rect height=\"45\" style=\"fill: #ebd1a6\" width=\"45\" x=\"315\" y=\"135\"/>\n<svg height=\"360\" version=\"1.1\" viewBox=\"-315 -135 360 360\" width=\"360\" xmlns=\"http://www.w3.org/2000/svg\">\n  <path d=\"M 22,9 C 19.79,9 18,10.79 18,13 C 18,13.89 18.29,14.71 18.78,15.38 C 16.83,16.5 15.5,18.59 15.5,21 C 15.5,23.03 16.44,24.84 17.91,26.03 C 14.91,27.09 10.5,31.58 10.5,39.5 L 33.5,39.5 C 33.5,31.58 29.09,27.09 26.09,26.03 C 27.56,24.84 28.5,23.03 28.5,21 C 28.5,18.59 27.17,16.5 25.22,15.38 C 25.71,14.71 26,13.89 26,13 C 26,10.79 24.21,9 22,9 z \" style=\"opacity:1; fill:#000000; fill-opacity:1; fill-rule:nonzero; stroke:#000000; stroke-width:1.5; stroke-linecap:round; stroke-linejoin:miter; stroke-miterlimit:4; stroke-dasharray:none; stroke-opacity:1;\"/>\n</svg>\n<rect height=\"45\" style=\"fill: #ebd1a6\" width=\"45\" x=\"0\" y=\"90\"/>\n<svg height=\"360\" version=\"1.1\" viewBox=\"0 -90 360 360\" width=\"360\" xmlns=\"http://www.w3.org/2000/svg\">\n  <path d=\"M 22,9 C 19.79,9 18,10.79 18,13 C 18,13.89 18.29,14.71 18.78,15.38 C 16.83,16.5 15.5,18.59 15.5,21 C 15.5,23.03 16.44,24.84 17.91,26.03 C 14.91,27.09 10.5,31.58 10.5,39.5 L 33.5,39.5 C 33.5,31.58 29.09,27.09 26.09,26.03 C 27.56,24.84 28.5,23.03 28.5,21 C 28.5,18.59 27.17,16.5 25.22,15.38 C 25.71,14.71 26,13.89 26,13 C 26,10.79 24.21,9 22,9 z \" style=\"opacity:1; fill:#000000; fill-opacity:1; fill-rule:nonzero; stroke:#000000; stroke-width:1.5; stroke-linecap:round; stroke-linejoin:miter; stroke-miterlimit:4; stroke-dasharray:none; stroke-opacity:1;\"/>\n</svg>\n<text style=\"font-size:11px;fill: #a57551\" x=\"2\" y=\"101\">6</text>\n<rect height=\"45\" style=\"fill: #a57551\" width=\"45\" x=\"45\" y=\"90\"/>\n<rect height=\"45\" style=\"fill: #ebd1a6\" width=\"45\" x=\"90\" y=\"90\"/>\n<rect height=\"45\" style=\"fill: #a57551\" width=\"45\" x=\"135\" y=\"90\"/>\n<rect height=\"45\" style=\"fill: #ebd1a6\" width=\"45\" x=\"180\" y=\"90\"/>\n<rect height=\"45\" style=\"fill: #a57551\" width=\"45\" x=\"225\" y=\"90\"/>\n<rect height=\"45\" style=\"fill: #ebd1a6\" width=\"45\" x=\"270\" y=\"90\"/>\n<svg height=\"360\" version=\"1.1\" viewBox=\"-270 -90 360 360\" width=\"360\" xmlns=\"http://www.w3.org/2000/svg\">\n  <path d=\"M 22,9 C 19.79,9 18,10.79 18,13 C 18,13.89 18.29,14.71 18.78,15.38 C 16.83,16.5 15.5,18.59 15.5,21 C 15.5,23.03 16.44,24.84 17.91,26.03 C 14.91,27.09 10.5,31.58 10.5,39.5 L 33.5,39.5 C 33.5,31.58 29.09,27.09 26.09,26.03 C 27.56,24.84 28.5,23.03 28.5,21 C 28.5,18.59 27.17,16.5 25.22,15.38 C 25.71,14.71 26,13.89 26,13 C 26,10.79 24.21,9 22,9 z \" style=\"opacity:1; fill:#000000; fill-opacity:1; fill-rule:nonzero; stroke:#000000; stroke-width:1.5; stroke-linecap:round; stroke-linejoin:miter; stroke-miterlimit:4; stroke-dasharray:none; stroke-opacity:1;\"/>\n</svg>\n<rect height=\"45\" style=\"fill: #a57551\" width=\"45\" x=\"315\" y=\"90\"/>\n<rect height=\"45\" style=\"fill: #a57551\" width=\"45\" x=\"0\" y=\"45\"/>\n<text style=\"font-size:11px;fill: #ebd1a6\" x=\"2\" y=\"56\">7</text>\n<rect height=\"45\" style=\"fill: #ebd1a6\" width=\"45\" x=\"45\" y=\"45\"/>\n<svg height=\"360\" version=\"1.1\" viewBox=\"-45 -45 360 360\" width=\"360\" xmlns=\"http://www.w3.org/2000/svg\">\n  <path d=\"M 22,9 C 19.79,9 18,10.79 18,13 C 18,13.89 18.29,14.71 18.78,15.38 C 16.83,16.5 15.5,18.59 15.5,21 C 15.5,23.03 16.44,24.84 17.91,26.03 C 14.91,27.09 10.5,31.58 10.5,39.5 L 33.5,39.5 C 33.5,31.58 29.09,27.09 26.09,26.03 C 27.56,24.84 28.5,23.03 28.5,21 C 28.5,18.59 27.17,16.5 25.22,15.38 C 25.71,14.71 26,13.89 26,13 C 26,10.79 24.21,9 22,9 z \" style=\"opacity:1; fill:#000000; fill-opacity:1; fill-rule:nonzero; stroke:#000000; stroke-width:1.5; stroke-linecap:round; stroke-linejoin:miter; stroke-miterlimit:4; stroke-dasharray:none; stroke-opacity:1;\"/>\n</svg>\n<rect height=\"45\" style=\"fill: #a57551\" width=\"45\" x=\"90\" y=\"45\"/>\n<svg height=\"360\" version=\"1.1\" viewBox=\"-90 -45 360 360\" width=\"360\" xmlns=\"http://www.w3.org/2000/svg\">\n  <path d=\"M 22,9 C 19.79,9 18,10.79 18,13 C 18,13.89 18.29,14.71 18.78,15.38 C 16.83,16.5 15.5,18.59 15.5,21 C 15.5,23.03 16.44,24.84 17.91,26.03 C 14.91,27.09 10.5,31.58 10.5,39.5 L 33.5,39.5 C 33.5,31.58 29.09,27.09 26.09,26.03 C 27.56,24.84 28.5,23.03 28.5,21 C 28.5,18.59 27.17,16.5 25.22,15.38 C 25.71,14.71 26,13.89 26,13 C 26,10.79 24.21,9 22,9 z \" style=\"opacity:1; fill:#000000; fill-opacity:1; fill-rule:nonzero; stroke:#000000; stroke-width:1.5; stroke-linecap:round; stroke-linejoin:miter; stroke-miterlimit:4; stroke-dasharray:none; stroke-opacity:1;\"/>\n</svg>\n<rect height=\"45\" style=\"fill: #ebd1a6\" width=\"45\" x=\"135\" y=\"45\"/>\n<rect height=\"45\" style=\"fill: #a57551\" width=\"45\" x=\"180\" y=\"45\"/>\n<rect height=\"45\" style=\"fill: #ebd1a6\" width=\"45\" x=\"225\" y=\"45\"/>\n<rect height=\"45\" style=\"fill: #a57551\" width=\"45\" x=\"270\" y=\"45\"/>\n<rect height=\"45\" style=\"fill: #ebd1a6\" width=\"45\" x=\"315\" y=\"45\"/>\n<rect height=\"45\" style=\"fill: #ebd1a6\" width=\"45\" x=\"0\" y=\"0\"/>\n<text style=\"font-size:11px;fill: #a57551\" x=\"2\" y=\"11\">8</text>\n<rect height=\"45\" style=\"fill: #a57551\" width=\"45\" x=\"45\" y=\"0\"/>\n<svg height=\"360\" version=\"1.1\" viewBox=\"-45 0 360 360\" width=\"360\" xmlns=\"http://www.w3.org/2000/svg\">\n  <g style=\"fill:none; fill-opacity:1; fill-rule:evenodd; stroke:#000000; stroke-width:1.5; stroke-linecap:round;stroke-linejoin:round;stroke-miterlimit:4; stroke-dasharray:none; stroke-opacity:1;\">\n    <path d=\"M 22.5,11.63 L 22.5,6\" id=\"path6570\" style=\"fill:none; stroke:#000000; stroke-linejoin:miter;\"/>\n    <path d=\"M 22.5,25 C 22.5,25 27,17.5 25.5,14.5 C 25.5,14.5 24.5,12 22.5,12 C 20.5,12 19.5,14.5 19.5,14.5 C 18,17.5 22.5,25 22.5,25\" style=\"fill:#000000;fill-opacity:1; stroke-linecap:butt; stroke-linejoin:miter;\"/>\n    <path d=\"M 11.5,37 C 17,40.5 27,40.5 32.5,37 L 32.5,30 C 32.5,30 41.5,25.5 38.5,19.5 C 34.5,13 25,16 22.5,23.5 L 22.5,27 L 22.5,23.5 C 19,16 9.5,13 6.5,19.5 C 3.5,25.5 11.5,29.5 11.5,29.5 L 11.5,37 z \" style=\"fill:#000000; stroke:#000000;\"/>\n    <path d=\"M 20,8 L 25,8\" style=\"fill:none; stroke:#000000; stroke-linejoin:miter;\"/>\n    <path d=\"M 32,29.5 C 32,29.5 40.5,25.5 38.03,19.85 C 34.15,14 25,18 22.5,24.5 L 22.51,26.6 L 22.5,24.5 C 20,18 9.906,14 6.997,19.85 C 4.5,25.5 11.85,28.85 11.85,28.85\" style=\"fill:none; stroke:#ffffff;\"/>\n    <path d=\"M 11.5,30 C 17,27 27,27 32.5,30 M 11.5,33.5 C 17,30.5 27,30.5 32.5,33.5 M 11.5,37 C 17,34 27,34 32.5,37\" style=\"fill:none; stroke:#ffffff;\"/>\n  </g>\n</svg>\n<rect height=\"45\" style=\"fill: #ebd1a6\" width=\"45\" x=\"90\" y=\"0\"/>\n<rect height=\"45\" style=\"fill: #a57551\" width=\"45\" x=\"135\" y=\"0\"/>\n<rect height=\"45\" style=\"fill: #ebd1a6\" width=\"45\" x=\"180\" y=\"0\"/>\n<rect height=\"45\" style=\"fill: #a57551\" width=\"45\" x=\"225\" y=\"0\"/>\n<svg height=\"360\" version=\"1.1\" viewBox=\"-225 0 360 360\" width=\"360\" xmlns=\"http://www.w3.org/2000/svg\">\n  <g style=\"opacity:1; fill:000000; fill-opacity:1; fill-rule:evenodd; stroke:#000000; stroke-width:1.5; stroke-linecap:round;stroke-linejoin:round;stroke-miterlimit:4; stroke-dasharray:none; stroke-opacity:1;\">\n    <path d=\"M 9,39 L 36,39 L 36,36 L 9,36 L 9,39 z \" style=\"stroke-linecap:butt;\"/>\n    <path d=\"M 12.5,32 L 14,29.5 L 31,29.5 L 32.5,32 L 12.5,32 z \" style=\"stroke-linecap:butt;\"/>\n    <path d=\"M 12,36 L 12,32 L 33,32 L 33,36 L 12,36 z \" style=\"stroke-linecap:butt;\"/>\n    <path d=\"M 14,29.5 L 14,16.5 L 31,16.5 L 31,29.5 L 14,29.5 z \" style=\"stroke-linecap:butt;stroke-linejoin:miter;\"/>\n    <path d=\"M 14,16.5 L 11,14 L 34,14 L 31,16.5 L 14,16.5 z \" style=\"stroke-linecap:butt;\"/>\n    <path d=\"M 11,14 L 11,9 L 15,9 L 15,11 L 20,11 L 20,9 L 25,9 L 25,11 L 30,11 L 30,9 L 34,9 L 34,14 L 11,14 z \" style=\"stroke-linecap:butt;\"/>\n    <path d=\"M 12,35.5 L 33,35.5 L 33,35.5\" style=\"fill:none; stroke:#ffffff; stroke-width:1; stroke-linejoin:miter;\"/>\n    <path d=\"M 13,31.5 L 32,31.5\" style=\"fill:none; stroke:#ffffff; stroke-width:1; stroke-linejoin:miter;\"/>\n    <path d=\"M 14,29.5 L 31,29.5\" style=\"fill:none; stroke:#ffffff; stroke-width:1; stroke-linejoin:miter;\"/>\n    <path d=\"M 14,16.5 L 31,16.5\" style=\"fill:none; stroke:#ffffff; stroke-width:1; stroke-linejoin:miter;\"/>\n    <path d=\"M 11,14 L 34,14\" style=\"fill:none; stroke:#ffffff; stroke-width:1; stroke-linejoin:miter;\"/>\n  </g>\n</svg>\n<rect height=\"45\" style=\"fill: #ebd1a6\" width=\"45\" x=\"270\" y=\"0\"/>\n<rect height=\"45\" style=\"fill: #a57551\" width=\"45\" x=\"315\" y=\"0\"/>\n</svg>"
          },
          "metadata": {}
        },
        {
          "output_type": "stream",
          "name": "stdout",
          "text": [
            "Idx 269804 Eval 10.93 Prediction 5.44 Loss 5.49\n",
            "FEN 7k/pp3Q2/6p1/3p3p/6P1/5P2/PPq1R3/5K2 b - - 0 29\n"
          ]
        },
        {
          "output_type": "display_data",
          "data": {
            "text/plain": [
              "<IPython.core.display.SVG object>"
            ],
            "image/svg+xml": "<svg height=\"360\" width=\"360\" xmlns=\"http://www.w3.org/2000/svg\" xmlns:xlink=\"http://www.w3.org/1999/xlink\">\n<rect height=\"360\" width=\"360\" x=\"0\" y=\"0\"/>\n<rect height=\"45\" style=\"fill: #a57551\" width=\"45\" x=\"0\" y=\"315\"/>\n<text style=\"font-size:11px;fill: #ebd1a6\" x=\"2\" y=\"326\">1</text>\n<text style=\"text-anchor:end;font-size:11px;fill: #ebd1a6\" x=\"42\" y=\"357\">a</text>\n<rect height=\"45\" style=\"fill: #ebd1a6\" width=\"45\" x=\"45\" y=\"315\"/>\n<text style=\"text-anchor:end;font-size:11px;fill: #a57551\" x=\"87\" y=\"357\">b</text>\n<rect height=\"45\" style=\"fill: #a57551\" width=\"45\" x=\"90\" y=\"315\"/>\n<text style=\"text-anchor:end;font-size:11px;fill: #ebd1a6\" x=\"132\" y=\"357\">c</text>\n<rect height=\"45\" style=\"fill: #ebd1a6\" width=\"45\" x=\"135\" y=\"315\"/>\n<text style=\"text-anchor:end;font-size:11px;fill: #a57551\" x=\"177\" y=\"357\">d</text>\n<rect height=\"45\" style=\"fill: #a57551\" width=\"45\" x=\"180\" y=\"315\"/>\n<text style=\"text-anchor:end;font-size:11px;fill: #ebd1a6\" x=\"222\" y=\"357\">e</text>\n<rect height=\"45\" style=\"fill: #ebd1a6\" width=\"45\" x=\"225\" y=\"315\"/>\n<svg height=\"360\" version=\"1.1\" viewBox=\"-225 -315 360 360\" width=\"360\" xmlns=\"http://www.w3.org/2000/svg\">\n  <g style=\"fill:none; fill-opacity:1; fill-rule:evenodd; stroke:#000000; stroke-width:1.5; stroke-linecap:round;stroke-linejoin:round;stroke-miterlimit:4; stroke-dasharray:none; stroke-opacity:1;\">\n    <path d=\"M 22.5,11.63 L 22.5,6\" style=\"fill:none; stroke:#000000; stroke-linejoin:miter;\"/>\n    <path d=\"M 20,8 L 25,8\" style=\"fill:none; stroke:#000000; stroke-linejoin:miter;\"/>\n    <path d=\"M 22.5,25 C 22.5,25 27,17.5 25.5,14.5 C 25.5,14.5 24.5,12 22.5,12 C 20.5,12 19.5,14.5 19.5,14.5 C 18,17.5 22.5,25 22.5,25\" style=\"fill:#ffffff; stroke:#000000; stroke-linecap:butt; stroke-linejoin:miter;\"/>\n    <path d=\"M 11.5,37 C 17,40.5 27,40.5 32.5,37 L 32.5,30 C 32.5,30 41.5,25.5 38.5,19.5 C 34.5,13 25,16 22.5,23.5 L 22.5,27 L 22.5,23.5 C 19,16 9.5,13 6.5,19.5 C 3.5,25.5 11.5,29.5 11.5,29.5 L 11.5,37 z \" style=\"fill:#ffffff; stroke:#000000;\"/>\n    <path d=\"M 11.5,30 C 17,27 27,27 32.5,30\" style=\"fill:none; stroke:#000000;\"/>\n    <path d=\"M 11.5,33.5 C 17,30.5 27,30.5 32.5,33.5\" style=\"fill:none; stroke:#000000;\"/>\n    <path d=\"M 11.5,37 C 17,34 27,34 32.5,37\" style=\"fill:none; stroke:#000000;\"/>\n  </g>\n</svg>\n<text style=\"text-anchor:end;font-size:11px;fill: #a57551\" x=\"267\" y=\"357\">f</text>\n<rect height=\"45\" style=\"fill: #a57551\" width=\"45\" x=\"270\" y=\"315\"/>\n<text style=\"text-anchor:end;font-size:11px;fill: #ebd1a6\" x=\"312\" y=\"357\">g</text>\n<rect height=\"45\" style=\"fill: #ebd1a6\" width=\"45\" x=\"315\" y=\"315\"/>\n<text style=\"text-anchor:end;font-size:11px;fill: #a57551\" x=\"357\" y=\"357\">h</text>\n<rect height=\"45\" style=\"fill: #ebd1a6\" width=\"45\" x=\"0\" y=\"270\"/>\n<svg height=\"360\" version=\"1.1\" viewBox=\"0 -270 360 360\" width=\"360\" xmlns=\"http://www.w3.org/2000/svg\">\n  <path d=\"M 22,9 C 19.79,9 18,10.79 18,13 C 18,13.89 18.29,14.71 18.78,15.38 C 16.83,16.5 15.5,18.59 15.5,21 C 15.5,23.03 16.44,24.84 17.91,26.03 C 14.91,27.09 10.5,31.58 10.5,39.5 L 33.5,39.5 C 33.5,31.58 29.09,27.09 26.09,26.03 C 27.56,24.84 28.5,23.03 28.5,21 C 28.5,18.59 27.17,16.5 25.22,15.38 C 25.71,14.71 26,13.89 26,13 C 26,10.79 24.21,9 22,9 z \" style=\"opacity:1; fill:#ffffff; fill-opacity:1; fill-rule:nonzero; stroke:#000000; stroke-width:1.5; stroke-linecap:round; stroke-linejoin:miter; stroke-miterlimit:4; stroke-dasharray:none; stroke-opacity:1;\"/>\n</svg>\n<text style=\"font-size:11px;fill: #a57551\" x=\"2\" y=\"281\">2</text>\n<rect height=\"45\" style=\"fill: #a57551\" width=\"45\" x=\"45\" y=\"270\"/>\n<svg height=\"360\" version=\"1.1\" viewBox=\"-45 -270 360 360\" width=\"360\" xmlns=\"http://www.w3.org/2000/svg\">\n  <path d=\"M 22,9 C 19.79,9 18,10.79 18,13 C 18,13.89 18.29,14.71 18.78,15.38 C 16.83,16.5 15.5,18.59 15.5,21 C 15.5,23.03 16.44,24.84 17.91,26.03 C 14.91,27.09 10.5,31.58 10.5,39.5 L 33.5,39.5 C 33.5,31.58 29.09,27.09 26.09,26.03 C 27.56,24.84 28.5,23.03 28.5,21 C 28.5,18.59 27.17,16.5 25.22,15.38 C 25.71,14.71 26,13.89 26,13 C 26,10.79 24.21,9 22,9 z \" style=\"opacity:1; fill:#ffffff; fill-opacity:1; fill-rule:nonzero; stroke:#000000; stroke-width:1.5; stroke-linecap:round; stroke-linejoin:miter; stroke-miterlimit:4; stroke-dasharray:none; stroke-opacity:1;\"/>\n</svg>\n<rect height=\"45\" style=\"fill: #ebd1a6\" width=\"45\" x=\"90\" y=\"270\"/>\n<svg height=\"360\" version=\"1.1\" viewBox=\"-90 -270 360 360\" width=\"360\" xmlns=\"http://www.w3.org/2000/svg\">\n  <g style=\"opacity:1; fill:000000; fill-opacity:1; fill-rule:evenodd; stroke:#000000; stroke-width:1.5; stroke-linecap:round;stroke-linejoin:round;stroke-miterlimit:4; stroke-dasharray:none; stroke-opacity:1;\">\n    <g style=\"fill:#000000; stroke:none;\">\n      <circle cx=\"6\" cy=\"12\" r=\"2.75\"/>\n      <circle cx=\"14\" cy=\"9\" r=\"2.75\"/>\n      <circle cx=\"22.5\" cy=\"8\" r=\"2.75\"/>\n      <circle cx=\"31\" cy=\"9\" r=\"2.75\"/>\n      <circle cx=\"39\" cy=\"12\" r=\"2.75\"/>\n    </g>\n    <path d=\"M 9,26 C 17.5,24.5 30,24.5 36,26 L 38.5,13.5 L 31,25 L 30.7,10.9 L 25.5,24.5 L 22.5,10 L 19.5,24.5 L 14.3,10.9 L 14,25 L 6.5,13.5 L 9,26 z\" style=\"stroke-linecap:butt; stroke:#000000;\"/>\n    <path d=\"M 9,26 C 9,28 10.5,28 11.5,30 C 12.5,31.5 12.5,31 12,33.5 C 10.5,34.5 10.5,36 10.5,36 C 9,37.5 11,38.5 11,38.5 C 17.5,39.5 27.5,39.5 34,38.5 C 34,38.5 35.5,37.5 34,36 C 34,36 34.5,34.5 33,33.5 C 32.5,31 32.5,31.5 33.5,30 C 34.5,28 36,28 36,26 C 27.5,24.5 17.5,24.5 9,26 z\" style=\"stroke-linecap:butt;\"/>\n    <path d=\"M 11,38.5 A 35,35 1 0 0 34,38.5\" style=\"fill:none; stroke:#000000; stroke-linecap:butt;\"/>\n    <path d=\"M 11,29 A 35,35 1 0 1 34,29\" style=\"fill:none; stroke:#ffffff;\"/>\n    <path d=\"M 12.5,31.5 L 32.5,31.5\" style=\"fill:none; stroke:#ffffff;\"/>\n    <path d=\"M 11.5,34.5 A 35,35 1 0 0 33.5,34.5\" style=\"fill:none; stroke:#ffffff;\"/>\n    <path d=\"M 10.5,37.5 A 35,35 1 0 0 34.5,37.5\" style=\"fill:none; stroke:#ffffff;\"/>\n  </g>\n</svg>\n<rect height=\"45\" style=\"fill: #a57551\" width=\"45\" x=\"135\" y=\"270\"/>\n<rect height=\"45\" style=\"fill: #ebd1a6\" width=\"45\" x=\"180\" y=\"270\"/>\n<svg height=\"360\" version=\"1.1\" viewBox=\"-180 -270 360 360\" width=\"360\" xmlns=\"http://www.w3.org/2000/svg\">\n  <g style=\"opacity:1; fill:#ffffff; fill-opacity:1; fill-rule:evenodd; stroke:#000000; stroke-width:1.5; stroke-linecap:round;stroke-linejoin:round;stroke-miterlimit:4; stroke-dasharray:none; stroke-opacity:1;\">\n    <path d=\"M 9,39 L 36,39 L 36,36 L 9,36 L 9,39 z \" style=\"stroke-linecap:butt;\"/>\n    <path d=\"M 12,36 L 12,32 L 33,32 L 33,36 L 12,36 z \" style=\"stroke-linecap:butt;\"/>\n    <path d=\"M 11,14 L 11,9 L 15,9 L 15,11 L 20,11 L 20,9 L 25,9 L 25,11 L 30,11 L 30,9 L 34,9 L 34,14\" style=\"stroke-linecap:butt;\"/>\n    <path d=\"M 34,14 L 31,17 L 14,17 L 11,14\"/>\n    <path d=\"M 31,17 L 31,29.5 L 14,29.5 L 14,17\" style=\"stroke-linecap:butt; stroke-linejoin:miter;\"/>\n    <path d=\"M 31,29.5 L 32.5,32 L 12.5,32 L 14,29.5\"/>\n    <path d=\"M 11,14 L 34,14\" style=\"fill:none; stroke:#000000; stroke-linejoin:miter;\"/>\n  </g>\n</svg>\n<rect height=\"45\" style=\"fill: #a57551\" width=\"45\" x=\"225\" y=\"270\"/>\n<rect height=\"45\" style=\"fill: #ebd1a6\" width=\"45\" x=\"270\" y=\"270\"/>\n<rect height=\"45\" style=\"fill: #a57551\" width=\"45\" x=\"315\" y=\"270\"/>\n<rect height=\"45\" style=\"fill: #a57551\" width=\"45\" x=\"0\" y=\"225\"/>\n<text style=\"font-size:11px;fill: #ebd1a6\" x=\"2\" y=\"236\">3</text>\n<rect height=\"45\" style=\"fill: #ebd1a6\" width=\"45\" x=\"45\" y=\"225\"/>\n<rect height=\"45\" style=\"fill: #a57551\" width=\"45\" x=\"90\" y=\"225\"/>\n<rect height=\"45\" style=\"fill: #ebd1a6\" width=\"45\" x=\"135\" y=\"225\"/>\n<rect height=\"45\" style=\"fill: #a57551\" width=\"45\" x=\"180\" y=\"225\"/>\n<rect height=\"45\" style=\"fill: #ebd1a6\" width=\"45\" x=\"225\" y=\"225\"/>\n<svg height=\"360\" version=\"1.1\" viewBox=\"-225 -225 360 360\" width=\"360\" xmlns=\"http://www.w3.org/2000/svg\">\n  <path d=\"M 22,9 C 19.79,9 18,10.79 18,13 C 18,13.89 18.29,14.71 18.78,15.38 C 16.83,16.5 15.5,18.59 15.5,21 C 15.5,23.03 16.44,24.84 17.91,26.03 C 14.91,27.09 10.5,31.58 10.5,39.5 L 33.5,39.5 C 33.5,31.58 29.09,27.09 26.09,26.03 C 27.56,24.84 28.5,23.03 28.5,21 C 28.5,18.59 27.17,16.5 25.22,15.38 C 25.71,14.71 26,13.89 26,13 C 26,10.79 24.21,9 22,9 z \" style=\"opacity:1; fill:#ffffff; fill-opacity:1; fill-rule:nonzero; stroke:#000000; stroke-width:1.5; stroke-linecap:round; stroke-linejoin:miter; stroke-miterlimit:4; stroke-dasharray:none; stroke-opacity:1;\"/>\n</svg>\n<rect height=\"45\" style=\"fill: #a57551\" width=\"45\" x=\"270\" y=\"225\"/>\n<rect height=\"45\" style=\"fill: #ebd1a6\" width=\"45\" x=\"315\" y=\"225\"/>\n<rect height=\"45\" style=\"fill: #ebd1a6\" width=\"45\" x=\"0\" y=\"180\"/>\n<text style=\"font-size:11px;fill: #a57551\" x=\"2\" y=\"191\">4</text>\n<rect height=\"45\" style=\"fill: #a57551\" width=\"45\" x=\"45\" y=\"180\"/>\n<rect height=\"45\" style=\"fill: #ebd1a6\" width=\"45\" x=\"90\" y=\"180\"/>\n<rect height=\"45\" style=\"fill: #a57551\" width=\"45\" x=\"135\" y=\"180\"/>\n<rect height=\"45\" style=\"fill: #ebd1a6\" width=\"45\" x=\"180\" y=\"180\"/>\n<rect height=\"45\" style=\"fill: #a57551\" width=\"45\" x=\"225\" y=\"180\"/>\n<rect height=\"45\" style=\"fill: #ebd1a6\" width=\"45\" x=\"270\" y=\"180\"/>\n<svg height=\"360\" version=\"1.1\" viewBox=\"-270 -180 360 360\" width=\"360\" xmlns=\"http://www.w3.org/2000/svg\">\n  <path d=\"M 22,9 C 19.79,9 18,10.79 18,13 C 18,13.89 18.29,14.71 18.78,15.38 C 16.83,16.5 15.5,18.59 15.5,21 C 15.5,23.03 16.44,24.84 17.91,26.03 C 14.91,27.09 10.5,31.58 10.5,39.5 L 33.5,39.5 C 33.5,31.58 29.09,27.09 26.09,26.03 C 27.56,24.84 28.5,23.03 28.5,21 C 28.5,18.59 27.17,16.5 25.22,15.38 C 25.71,14.71 26,13.89 26,13 C 26,10.79 24.21,9 22,9 z \" style=\"opacity:1; fill:#ffffff; fill-opacity:1; fill-rule:nonzero; stroke:#000000; stroke-width:1.5; stroke-linecap:round; stroke-linejoin:miter; stroke-miterlimit:4; stroke-dasharray:none; stroke-opacity:1;\"/>\n</svg>\n<rect height=\"45\" style=\"fill: #a57551\" width=\"45\" x=\"315\" y=\"180\"/>\n<rect height=\"45\" style=\"fill: #a57551\" width=\"45\" x=\"0\" y=\"135\"/>\n<text style=\"font-size:11px;fill: #ebd1a6\" x=\"2\" y=\"146\">5</text>\n<rect height=\"45\" style=\"fill: #ebd1a6\" width=\"45\" x=\"45\" y=\"135\"/>\n<rect height=\"45\" style=\"fill: #a57551\" width=\"45\" x=\"90\" y=\"135\"/>\n<rect height=\"45\" style=\"fill: #ebd1a6\" width=\"45\" x=\"135\" y=\"135\"/>\n<svg height=\"360\" version=\"1.1\" viewBox=\"-135 -135 360 360\" width=\"360\" xmlns=\"http://www.w3.org/2000/svg\">\n  <path d=\"M 22,9 C 19.79,9 18,10.79 18,13 C 18,13.89 18.29,14.71 18.78,15.38 C 16.83,16.5 15.5,18.59 15.5,21 C 15.5,23.03 16.44,24.84 17.91,26.03 C 14.91,27.09 10.5,31.58 10.5,39.5 L 33.5,39.5 C 33.5,31.58 29.09,27.09 26.09,26.03 C 27.56,24.84 28.5,23.03 28.5,21 C 28.5,18.59 27.17,16.5 25.22,15.38 C 25.71,14.71 26,13.89 26,13 C 26,10.79 24.21,9 22,9 z \" style=\"opacity:1; fill:#000000; fill-opacity:1; fill-rule:nonzero; stroke:#000000; stroke-width:1.5; stroke-linecap:round; stroke-linejoin:miter; stroke-miterlimit:4; stroke-dasharray:none; stroke-opacity:1;\"/>\n</svg>\n<rect height=\"45\" style=\"fill: #a57551\" width=\"45\" x=\"180\" y=\"135\"/>\n<rect height=\"45\" style=\"fill: #ebd1a6\" width=\"45\" x=\"225\" y=\"135\"/>\n<rect height=\"45\" style=\"fill: #a57551\" width=\"45\" x=\"270\" y=\"135\"/>\n<rect height=\"45\" style=\"fill: #ebd1a6\" width=\"45\" x=\"315\" y=\"135\"/>\n<svg height=\"360\" version=\"1.1\" viewBox=\"-315 -135 360 360\" width=\"360\" xmlns=\"http://www.w3.org/2000/svg\">\n  <path d=\"M 22,9 C 19.79,9 18,10.79 18,13 C 18,13.89 18.29,14.71 18.78,15.38 C 16.83,16.5 15.5,18.59 15.5,21 C 15.5,23.03 16.44,24.84 17.91,26.03 C 14.91,27.09 10.5,31.58 10.5,39.5 L 33.5,39.5 C 33.5,31.58 29.09,27.09 26.09,26.03 C 27.56,24.84 28.5,23.03 28.5,21 C 28.5,18.59 27.17,16.5 25.22,15.38 C 25.71,14.71 26,13.89 26,13 C 26,10.79 24.21,9 22,9 z \" style=\"opacity:1; fill:#000000; fill-opacity:1; fill-rule:nonzero; stroke:#000000; stroke-width:1.5; stroke-linecap:round; stroke-linejoin:miter; stroke-miterlimit:4; stroke-dasharray:none; stroke-opacity:1;\"/>\n</svg>\n<rect height=\"45\" style=\"fill: #ebd1a6\" width=\"45\" x=\"0\" y=\"90\"/>\n<text style=\"font-size:11px;fill: #a57551\" x=\"2\" y=\"101\">6</text>\n<rect height=\"45\" style=\"fill: #a57551\" width=\"45\" x=\"45\" y=\"90\"/>\n<rect height=\"45\" style=\"fill: #ebd1a6\" width=\"45\" x=\"90\" y=\"90\"/>\n<rect height=\"45\" style=\"fill: #a57551\" width=\"45\" x=\"135\" y=\"90\"/>\n<rect height=\"45\" style=\"fill: #ebd1a6\" width=\"45\" x=\"180\" y=\"90\"/>\n<rect height=\"45\" style=\"fill: #a57551\" width=\"45\" x=\"225\" y=\"90\"/>\n<rect height=\"45\" style=\"fill: #ebd1a6\" width=\"45\" x=\"270\" y=\"90\"/>\n<svg height=\"360\" version=\"1.1\" viewBox=\"-270 -90 360 360\" width=\"360\" xmlns=\"http://www.w3.org/2000/svg\">\n  <path d=\"M 22,9 C 19.79,9 18,10.79 18,13 C 18,13.89 18.29,14.71 18.78,15.38 C 16.83,16.5 15.5,18.59 15.5,21 C 15.5,23.03 16.44,24.84 17.91,26.03 C 14.91,27.09 10.5,31.58 10.5,39.5 L 33.5,39.5 C 33.5,31.58 29.09,27.09 26.09,26.03 C 27.56,24.84 28.5,23.03 28.5,21 C 28.5,18.59 27.17,16.5 25.22,15.38 C 25.71,14.71 26,13.89 26,13 C 26,10.79 24.21,9 22,9 z \" style=\"opacity:1; fill:#000000; fill-opacity:1; fill-rule:nonzero; stroke:#000000; stroke-width:1.5; stroke-linecap:round; stroke-linejoin:miter; stroke-miterlimit:4; stroke-dasharray:none; stroke-opacity:1;\"/>\n</svg>\n<rect height=\"45\" style=\"fill: #a57551\" width=\"45\" x=\"315\" y=\"90\"/>\n<rect height=\"45\" style=\"fill: #a57551\" width=\"45\" x=\"0\" y=\"45\"/>\n<svg height=\"360\" version=\"1.1\" viewBox=\"0 -45 360 360\" width=\"360\" xmlns=\"http://www.w3.org/2000/svg\">\n  <path d=\"M 22,9 C 19.79,9 18,10.79 18,13 C 18,13.89 18.29,14.71 18.78,15.38 C 16.83,16.5 15.5,18.59 15.5,21 C 15.5,23.03 16.44,24.84 17.91,26.03 C 14.91,27.09 10.5,31.58 10.5,39.5 L 33.5,39.5 C 33.5,31.58 29.09,27.09 26.09,26.03 C 27.56,24.84 28.5,23.03 28.5,21 C 28.5,18.59 27.17,16.5 25.22,15.38 C 25.71,14.71 26,13.89 26,13 C 26,10.79 24.21,9 22,9 z \" style=\"opacity:1; fill:#000000; fill-opacity:1; fill-rule:nonzero; stroke:#000000; stroke-width:1.5; stroke-linecap:round; stroke-linejoin:miter; stroke-miterlimit:4; stroke-dasharray:none; stroke-opacity:1;\"/>\n</svg>\n<text style=\"font-size:11px;fill: #ebd1a6\" x=\"2\" y=\"56\">7</text>\n<rect height=\"45\" style=\"fill: #ebd1a6\" width=\"45\" x=\"45\" y=\"45\"/>\n<svg height=\"360\" version=\"1.1\" viewBox=\"-45 -45 360 360\" width=\"360\" xmlns=\"http://www.w3.org/2000/svg\">\n  <path d=\"M 22,9 C 19.79,9 18,10.79 18,13 C 18,13.89 18.29,14.71 18.78,15.38 C 16.83,16.5 15.5,18.59 15.5,21 C 15.5,23.03 16.44,24.84 17.91,26.03 C 14.91,27.09 10.5,31.58 10.5,39.5 L 33.5,39.5 C 33.5,31.58 29.09,27.09 26.09,26.03 C 27.56,24.84 28.5,23.03 28.5,21 C 28.5,18.59 27.17,16.5 25.22,15.38 C 25.71,14.71 26,13.89 26,13 C 26,10.79 24.21,9 22,9 z \" style=\"opacity:1; fill:#000000; fill-opacity:1; fill-rule:nonzero; stroke:#000000; stroke-width:1.5; stroke-linecap:round; stroke-linejoin:miter; stroke-miterlimit:4; stroke-dasharray:none; stroke-opacity:1;\"/>\n</svg>\n<rect height=\"45\" style=\"fill: #a57551\" width=\"45\" x=\"90\" y=\"45\"/>\n<rect height=\"45\" style=\"fill: #ebd1a6\" width=\"45\" x=\"135\" y=\"45\"/>\n<rect height=\"45\" style=\"fill: #a57551\" width=\"45\" x=\"180\" y=\"45\"/>\n<rect height=\"45\" style=\"fill: #ebd1a6\" width=\"45\" x=\"225\" y=\"45\"/>\n<svg height=\"360\" version=\"1.1\" viewBox=\"-225 -45 360 360\" width=\"360\" xmlns=\"http://www.w3.org/2000/svg\">\n  <g style=\"opacity:1; fill:#ffffff; fill-opacity:1; fill-rule:evenodd; stroke:#000000; stroke-width:1.5; stroke-linecap:round;stroke-linejoin:round;stroke-miterlimit:4; stroke-dasharray:none; stroke-opacity:1;\">\n    <path d=\"M 9 13 A 2 2 0 1 1  5,13 A 2 2 0 1 1  9 13 z\" transform=\"translate(-1,-1)\"/>\n    <path d=\"M 9 13 A 2 2 0 1 1  5,13 A 2 2 0 1 1  9 13 z\" transform=\"translate(15.5,-5.5)\"/>\n    <path d=\"M 9 13 A 2 2 0 1 1  5,13 A 2 2 0 1 1  9 13 z\" transform=\"translate(32,-1)\"/>\n    <path d=\"M 9 13 A 2 2 0 1 1  5,13 A 2 2 0 1 1  9 13 z\" transform=\"translate(7,-4.5)\"/>\n    <path d=\"M 9 13 A 2 2 0 1 1  5,13 A 2 2 0 1 1  9 13 z\" transform=\"translate(24,-4)\"/>\n    <path d=\"M 9,26 C 17.5,24.5 30,24.5 36,26 L 38,14 L 31,25 L 31,11 L 25.5,24.5 L 22.5,9.5 L 19.5,24.5 L 14,10.5 L 14,25 L 7,14 L 9,26 z \" style=\"stroke-linecap:butt;\"/>\n    <path d=\"M 9,26 C 9,28 10.5,28 11.5,30 C 12.5,31.5 12.5,31 12,33.5 C 10.5,34.5 10.5,36 10.5,36 C 9,37.5 11,38.5 11,38.5 C 17.5,39.5 27.5,39.5 34,38.5 C 34,38.5 35.5,37.5 34,36 C 34,36 34.5,34.5 33,33.5 C 32.5,31 32.5,31.5 33.5,30 C 34.5,28 36,28 36,26 C 27.5,24.5 17.5,24.5 9,26 z \" style=\"stroke-linecap:butt;\"/>\n    <path d=\"M 11.5,30 C 15,29 30,29 33.5,30\" style=\"fill:none;\"/>\n    <path d=\"M 12,33.5 C 18,32.5 27,32.5 33,33.5\" style=\"fill:none;\"/>\n  </g>\n</svg>\n<rect height=\"45\" style=\"fill: #a57551\" width=\"45\" x=\"270\" y=\"45\"/>\n<rect height=\"45\" style=\"fill: #ebd1a6\" width=\"45\" x=\"315\" y=\"45\"/>\n<rect height=\"45\" style=\"fill: #ebd1a6\" width=\"45\" x=\"0\" y=\"0\"/>\n<text style=\"font-size:11px;fill: #a57551\" x=\"2\" y=\"11\">8</text>\n<rect height=\"45\" style=\"fill: #a57551\" width=\"45\" x=\"45\" y=\"0\"/>\n<rect height=\"45\" style=\"fill: #ebd1a6\" width=\"45\" x=\"90\" y=\"0\"/>\n<rect height=\"45\" style=\"fill: #a57551\" width=\"45\" x=\"135\" y=\"0\"/>\n<rect height=\"45\" style=\"fill: #ebd1a6\" width=\"45\" x=\"180\" y=\"0\"/>\n<rect height=\"45\" style=\"fill: #a57551\" width=\"45\" x=\"225\" y=\"0\"/>\n<rect height=\"45\" style=\"fill: #ebd1a6\" width=\"45\" x=\"270\" y=\"0\"/>\n<rect height=\"45\" style=\"fill: #a57551\" width=\"45\" x=\"315\" y=\"0\"/>\n<svg height=\"360\" version=\"1.1\" viewBox=\"-315 0 360 360\" width=\"360\" xmlns=\"http://www.w3.org/2000/svg\">\n  <g style=\"fill:none; fill-opacity:1; fill-rule:evenodd; stroke:#000000; stroke-width:1.5; stroke-linecap:round;stroke-linejoin:round;stroke-miterlimit:4; stroke-dasharray:none; stroke-opacity:1;\">\n    <path d=\"M 22.5,11.63 L 22.5,6\" id=\"path6570\" style=\"fill:none; stroke:#000000; stroke-linejoin:miter;\"/>\n    <path d=\"M 22.5,25 C 22.5,25 27,17.5 25.5,14.5 C 25.5,14.5 24.5,12 22.5,12 C 20.5,12 19.5,14.5 19.5,14.5 C 18,17.5 22.5,25 22.5,25\" style=\"fill:#000000;fill-opacity:1; stroke-linecap:butt; stroke-linejoin:miter;\"/>\n    <path d=\"M 11.5,37 C 17,40.5 27,40.5 32.5,37 L 32.5,30 C 32.5,30 41.5,25.5 38.5,19.5 C 34.5,13 25,16 22.5,23.5 L 22.5,27 L 22.5,23.5 C 19,16 9.5,13 6.5,19.5 C 3.5,25.5 11.5,29.5 11.5,29.5 L 11.5,37 z \" style=\"fill:#000000; stroke:#000000;\"/>\n    <path d=\"M 20,8 L 25,8\" style=\"fill:none; stroke:#000000; stroke-linejoin:miter;\"/>\n    <path d=\"M 32,29.5 C 32,29.5 40.5,25.5 38.03,19.85 C 34.15,14 25,18 22.5,24.5 L 22.51,26.6 L 22.5,24.5 C 20,18 9.906,14 6.997,19.85 C 4.5,25.5 11.85,28.85 11.85,28.85\" style=\"fill:none; stroke:#ffffff;\"/>\n    <path d=\"M 11.5,30 C 17,27 27,27 32.5,30 M 11.5,33.5 C 17,30.5 27,30.5 32.5,33.5 M 11.5,37 C 17,34 27,34 32.5,37\" style=\"fill:none; stroke:#ffffff;\"/>\n  </g>\n</svg>\n</svg>"
          },
          "metadata": {}
        }
      ]
    },
    {
      "cell_type": "code",
      "metadata": {
        "id": "dFJ5Vhr7xw3G",
        "colab": {
          "base_uri": "https://localhost:8080/"
        },
        "outputId": "d575e659-fd7d-45b0-ecce-abd2bffa6d5f"
      },
      "source": [
        "!pip install chess\n",
        "import chess\n",
        "\n",
        "MATERIAL_LOOKUP = {chess.KING:0,chess.QUEEN:9,chess.ROOK:5,chess.BISHOP:3,chess.KNIGHT:3,chess.PAWN:1}\n",
        "\n",
        "def avg(lst):\n",
        "    return sum(lst) / len(lst)\n",
        "\n",
        "def material_for_board(board):\n",
        "  eval = 0.0\n",
        "  for sq, piece in board.piece_map().items():\n",
        "    mat = MATERIAL_LOOKUP[piece.piece_type] \n",
        "    if piece.color == chess.BLACK:\n",
        "      mat = mat * -1\n",
        "    eval += mat\n",
        "  return eval\n",
        "  \n",
        "def guess_zero_loss(idx):\n",
        "  eval = Evaluations.select().where(Evaluations.id == idx+1).get()\n",
        "  y = torch.tensor(eval.eval)\n",
        "  y_hat = torch.zeros_like(y)\n",
        "  loss = F.l1_loss(y_hat, y)\n",
        "  return loss\n",
        "\n",
        "def guess_material_loss(idx):\n",
        "  eval = Evaluations.select().where(Evaluations.id == idx+1).get()\n",
        "  board = chess.Board(eval.fen)\n",
        "  y = torch.tensor(eval.eval)\n",
        "  y_hat = torch.tensor(material_for_board(board))\n",
        "  loss = F.l1_loss(y_hat, y)\n",
        "  return loss\n",
        "\n",
        "def guess_model_loss(idx):\n",
        "  eval = Evaluations.select().where(Evaluations.id == idx+1).get()\n",
        "  batch = dataset[idx]\n",
        "  x, y = torch.tensor(batch['binary']), torch.tensor(batch['eval'])\n",
        "  y_hat = model(x)\n",
        "  # print(y_hat)\n",
        "  loss = F.l1_loss(y_hat, y)\n",
        "  return loss\n",
        "\n",
        "zero_losses = []\n",
        "mat_losses = []\n",
        "model_losses = []\n",
        "for i in range(100000):\n",
        "  idx = randrange(LABEL_COUNT)\n",
        "  zero_losses.append(guess_zero_loss(idx))\n",
        "  mat_losses.append(guess_material_loss(idx))\n",
        "  model_losses.append(guess_model_loss(idx))\n",
        "print(f'Guess Zero Avg Loss {avg(zero_losses)}')\n",
        "print(f'Guess Material Avg Loss {avg(mat_losses)}')\n",
        "print(f'Guess Model Avg Loss {avg(model_losses)}')"
      ],
      "execution_count": null,
      "outputs": [
        {
          "output_type": "stream",
          "name": "stdout",
          "text": [
            "Looking in indexes: https://pypi.org/simple, https://us-python.pkg.dev/colab-wheels/public/simple/\n",
            "Collecting chess\n",
            "  Downloading chess-1.9.3-py3-none-any.whl (148 kB)\n",
            "\u001b[?25l\r\u001b[K     |██▏                             | 10 kB 23.4 MB/s eta 0:00:01\r\u001b[K     |████▍                           | 20 kB 9.5 MB/s eta 0:00:01\r\u001b[K     |██████▋                         | 30 kB 13.5 MB/s eta 0:00:01\r\u001b[K     |████████▉                       | 40 kB 6.7 MB/s eta 0:00:01\r\u001b[K     |███████████                     | 51 kB 6.6 MB/s eta 0:00:01\r\u001b[K     |█████████████▎                  | 61 kB 7.8 MB/s eta 0:00:01\r\u001b[K     |███████████████▌                | 71 kB 8.3 MB/s eta 0:00:01\r\u001b[K     |█████████████████▋              | 81 kB 9.3 MB/s eta 0:00:01\r\u001b[K     |███████████████████▉            | 92 kB 7.0 MB/s eta 0:00:01\r\u001b[K     |██████████████████████          | 102 kB 7.5 MB/s eta 0:00:01\r\u001b[K     |████████████████████████▎       | 112 kB 7.5 MB/s eta 0:00:01\r\u001b[K     |██████████████████████████▌     | 122 kB 7.5 MB/s eta 0:00:01\r\u001b[K     |████████████████████████████▊   | 133 kB 7.5 MB/s eta 0:00:01\r\u001b[K     |███████████████████████████████ | 143 kB 7.5 MB/s eta 0:00:01\r\u001b[K     |████████████████████████████████| 148 kB 7.5 MB/s \n",
            "\u001b[?25hInstalling collected packages: chess\n",
            "Successfully installed chess-1.9.3\n",
            "Guess Zero Avg Loss 6.52910041809082\n",
            "Guess Material Avg Loss 4.730602264404297\n",
            "Guess Model Avg Loss 2.9359211921691895\n"
          ]
        }
      ]
    }
  ]
}